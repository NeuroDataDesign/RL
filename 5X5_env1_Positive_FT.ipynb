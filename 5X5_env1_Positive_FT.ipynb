{
  "nbformat": 4,
  "nbformat_minor": 0,
  "metadata": {
    "colab": {
      "name": "5X5_Positive_FT.ipynb",
      "provenance": []
    },
    "kernelspec": {
      "name": "python3",
      "display_name": "Python 3"
    },
    "language_info": {
      "name": "python"
    }
  },
  "cells": [
    {
      "cell_type": "code",
      "metadata": {
        "id": "l_tEZNoK2ONm"
      },
      "source": [
        "import gym\n",
        "import numpy as np\n",
        "import random\n",
        "import torch\n",
        "import time\n",
        "import matplotlib.pyplot as plt"
      ],
      "execution_count": 1,
      "outputs": []
    },
    {
      "cell_type": "code",
      "metadata": {
        "id": "mMnc8D9P2QcC"
      },
      "source": [
        "map_5x5 = [\n",
        "    'SFFFF',\n",
        "    'FHFHF',\n",
        "    'HFFHF',\n",
        "    'HFFFH',\n",
        "    'FFFFG'\n",
        "]"
      ],
      "execution_count": 2,
      "outputs": []
    },
    {
      "cell_type": "code",
      "metadata": {
        "colab": {
          "base_uri": "https://localhost:8080/"
        },
        "id": "lYArAdQ12ULH",
        "outputId": "519c2807-714d-44a3-c12d-e5881ade5580"
      },
      "source": [
        "env = gym.make('FrozenLake-v0', is_slippery=False, desc = map_5x5)\n",
        "\n",
        "\n",
        "# visualize 5x5 frozen lake\n",
        "env.render()"
      ],
      "execution_count": 3,
      "outputs": [
        {
          "output_type": "stream",
          "text": [
            "\n",
            "\u001b[41mS\u001b[0mFFFF\n",
            "FHFHF\n",
            "HFFHf\n",
            "HFFFH\n",
            "FFFFG\n"
          ],
          "name": "stdout"
        }
      ]
    },
    {
      "cell_type": "code",
      "metadata": {
        "colab": {
          "base_uri": "https://localhost:8080/"
        },
        "id": "dudrQz2c2YAm",
        "outputId": "dca1084e-46fc-4553-ee6f-07b39e21b811"
      },
      "source": [
        "# Total number of States and Actions\n",
        "n_states = env.observation_space.n\n",
        "n_actions = env.action_space.n\n",
        "n_rows = 5\n",
        "n_cols = 5\n",
        "print( \"States = \", n_states)\n",
        "print( \"Actions = \", n_actions)"
      ],
      "execution_count": 4,
      "outputs": [
        {
          "output_type": "stream",
          "text": [
            "States =  25\n",
            "Actions =  4\n"
          ],
          "name": "stdout"
        }
      ]
    },
    {
      "cell_type": "code",
      "metadata": {
        "id": "kUjya1iK2aO0"
      },
      "source": [
        "import pandas as pd"
      ],
      "execution_count": 5,
      "outputs": []
    },
    {
      "cell_type": "code",
      "metadata": {
        "colab": {
          "base_uri": "https://localhost:8080/",
          "height": 787
        },
        "id": "5qdQh7tp2b_W",
        "outputId": "19d59bae-c289-4f33-bbd3-7e3e0b4c9271"
      },
      "source": [
        "Q = pd.read_excel( '/content/5x5.xlsx', index_col=0, header=0)\n",
        "Q"
      ],
      "execution_count": 7,
      "outputs": [
        {
          "output_type": "execute_result",
          "data": {
            "text/html": [
              "<div>\n",
              "<style scoped>\n",
              "    .dataframe tbody tr th:only-of-type {\n",
              "        vertical-align: middle;\n",
              "    }\n",
              "\n",
              "    .dataframe tbody tr th {\n",
              "        vertical-align: top;\n",
              "    }\n",
              "\n",
              "    .dataframe thead th {\n",
              "        text-align: right;\n",
              "    }\n",
              "</style>\n",
              "<table border=\"1\" class=\"dataframe\">\n",
              "  <thead>\n",
              "    <tr style=\"text-align: right;\">\n",
              "      <th></th>\n",
              "      <th>0</th>\n",
              "      <th>1</th>\n",
              "      <th>2</th>\n",
              "      <th>3</th>\n",
              "    </tr>\n",
              "  </thead>\n",
              "  <tbody>\n",
              "    <tr>\n",
              "      <th>0</th>\n",
              "      <td>0.546367</td>\n",
              "      <td>0.481544</td>\n",
              "      <td>0.590749</td>\n",
              "      <td>0.579091</td>\n",
              "    </tr>\n",
              "    <tr>\n",
              "      <th>1</th>\n",
              "      <td>0.630372</td>\n",
              "      <td>0.245025</td>\n",
              "      <td>0.656378</td>\n",
              "      <td>0.315030</td>\n",
              "    </tr>\n",
              "    <tr>\n",
              "      <th>2</th>\n",
              "      <td>0.696752</td>\n",
              "      <td>0.729161</td>\n",
              "      <td>0.317190</td>\n",
              "      <td>0.704421</td>\n",
              "    </tr>\n",
              "    <tr>\n",
              "      <th>3</th>\n",
              "      <td>0.014811</td>\n",
              "      <td>0.013808</td>\n",
              "      <td>0.014885</td>\n",
              "      <td>0.015170</td>\n",
              "    </tr>\n",
              "    <tr>\n",
              "      <th>4</th>\n",
              "      <td>0.000000</td>\n",
              "      <td>0.000000</td>\n",
              "      <td>0.000000</td>\n",
              "      <td>0.000000</td>\n",
              "    </tr>\n",
              "    <tr>\n",
              "      <th>5</th>\n",
              "      <td>0.016387</td>\n",
              "      <td>0.014824</td>\n",
              "      <td>0.013485</td>\n",
              "      <td>0.526585</td>\n",
              "    </tr>\n",
              "    <tr>\n",
              "      <th>6</th>\n",
              "      <td>0.000000</td>\n",
              "      <td>0.000000</td>\n",
              "      <td>0.000000</td>\n",
              "      <td>0.000000</td>\n",
              "    </tr>\n",
              "    <tr>\n",
              "      <th>7</th>\n",
              "      <td>0.187726</td>\n",
              "      <td>0.810205</td>\n",
              "      <td>0.189746</td>\n",
              "      <td>0.740896</td>\n",
              "    </tr>\n",
              "    <tr>\n",
              "      <th>8</th>\n",
              "      <td>0.000000</td>\n",
              "      <td>0.000000</td>\n",
              "      <td>0.000000</td>\n",
              "      <td>0.000000</td>\n",
              "    </tr>\n",
              "    <tr>\n",
              "      <th>9</th>\n",
              "      <td>0.000000</td>\n",
              "      <td>0.000000</td>\n",
              "      <td>0.000000</td>\n",
              "      <td>0.000000</td>\n",
              "    </tr>\n",
              "    <tr>\n",
              "      <th>10</th>\n",
              "      <td>0.015529</td>\n",
              "      <td>0.005166</td>\n",
              "      <td>0.013922</td>\n",
              "      <td>0.015507</td>\n",
              "    </tr>\n",
              "    <tr>\n",
              "      <th>11</th>\n",
              "      <td>0.014288</td>\n",
              "      <td>0.013589</td>\n",
              "      <td>0.730615</td>\n",
              "      <td>0.010453</td>\n",
              "    </tr>\n",
              "    <tr>\n",
              "      <th>12</th>\n",
              "      <td>0.165677</td>\n",
              "      <td>0.900021</td>\n",
              "      <td>0.065241</td>\n",
              "      <td>0.831778</td>\n",
              "    </tr>\n",
              "    <tr>\n",
              "      <th>13</th>\n",
              "      <td>0.000000</td>\n",
              "      <td>0.000000</td>\n",
              "      <td>0.000000</td>\n",
              "      <td>0.000000</td>\n",
              "    </tr>\n",
              "    <tr>\n",
              "      <th>14</th>\n",
              "      <td>0.000000</td>\n",
              "      <td>0.000000</td>\n",
              "      <td>0.000000</td>\n",
              "      <td>0.000000</td>\n",
              "    </tr>\n",
              "    <tr>\n",
              "      <th>15</th>\n",
              "      <td>0.000000</td>\n",
              "      <td>0.000000</td>\n",
              "      <td>0.000000</td>\n",
              "      <td>0.000000</td>\n",
              "    </tr>\n",
              "    <tr>\n",
              "      <th>16</th>\n",
              "      <td>0.010774</td>\n",
              "      <td>0.013947</td>\n",
              "      <td>0.883248</td>\n",
              "      <td>0.013963</td>\n",
              "    </tr>\n",
              "    <tr>\n",
              "      <th>17</th>\n",
              "      <td>0.770187</td>\n",
              "      <td>0.945455</td>\n",
              "      <td>1.000041</td>\n",
              "      <td>0.950122</td>\n",
              "    </tr>\n",
              "    <tr>\n",
              "      <th>18</th>\n",
              "      <td>0.000000</td>\n",
              "      <td>0.000000</td>\n",
              "      <td>0.000000</td>\n",
              "      <td>0.000000</td>\n",
              "    </tr>\n",
              "    <tr>\n",
              "      <th>19</th>\n",
              "      <td>0.000000</td>\n",
              "      <td>0.000000</td>\n",
              "      <td>0.000000</td>\n",
              "      <td>0.000000</td>\n",
              "    </tr>\n",
              "    <tr>\n",
              "      <th>20</th>\n",
              "      <td>0.000000</td>\n",
              "      <td>0.000000</td>\n",
              "      <td>0.000000</td>\n",
              "      <td>0.000000</td>\n",
              "    </tr>\n",
              "    <tr>\n",
              "      <th>21</th>\n",
              "      <td>0.000000</td>\n",
              "      <td>0.000000</td>\n",
              "      <td>0.000000</td>\n",
              "      <td>0.000000</td>\n",
              "    </tr>\n",
              "    <tr>\n",
              "      <th>22</th>\n",
              "      <td>0.000000</td>\n",
              "      <td>0.000000</td>\n",
              "      <td>0.000000</td>\n",
              "      <td>0.000000</td>\n",
              "    </tr>\n",
              "    <tr>\n",
              "      <th>23</th>\n",
              "      <td>0.000000</td>\n",
              "      <td>0.000000</td>\n",
              "      <td>0.000000</td>\n",
              "      <td>0.000000</td>\n",
              "    </tr>\n",
              "    <tr>\n",
              "      <th>24</th>\n",
              "      <td>0.000000</td>\n",
              "      <td>0.000000</td>\n",
              "      <td>0.000000</td>\n",
              "      <td>0.000000</td>\n",
              "    </tr>\n",
              "  </tbody>\n",
              "</table>\n",
              "</div>"
            ],
            "text/plain": [
              "           0         1         2         3\n",
              "0   0.546367  0.481544  0.590749  0.579091\n",
              "1   0.630372  0.245025  0.656378  0.315030\n",
              "2   0.696752  0.729161  0.317190  0.704421\n",
              "3   0.014811  0.013808  0.014885  0.015170\n",
              "4   0.000000  0.000000  0.000000  0.000000\n",
              "5   0.016387  0.014824  0.013485  0.526585\n",
              "6   0.000000  0.000000  0.000000  0.000000\n",
              "7   0.187726  0.810205  0.189746  0.740896\n",
              "8   0.000000  0.000000  0.000000  0.000000\n",
              "9   0.000000  0.000000  0.000000  0.000000\n",
              "10  0.015529  0.005166  0.013922  0.015507\n",
              "11  0.014288  0.013589  0.730615  0.010453\n",
              "12  0.165677  0.900021  0.065241  0.831778\n",
              "13  0.000000  0.000000  0.000000  0.000000\n",
              "14  0.000000  0.000000  0.000000  0.000000\n",
              "15  0.000000  0.000000  0.000000  0.000000\n",
              "16  0.010774  0.013947  0.883248  0.013963\n",
              "17  0.770187  0.945455  1.000041  0.950122\n",
              "18  0.000000  0.000000  0.000000  0.000000\n",
              "19  0.000000  0.000000  0.000000  0.000000\n",
              "20  0.000000  0.000000  0.000000  0.000000\n",
              "21  0.000000  0.000000  0.000000  0.000000\n",
              "22  0.000000  0.000000  0.000000  0.000000\n",
              "23  0.000000  0.000000  0.000000  0.000000\n",
              "24  0.000000  0.000000  0.000000  0.000000"
            ]
          },
          "metadata": {
            "tags": []
          },
          "execution_count": 7
        }
      ]
    },
    {
      "cell_type": "code",
      "metadata": {
        "id": "RaWXN1ig2mnf"
      },
      "source": [
        "# Start with 80% random actions to explore the environment\n",
        "# exploration decays with each timestep by a factor of 0.999 until it hits 10% exploration rate \n",
        "\n",
        "epsilon = 0.80\n",
        "epsilon_final = 0.1\n",
        "epsilon_decay = 0.999\n",
        "\n",
        "gamma = 0.90 # discount factor\n",
        "learning_rate = 0.9 #how important is the difference between q-val from q-table and what's observed"
      ],
      "execution_count": 8,
      "outputs": []
    },
    {
      "cell_type": "code",
      "metadata": {
        "id": "iSmVZjsa2tG0"
      },
      "source": [
        "num_episodes = 1000\n",
        "steps_total = [] # store number of steps taken in each episode\n",
        "rewards_total = [] #store reward obtained for each episode\n",
        "epsilon_total = [] #store epsilon obtained at the end of each episode"
      ],
      "execution_count": 9,
      "outputs": []
    },
    {
      "cell_type": "code",
      "metadata": {
        "colab": {
          "base_uri": "https://localhost:8080/"
        },
        "id": "4TvknjbA2vOv",
        "outputId": "5208a397-6e9e-44c3-d685-20c6f7fabc18"
      },
      "source": [
        "for i_episode in range(num_episodes):\n",
        "    \n",
        "    # resets the environment\n",
        "    state = env.reset()\n",
        "    step = 0\n",
        "\n",
        "    while True:\n",
        "        \n",
        "        step += 1\n",
        "        \n",
        "        \n",
        "        ## generating a random num\n",
        "        random_for_epsilon = np.random.rand()\n",
        "        \n",
        "        ## if random num lesser or equal to epsilon, then select random action\n",
        "        if random_for_epsilon <= epsilon:     \n",
        "            action = env.action_space.sample() #choose_random_action(state)\n",
        "        \n",
        "        ## else update q-vals for given state with infitismly small random nums and select argmax(a) for Q(s,a)\n",
        "        else: \n",
        "           Q.loc[state] += np.random.rand(n_actions,)/1000\n",
        "           action =  np.argmax(Q.loc[state]) #choose_max_action(state, Q)  #np.argmax(Q.loc[state])    \n",
        "        \n",
        "        \n",
        "        ## as epsilon decays with more timesteps, the prob. of selecting a random val < e decays --> more likely to exploit.     \n",
        "        if epsilon > epsilon_final:\n",
        "            epsilon *= epsilon_decay\n",
        "        \n",
        "        ## env gives reward and next state and whether we've reached terminal state upon taking a at current state.. \n",
        "        new_state, reward, done, info = env.step(action)\n",
        "        \n",
        "        ##if you want reward penalized at for each timestep\n",
        "        ## reward= reward*(0.9**step) \n",
        "\n",
        "        # filling the Q Table - \n",
        "        Q.loc[state][action] = (1- learning_rate)*Q.loc[state][action] + learning_rate*(reward + gamma * np.max(Q.loc[new_state]))\n",
        "        \n",
        "        # Setting new state for next action\n",
        "        state = new_state\n",
        "        \n",
        "        # env.render()\n",
        "        \n",
        "        if done:\n",
        "            steps_total.append(step)\n",
        "            rewards_total.append(reward)\n",
        "            epsilon_total.append(epsilon)\n",
        "            if i_episode % 10 == 0:\n",
        "                print('Episode: {} Reward: {} Steps Taken: {} Epsilon {}'.format(i_episode,reward, step, epsilon))\n",
        "            break\n",
        "\n"
      ],
      "execution_count": 10,
      "outputs": [
        {
          "output_type": "stream",
          "text": [
            "Episode: 0 Reward: 0.0 Steps Taken: 5 Epsilon 0.7960079920039992\n",
            "Episode: 10 Reward: 0.0 Steps Taken: 5 Epsilon 0.7052474157954521\n",
            "Episode: 20 Reward: 1.0 Steps Taken: 15 Epsilon 0.6323823208350808\n",
            "Episode: 30 Reward: 0.0 Steps Taken: 6 Epsilon 0.6009240971278791\n",
            "Episode: 40 Reward: 0.0 Steps Taken: 2 Epsilon 0.5541459530690247\n",
            "Episode: 50 Reward: 1.0 Steps Taken: 10 Epsilon 0.5182172639986207\n",
            "Episode: 60 Reward: 1.0 Steps Taken: 14 Epsilon 0.474542201765333\n",
            "Episode: 70 Reward: 0.0 Steps Taken: 9 Epsilon 0.42936205763132274\n",
            "Episode: 80 Reward: 1.0 Steps Taken: 13 Epsilon 0.38887229030370796\n",
            "Episode: 90 Reward: 0.0 Steps Taken: 14 Epsilon 0.3564548051811352\n",
            "Episode: 100 Reward: 1.0 Steps Taken: 10 Epsilon 0.31994638091242394\n",
            "Episode: 110 Reward: 0.0 Steps Taken: 7 Epsilon 0.2926884967409928\n",
            "Episode: 120 Reward: 1.0 Steps Taken: 11 Epsilon 0.2688265467657796\n",
            "Episode: 130 Reward: 1.0 Steps Taken: 10 Epsilon 0.24056993253144524\n",
            "Episode: 140 Reward: 1.0 Steps Taken: 10 Epsilon 0.22095704114854384\n",
            "Episode: 150 Reward: 1.0 Steps Taken: 8 Epsilon 0.20436942697584212\n",
            "Episode: 160 Reward: 1.0 Steps Taken: 12 Epsilon 0.1852822318192774\n",
            "Episode: 170 Reward: 1.0 Steps Taken: 8 Epsilon 0.17188793348380063\n",
            "Episode: 180 Reward: 0.0 Steps Taken: 2 Epsilon 0.16252221437443676\n",
            "Episode: 190 Reward: 1.0 Steps Taken: 11 Epsilon 0.1491230296487139\n",
            "Episode: 200 Reward: 1.0 Steps Taken: 10 Epsilon 0.13765239641181404\n",
            "Episode: 210 Reward: 1.0 Steps Taken: 10 Epsilon 0.12668327998232104\n",
            "Episode: 220 Reward: 1.0 Steps Taken: 8 Epsilon 0.11589047725591577\n",
            "Episode: 230 Reward: 1.0 Steps Taken: 11 Epsilon 0.10601716912033063\n",
            "Episode: 240 Reward: 1.0 Steps Taken: 8 Epsilon 0.09994015273159322\n",
            "Episode: 250 Reward: 1.0 Steps Taken: 8 Epsilon 0.09994015273159322\n",
            "Episode: 260 Reward: 1.0 Steps Taken: 8 Epsilon 0.09994015273159322\n",
            "Episode: 270 Reward: 1.0 Steps Taken: 9 Epsilon 0.09994015273159322\n",
            "Episode: 280 Reward: 0.0 Steps Taken: 2 Epsilon 0.09994015273159322\n",
            "Episode: 290 Reward: 0.0 Steps Taken: 5 Epsilon 0.09994015273159322\n",
            "Episode: 300 Reward: 1.0 Steps Taken: 9 Epsilon 0.09994015273159322\n",
            "Episode: 310 Reward: 1.0 Steps Taken: 8 Epsilon 0.09994015273159322\n",
            "Episode: 320 Reward: 1.0 Steps Taken: 8 Epsilon 0.09994015273159322\n",
            "Episode: 330 Reward: 1.0 Steps Taken: 9 Epsilon 0.09994015273159322\n",
            "Episode: 340 Reward: 1.0 Steps Taken: 8 Epsilon 0.09994015273159322\n",
            "Episode: 350 Reward: 1.0 Steps Taken: 10 Epsilon 0.09994015273159322\n",
            "Episode: 360 Reward: 1.0 Steps Taken: 8 Epsilon 0.09994015273159322\n",
            "Episode: 370 Reward: 1.0 Steps Taken: 10 Epsilon 0.09994015273159322\n",
            "Episode: 380 Reward: 1.0 Steps Taken: 10 Epsilon 0.09994015273159322\n",
            "Episode: 390 Reward: 1.0 Steps Taken: 11 Epsilon 0.09994015273159322\n",
            "Episode: 400 Reward: 1.0 Steps Taken: 8 Epsilon 0.09994015273159322\n",
            "Episode: 410 Reward: 1.0 Steps Taken: 10 Epsilon 0.09994015273159322\n",
            "Episode: 420 Reward: 1.0 Steps Taken: 8 Epsilon 0.09994015273159322\n",
            "Episode: 430 Reward: 1.0 Steps Taken: 12 Epsilon 0.09994015273159322\n",
            "Episode: 440 Reward: 1.0 Steps Taken: 10 Epsilon 0.09994015273159322\n",
            "Episode: 450 Reward: 1.0 Steps Taken: 11 Epsilon 0.09994015273159322\n",
            "Episode: 460 Reward: 1.0 Steps Taken: 9 Epsilon 0.09994015273159322\n",
            "Episode: 470 Reward: 1.0 Steps Taken: 13 Epsilon 0.09994015273159322\n",
            "Episode: 480 Reward: 1.0 Steps Taken: 8 Epsilon 0.09994015273159322\n",
            "Episode: 490 Reward: 0.0 Steps Taken: 2 Epsilon 0.09994015273159322\n",
            "Episode: 500 Reward: 1.0 Steps Taken: 8 Epsilon 0.09994015273159322\n",
            "Episode: 510 Reward: 1.0 Steps Taken: 8 Epsilon 0.09994015273159322\n",
            "Episode: 520 Reward: 1.0 Steps Taken: 8 Epsilon 0.09994015273159322\n",
            "Episode: 530 Reward: 1.0 Steps Taken: 8 Epsilon 0.09994015273159322\n",
            "Episode: 540 Reward: 1.0 Steps Taken: 10 Epsilon 0.09994015273159322\n",
            "Episode: 550 Reward: 1.0 Steps Taken: 11 Epsilon 0.09994015273159322\n",
            "Episode: 560 Reward: 1.0 Steps Taken: 8 Epsilon 0.09994015273159322\n",
            "Episode: 570 Reward: 1.0 Steps Taken: 8 Epsilon 0.09994015273159322\n",
            "Episode: 580 Reward: 1.0 Steps Taken: 10 Epsilon 0.09994015273159322\n",
            "Episode: 590 Reward: 1.0 Steps Taken: 9 Epsilon 0.09994015273159322\n",
            "Episode: 600 Reward: 1.0 Steps Taken: 8 Epsilon 0.09994015273159322\n",
            "Episode: 610 Reward: 1.0 Steps Taken: 9 Epsilon 0.09994015273159322\n",
            "Episode: 620 Reward: 1.0 Steps Taken: 10 Epsilon 0.09994015273159322\n",
            "Episode: 630 Reward: 1.0 Steps Taken: 8 Epsilon 0.09994015273159322\n",
            "Episode: 640 Reward: 1.0 Steps Taken: 8 Epsilon 0.09994015273159322\n",
            "Episode: 650 Reward: 1.0 Steps Taken: 8 Epsilon 0.09994015273159322\n",
            "Episode: 660 Reward: 1.0 Steps Taken: 9 Epsilon 0.09994015273159322\n",
            "Episode: 670 Reward: 1.0 Steps Taken: 10 Epsilon 0.09994015273159322\n",
            "Episode: 680 Reward: 1.0 Steps Taken: 8 Epsilon 0.09994015273159322\n",
            "Episode: 690 Reward: 1.0 Steps Taken: 10 Epsilon 0.09994015273159322\n",
            "Episode: 700 Reward: 1.0 Steps Taken: 8 Epsilon 0.09994015273159322\n",
            "Episode: 710 Reward: 1.0 Steps Taken: 8 Epsilon 0.09994015273159322\n",
            "Episode: 720 Reward: 1.0 Steps Taken: 8 Epsilon 0.09994015273159322\n",
            "Episode: 730 Reward: 1.0 Steps Taken: 8 Epsilon 0.09994015273159322\n",
            "Episode: 740 Reward: 1.0 Steps Taken: 8 Epsilon 0.09994015273159322\n",
            "Episode: 750 Reward: 0.0 Steps Taken: 5 Epsilon 0.09994015273159322\n",
            "Episode: 760 Reward: 1.0 Steps Taken: 8 Epsilon 0.09994015273159322\n",
            "Episode: 770 Reward: 1.0 Steps Taken: 8 Epsilon 0.09994015273159322\n",
            "Episode: 780 Reward: 1.0 Steps Taken: 9 Epsilon 0.09994015273159322\n",
            "Episode: 790 Reward: 1.0 Steps Taken: 8 Epsilon 0.09994015273159322\n",
            "Episode: 800 Reward: 1.0 Steps Taken: 10 Epsilon 0.09994015273159322\n",
            "Episode: 810 Reward: 1.0 Steps Taken: 8 Epsilon 0.09994015273159322\n",
            "Episode: 820 Reward: 1.0 Steps Taken: 8 Epsilon 0.09994015273159322\n",
            "Episode: 830 Reward: 1.0 Steps Taken: 8 Epsilon 0.09994015273159322\n",
            "Episode: 840 Reward: 1.0 Steps Taken: 10 Epsilon 0.09994015273159322\n",
            "Episode: 850 Reward: 1.0 Steps Taken: 8 Epsilon 0.09994015273159322\n",
            "Episode: 860 Reward: 1.0 Steps Taken: 10 Epsilon 0.09994015273159322\n",
            "Episode: 870 Reward: 1.0 Steps Taken: 8 Epsilon 0.09994015273159322\n",
            "Episode: 880 Reward: 1.0 Steps Taken: 11 Epsilon 0.09994015273159322\n",
            "Episode: 890 Reward: 1.0 Steps Taken: 11 Epsilon 0.09994015273159322\n",
            "Episode: 900 Reward: 1.0 Steps Taken: 8 Epsilon 0.09994015273159322\n",
            "Episode: 910 Reward: 1.0 Steps Taken: 10 Epsilon 0.09994015273159322\n",
            "Episode: 920 Reward: 1.0 Steps Taken: 8 Epsilon 0.09994015273159322\n",
            "Episode: 930 Reward: 1.0 Steps Taken: 9 Epsilon 0.09994015273159322\n",
            "Episode: 940 Reward: 1.0 Steps Taken: 10 Epsilon 0.09994015273159322\n",
            "Episode: 950 Reward: 1.0 Steps Taken: 8 Epsilon 0.09994015273159322\n",
            "Episode: 960 Reward: 1.0 Steps Taken: 9 Epsilon 0.09994015273159322\n",
            "Episode: 970 Reward: 1.0 Steps Taken: 8 Epsilon 0.09994015273159322\n",
            "Episode: 980 Reward: 0.0 Steps Taken: 6 Epsilon 0.09994015273159322\n",
            "Episode: 990 Reward: 1.0 Steps Taken: 8 Epsilon 0.09994015273159322\n"
          ],
          "name": "stdout"
        }
      ]
    },
    {
      "cell_type": "code",
      "metadata": {
        "colab": {
          "base_uri": "https://localhost:8080/",
          "height": 295
        },
        "id": "0h4uBwTN27dQ",
        "outputId": "09a2f40c-ef13-40e8-8526-761e4155e974"
      },
      "source": [
        "plt.axhline(y=8, color='green', linestyle='-')\n",
        "plt.bar(np.arange(0, 1000), steps_total, \n",
        "        width = 0.4, color = 'blue')\n",
        "plt.xlabel('episode index')\n",
        "plt.ylabel('number of steps taken')\n",
        "plt.title('5x5: transfer')\n",
        "plt.show()"
      ],
      "execution_count": 14,
      "outputs": [
        {
          "output_type": "display_data",
          "data": {
            "image/png": "[encoded data removed]",
            "text/plain": [
              "<Figure size 432x288 with 1 Axes>"
            ]
          },
          "metadata": {
            "tags": [],
            "needs_background": "light"
          }
        }
      ]
    },
    {
      "cell_type": "code",
      "metadata": {
        "colab": {
          "base_uri": "https://localhost:8080/",
          "height": 295
        },
        "id": "Qhfxx7tl3YtD",
        "outputId": "c1cd4180-58b4-4b87-f68a-43620fdabfcc"
      },
      "source": [
        "plt.scatter(np.arange(1000, 2000), rewards_total[0:1000], s = 0.5, color = 'blue')\n",
        "plt.title('5x5 restricted actions')\n",
        "plt.xlabel('episode')\n",
        "plt.ylabel('1 if success, 0 if failure')\n",
        "plt.show()"
      ],
      "execution_count": 15,
      "outputs": [
        {
          "output_type": "display_data",
          "data": {
            "image/png": "[encoded data removed]",
            "text/plain": [
              "<Figure size 432x288 with 1 Axes>"
            ]
          },
          "metadata": {
            "tags": [],
            "needs_background": "light"
          }
        }
      ]
    },
    {
      "cell_type": "code",
      "metadata": {
        "id": "wGEyoFlP3dSN"
      },
      "source": [
        ""
      ],
      "execution_count": null,
      "outputs": []
    }
  ]
}
