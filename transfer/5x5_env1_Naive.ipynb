{
  "nbformat": 4,
  "nbformat_minor": 0,
  "metadata": {
    "colab": {
      "name": "5x5_Naive.ipynb",
      "provenance": []
    },
    "kernelspec": {
      "name": "python3",
      "display_name": "Python 3"
    },
    "language_info": {
      "name": "python"
    }
  },
  "cells": [
    {
      "cell_type": "code",
      "metadata": {
        "id": "HVsdTGIgMJxR"
      },
      "source": [
        "import gym\n",
        "import numpy as np\n",
        "import random\n",
        "import torch\n",
        "import time\n",
        "import matplotlib.pyplot as plt"
      ],
      "execution_count": 47,
      "outputs": []
    },
    {
      "cell_type": "code",
      "metadata": {
        "id": "nyX9_VC_Lpka"
      },
      "source": [
        "map_5x5 = [\n",
        "    'SFFFF',\n",
        "    'FHFHF',\n",
        "    'HFFHf',\n",
        "    'HFFFH',\n",
        "    'FFFFG'\n",
        "]"
      ],
      "execution_count": 48,
      "outputs": []
    },
    {
      "cell_type": "code",
      "metadata": {
        "colab": {
          "base_uri": "https://localhost:8080/"
        },
        "id": "FVO_1UWoMNrx",
        "outputId": "777bdfee-636b-4352-fa69-9a576f391015"
      },
      "source": [
        "env = gym.make('FrozenLake-v0', is_slippery=False, desc = map_5x5)\n",
        "\n",
        "\n",
        "# visualize 5x5 frozen lake\n",
        "env.render()"
      ],
      "execution_count": 49,
      "outputs": [
        {
          "output_type": "stream",
          "text": [
            "\n",
            "\u001b[41mS\u001b[0mFFFF\n",
            "FHFHF\n",
            "HFFHf\n",
            "HFFFH\n",
            "FFFFG\n"
          ],
          "name": "stdout"
        }
      ]
    },
    {
      "cell_type": "code",
      "metadata": {
        "colab": {
          "base_uri": "https://localhost:8080/"
        },
        "id": "PM1KLZmLNXp4",
        "outputId": "2855e2ba-acc1-4f0d-cc19-a312b5c86d93"
      },
      "source": [
        "# Total number of States and Actions\n",
        "n_states = env.observation_space.n\n",
        "n_actions = env.action_space.n\n",
        "n_rows = 5\n",
        "n_cols = 5\n",
        "print( \"States = \", n_states)\n",
        "print( \"Actions = \", n_actions)"
      ],
      "execution_count": 50,
      "outputs": [
        {
          "output_type": "stream",
          "text": [
            "States =  25\n",
            "Actions =  4\n"
          ],
          "name": "stdout"
        }
      ]
    },
    {
      "cell_type": "code",
      "metadata": {
        "id": "5r66p6tfOnf5"
      },
      "source": [
        "import pandas as pd"
      ],
      "execution_count": 51,
      "outputs": []
    },
    {
      "cell_type": "code",
      "metadata": {
        "id": "bWZjEur7Oh_V"
      },
      "source": [
        "Q = pd.DataFrame(np.zeros((25,4)))"
      ],
      "execution_count": 52,
      "outputs": []
    },
    {
      "cell_type": "code",
      "metadata": {
        "id": "4XXNAe8hOme5"
      },
      "source": [
        "# Start with 80% random actions to explore the environment\n",
        "# exploration decays with each timestep by a factor of 0.999 until it hits 10% exploration rate \n",
        "\n",
        "epsilon = 0.80\n",
        "epsilon_final = 0.1\n",
        "epsilon_decay = 0.999\n",
        "\n",
        "gamma = 0.90 # discount factor\n",
        "learning_rate = 0.9 #how important is the difference between q-val from q-table and what's observed"
      ],
      "execution_count": 53,
      "outputs": []
    },
    {
      "cell_type": "code",
      "metadata": {
        "id": "48wfJlFixbwL"
      },
      "source": [
        "num_episodes = 1000\n",
        "steps_total = [] # store number of steps taken in each episode\n",
        "rewards_total = [] #store reward obtained for each episode\n",
        "epsilon_total = [] #store epsilon obtained at the end of each episode"
      ],
      "execution_count": 54,
      "outputs": []
    },
    {
      "cell_type": "code",
      "metadata": {
        "colab": {
          "base_uri": "https://localhost:8080/"
        },
        "id": "r7IOGq32xfWd",
        "outputId": "5e9edd45-31a9-4b5f-ef5e-8de73a96d7b2"
      },
      "source": [
        "for i_episode in range(num_episodes):\n",
        "    \n",
        "    # resets the environment\n",
        "    state = env.reset()\n",
        "    step = 0\n",
        "\n",
        "    while True:\n",
        "        \n",
        "        step += 1\n",
        "        \n",
        "        \n",
        "        ## generating a random num\n",
        "        random_for_epsilon = np.random.rand()\n",
        "        \n",
        "        ## if random num lesser or equal to epsilon, then select random action\n",
        "        if random_for_epsilon <= epsilon:     \n",
        "            action = env.action_space.sample() #choose_random_action(state)\n",
        "        \n",
        "        ## else update q-vals for given state with infitismly small random nums and select argmax(a) for Q(s,a)\n",
        "        else: \n",
        "           Q.loc[state] += np.random.rand(n_actions,)/1000\n",
        "           action =  np.argmax(Q.loc[state]) #choose_max_action(state, Q)  #np.argmax(Q.loc[state])    \n",
        "        \n",
        "        \n",
        "        ## as epsilon decays with more timesteps, the prob. of selecting a random val < e decays --> more likely to exploit.     \n",
        "        if epsilon > epsilon_final:\n",
        "            epsilon *= epsilon_decay\n",
        "        \n",
        "        ## env gives reward and next state and whether we've reached terminal state upon taking a at current state.. \n",
        "        new_state, reward, done, info = env.step(action)\n",
        "        \n",
        "        ##if you want reward penalized at for each timestep\n",
        "        ## reward= reward*(0.9**step) \n",
        "\n",
        "        # filling the Q Table - \n",
        "        Q.loc[state][action] = (1- learning_rate)*Q.loc[state][action] + learning_rate*(reward + gamma * np.max(Q.loc[new_state]))\n",
        "        \n",
        "        # Setting new state for next action\n",
        "        state = new_state\n",
        "        \n",
        "        # env.render()\n",
        "        \n",
        "        if done:\n",
        "            steps_total.append(step)\n",
        "            rewards_total.append(reward)\n",
        "            epsilon_total.append(epsilon)\n",
        "            if i_episode % 10 == 0:\n",
        "                print('Episode: {} Reward: {} Steps Taken: {} Epsilon {}'.format(i_episode,reward, step, epsilon))\n",
        "            break\n",
        "\n"
      ],
      "execution_count": 55,
      "outputs": [
        {
          "output_type": "stream",
          "text": [
            "Episode: 0 Reward: 0.0 Steps Taken: 15 Epsilon 0.7880836370896016\n",
            "Episode: 10 Reward: 0.0 Steps Taken: 17 Epsilon 0.717345211534665\n",
            "Episode: 20 Reward: 0.0 Steps Taken: 5 Epsilon 0.658862368022894\n",
            "Episode: 30 Reward: 0.0 Steps Taken: 4 Epsilon 0.5979254798769741\n",
            "Episode: 40 Reward: 0.0 Steps Taken: 47 Epsilon 0.49838609603492584\n",
            "Episode: 50 Reward: 0.0 Steps Taken: 5 Epsilon 0.4255132201343483\n",
            "Episode: 60 Reward: 0.0 Steps Taken: 5 Epsilon 0.3330103050003923\n",
            "Episode: 70 Reward: 0.0 Steps Taken: 26 Epsilon 0.2674850996104968\n",
            "Episode: 80 Reward: 0.0 Steps Taken: 99 Epsilon 0.1997202754850025\n",
            "Episode: 90 Reward: 0.0 Steps Taken: 4 Epsilon 0.14255803109568457\n",
            "Episode: 100 Reward: 0.0 Steps Taken: 68 Epsilon 0.09994015273159322\n",
            "Episode: 110 Reward: 0.0 Steps Taken: 55 Epsilon 0.09994015273159322\n",
            "Episode: 120 Reward: 0.0 Steps Taken: 7 Epsilon 0.09994015273159322\n",
            "Episode: 130 Reward: 0.0 Steps Taken: 9 Epsilon 0.09994015273159322\n",
            "Episode: 140 Reward: 0.0 Steps Taken: 22 Epsilon 0.09994015273159322\n",
            "Episode: 150 Reward: 0.0 Steps Taken: 52 Epsilon 0.09994015273159322\n",
            "Episode: 160 Reward: 0.0 Steps Taken: 11 Epsilon 0.09994015273159322\n",
            "Episode: 170 Reward: 0.0 Steps Taken: 17 Epsilon 0.09994015273159322\n",
            "Episode: 180 Reward: 0.0 Steps Taken: 27 Epsilon 0.09994015273159322\n",
            "Episode: 190 Reward: 0.0 Steps Taken: 93 Epsilon 0.09994015273159322\n",
            "Episode: 200 Reward: 0.0 Steps Taken: 16 Epsilon 0.09994015273159322\n",
            "Episode: 210 Reward: 0.0 Steps Taken: 20 Epsilon 0.09994015273159322\n",
            "Episode: 220 Reward: 0.0 Steps Taken: 5 Epsilon 0.09994015273159322\n",
            "Episode: 230 Reward: 0.0 Steps Taken: 20 Epsilon 0.09994015273159322\n",
            "Episode: 240 Reward: 0.0 Steps Taken: 67 Epsilon 0.09994015273159322\n",
            "Episode: 250 Reward: 0.0 Steps Taken: 29 Epsilon 0.09994015273159322\n",
            "Episode: 260 Reward: 0.0 Steps Taken: 85 Epsilon 0.09994015273159322\n",
            "Episode: 270 Reward: 0.0 Steps Taken: 36 Epsilon 0.09994015273159322\n",
            "Episode: 280 Reward: 0.0 Steps Taken: 8 Epsilon 0.09994015273159322\n",
            "Episode: 290 Reward: 0.0 Steps Taken: 21 Epsilon 0.09994015273159322\n",
            "Episode: 300 Reward: 0.0 Steps Taken: 17 Epsilon 0.09994015273159322\n",
            "Episode: 310 Reward: 0.0 Steps Taken: 100 Epsilon 0.09994015273159322\n",
            "Episode: 320 Reward: 0.0 Steps Taken: 19 Epsilon 0.09994015273159322\n",
            "Episode: 330 Reward: 0.0 Steps Taken: 10 Epsilon 0.09994015273159322\n",
            "Episode: 340 Reward: 0.0 Steps Taken: 100 Epsilon 0.09994015273159322\n",
            "Episode: 350 Reward: 0.0 Steps Taken: 57 Epsilon 0.09994015273159322\n",
            "Episode: 360 Reward: 0.0 Steps Taken: 5 Epsilon 0.09994015273159322\n",
            "Episode: 370 Reward: 0.0 Steps Taken: 10 Epsilon 0.09994015273159322\n",
            "Episode: 380 Reward: 0.0 Steps Taken: 13 Epsilon 0.09994015273159322\n",
            "Episode: 390 Reward: 0.0 Steps Taken: 8 Epsilon 0.09994015273159322\n",
            "Episode: 400 Reward: 0.0 Steps Taken: 81 Epsilon 0.09994015273159322\n",
            "Episode: 410 Reward: 0.0 Steps Taken: 7 Epsilon 0.09994015273159322\n",
            "Episode: 420 Reward: 0.0 Steps Taken: 100 Epsilon 0.09994015273159322\n",
            "Episode: 430 Reward: 0.0 Steps Taken: 2 Epsilon 0.09994015273159322\n",
            "Episode: 440 Reward: 0.0 Steps Taken: 39 Epsilon 0.09994015273159322\n",
            "Episode: 450 Reward: 0.0 Steps Taken: 100 Epsilon 0.09994015273159322\n",
            "Episode: 460 Reward: 0.0 Steps Taken: 35 Epsilon 0.09994015273159322\n",
            "Episode: 470 Reward: 0.0 Steps Taken: 52 Epsilon 0.09994015273159322\n",
            "Episode: 480 Reward: 0.0 Steps Taken: 6 Epsilon 0.09994015273159322\n",
            "Episode: 490 Reward: 0.0 Steps Taken: 100 Epsilon 0.09994015273159322\n",
            "Episode: 500 Reward: 0.0 Steps Taken: 84 Epsilon 0.09994015273159322\n",
            "Episode: 510 Reward: 0.0 Steps Taken: 10 Epsilon 0.09994015273159322\n",
            "Episode: 520 Reward: 0.0 Steps Taken: 43 Epsilon 0.09994015273159322\n",
            "Episode: 530 Reward: 0.0 Steps Taken: 2 Epsilon 0.09994015273159322\n",
            "Episode: 540 Reward: 0.0 Steps Taken: 8 Epsilon 0.09994015273159322\n",
            "Episode: 550 Reward: 0.0 Steps Taken: 12 Epsilon 0.09994015273159322\n",
            "Episode: 560 Reward: 0.0 Steps Taken: 100 Epsilon 0.09994015273159322\n",
            "Episode: 570 Reward: 0.0 Steps Taken: 11 Epsilon 0.09994015273159322\n",
            "Episode: 580 Reward: 0.0 Steps Taken: 34 Epsilon 0.09994015273159322\n",
            "Episode: 590 Reward: 0.0 Steps Taken: 47 Epsilon 0.09994015273159322\n",
            "Episode: 600 Reward: 0.0 Steps Taken: 25 Epsilon 0.09994015273159322\n",
            "Episode: 610 Reward: 0.0 Steps Taken: 57 Epsilon 0.09994015273159322\n",
            "Episode: 620 Reward: 0.0 Steps Taken: 31 Epsilon 0.09994015273159322\n",
            "Episode: 630 Reward: 0.0 Steps Taken: 6 Epsilon 0.09994015273159322\n",
            "Episode: 640 Reward: 0.0 Steps Taken: 17 Epsilon 0.09994015273159322\n",
            "Episode: 650 Reward: 0.0 Steps Taken: 21 Epsilon 0.09994015273159322\n",
            "Episode: 660 Reward: 0.0 Steps Taken: 18 Epsilon 0.09994015273159322\n",
            "Episode: 670 Reward: 0.0 Steps Taken: 13 Epsilon 0.09994015273159322\n",
            "Episode: 680 Reward: 0.0 Steps Taken: 36 Epsilon 0.09994015273159322\n",
            "Episode: 690 Reward: 0.0 Steps Taken: 14 Epsilon 0.09994015273159322\n",
            "Episode: 700 Reward: 0.0 Steps Taken: 10 Epsilon 0.09994015273159322\n",
            "Episode: 710 Reward: 0.0 Steps Taken: 5 Epsilon 0.09994015273159322\n",
            "Episode: 720 Reward: 0.0 Steps Taken: 3 Epsilon 0.09994015273159322\n",
            "Episode: 730 Reward: 0.0 Steps Taken: 18 Epsilon 0.09994015273159322\n",
            "Episode: 740 Reward: 0.0 Steps Taken: 93 Epsilon 0.09994015273159322\n",
            "Episode: 750 Reward: 0.0 Steps Taken: 85 Epsilon 0.09994015273159322\n",
            "Episode: 760 Reward: 0.0 Steps Taken: 100 Epsilon 0.09994015273159322\n",
            "Episode: 770 Reward: 0.0 Steps Taken: 5 Epsilon 0.09994015273159322\n",
            "Episode: 780 Reward: 0.0 Steps Taken: 69 Epsilon 0.09994015273159322\n",
            "Episode: 790 Reward: 0.0 Steps Taken: 14 Epsilon 0.09994015273159322\n",
            "Episode: 800 Reward: 0.0 Steps Taken: 10 Epsilon 0.09994015273159322\n",
            "Episode: 810 Reward: 0.0 Steps Taken: 90 Epsilon 0.09994015273159322\n",
            "Episode: 820 Reward: 0.0 Steps Taken: 9 Epsilon 0.09994015273159322\n",
            "Episode: 830 Reward: 0.0 Steps Taken: 40 Epsilon 0.09994015273159322\n",
            "Episode: 840 Reward: 0.0 Steps Taken: 14 Epsilon 0.09994015273159322\n",
            "Episode: 850 Reward: 0.0 Steps Taken: 63 Epsilon 0.09994015273159322\n",
            "Episode: 860 Reward: 0.0 Steps Taken: 85 Epsilon 0.09994015273159322\n",
            "Episode: 870 Reward: 0.0 Steps Taken: 66 Epsilon 0.09994015273159322\n",
            "Episode: 880 Reward: 0.0 Steps Taken: 24 Epsilon 0.09994015273159322\n",
            "Episode: 890 Reward: 0.0 Steps Taken: 34 Epsilon 0.09994015273159322\n",
            "Episode: 900 Reward: 0.0 Steps Taken: 6 Epsilon 0.09994015273159322\n",
            "Episode: 910 Reward: 0.0 Steps Taken: 34 Epsilon 0.09994015273159322\n",
            "Episode: 920 Reward: 0.0 Steps Taken: 3 Epsilon 0.09994015273159322\n",
            "Episode: 930 Reward: 0.0 Steps Taken: 23 Epsilon 0.09994015273159322\n",
            "Episode: 940 Reward: 0.0 Steps Taken: 85 Epsilon 0.09994015273159322\n",
            "Episode: 950 Reward: 0.0 Steps Taken: 10 Epsilon 0.09994015273159322\n",
            "Episode: 960 Reward: 0.0 Steps Taken: 36 Epsilon 0.09994015273159322\n",
            "Episode: 970 Reward: 0.0 Steps Taken: 4 Epsilon 0.09994015273159322\n",
            "Episode: 980 Reward: 0.0 Steps Taken: 91 Epsilon 0.09994015273159322\n",
            "Episode: 990 Reward: 0.0 Steps Taken: 76 Epsilon 0.09994015273159322\n"
          ],
          "name": "stdout"
        }
      ]
    },
    {
      "cell_type": "code",
      "metadata": {
        "colab": {
          "base_uri": "https://localhost:8080/",
          "height": 295
        },
        "id": "fTrnd9zE18bR",
        "outputId": "7a0e40bd-bf34-4f4f-a182-d84a71dc2c97"
      },
      "source": [
        "plt.scatter(np.arange(0, 1000), rewards_total, s = 0.5, color = 'blue')\n",
        "plt.title('5x5 naive rewards')\n",
        "plt.xlabel('episode')\n",
        "plt.ylabel('1 if success, 0 if failure')\n",
        "plt.show()"
      ],
      "execution_count": 58,
      "outputs": [
        {
          "output_type": "display_data",
          "data": {
            "image/png": "[encoded data removed]",
            "text/plain": [
              "<Figure size 432x288 with 1 Axes>"
            ]
          },
          "metadata": {
            "tags": [],
            "needs_background": "light"
          }
        }
      ]
    },
    {
      "cell_type": "code",
      "metadata": {
        "colab": {
          "base_uri": "https://localhost:8080/",
          "height": 295
        },
        "id": "w0CoVbpq32GI",
        "outputId": "b263eada-145b-4f4e-a822-61aedb9e9b77"
      },
      "source": [
        "plt.axhline(y=8, color='green', linestyle='-')\n",
        "plt.bar(np.arange(0, 1000), steps_total, \n",
        "        width = 0.4, color = 'blue')\n",
        "plt.xlabel('episode index')\n",
        "plt.ylabel('number of steps taken')\n",
        "plt.title('5x5 naive')\n",
        "plt.show()"
      ],
      "execution_count": 59,
      "outputs": [
        {
          "output_type": "display_data",
          "data": {
            "image/png": "[encoded data removed]",
            "text/plain": [
              "<Figure size 432x288 with 1 Axes>"
            ]
          },
          "metadata": {
            "tags": [],
            "needs_background": "light"
          }
        }
      ]
    }
  ]
}
