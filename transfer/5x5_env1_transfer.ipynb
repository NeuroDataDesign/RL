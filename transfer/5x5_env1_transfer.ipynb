{
  "nbformat": 4,
  "nbformat_minor": 0,
  "metadata": {
    "colab": {
      "name": "5x5_env1_transfer.ipynb",
      "provenance": []
    },
    "kernelspec": {
      "name": "python3",
      "display_name": "Python 3"
    },
    "language_info": {
      "name": "python"
    },
    "accelerator": "GPU"
  },
  "cells": [
    {
      "cell_type": "code",
      "metadata": {
        "id": "WCRP-ow06UPt"
      },
      "source": [
        "import gym\n",
        "import numpy as np\n",
        "import random\n",
        "import torch\n",
        "import time\n",
        "import matplotlib.pyplot as plt\n",
        "import pandas as pd"
      ],
      "execution_count": 1,
      "outputs": []
    },
    {
      "cell_type": "code",
      "metadata": {
        "id": "651-gOAt6Z8b"
      },
      "source": [
        "map = [\n",
        "    'SFFFF',\n",
        "    'FHFHF',\n",
        "    'HFFHF',\n",
        "    'HFFFH',\n",
        "    'FFFFG'\n",
        "]"
      ],
      "execution_count": 2,
      "outputs": []
    },
    {
      "cell_type": "code",
      "metadata": {
        "colab": {
          "base_uri": "https://localhost:8080/"
        },
        "id": "tQ4Km_fP6jGZ",
        "outputId": "8b3c0453-fe72-477d-de7b-8abc14764ec1"
      },
      "source": [
        "env = gym.make('FrozenLake-v0', is_slippery=False, desc = map)\n",
        "\n",
        "\n",
        "# visualize 4x4 frozen lake\n",
        "env.render()"
      ],
      "execution_count": 3,
      "outputs": [
        {
          "output_type": "stream",
          "text": [
            "\n",
            "\u001b[41mS\u001b[0mFFFF\n",
            "FHFHF\n",
            "HFFHF\n",
            "HFFFH\n",
            "FFFFG\n"
          ],
          "name": "stdout"
        }
      ]
    },
    {
      "cell_type": "code",
      "metadata": {
        "id": "L_XJ06Ko6nAW"
      },
      "source": [
        "# Total number of States and Actions\n",
        "n_states = env.observation_space.n\n",
        "n_actions = env.action_space.n\n",
        "n_rows = 5\n",
        "n_cols = 5\n"
      ],
      "execution_count": 4,
      "outputs": []
    },
    {
      "cell_type": "code",
      "metadata": {
        "id": "qPO-eW9j6rhQ"
      },
      "source": [
        "def restrict_actions(Q, n_states, n_rows):\n",
        "\n",
        "  Q.at[n_states -1, :] = np.zeros(n_actions,)\n",
        "  for i in range( 0, n_states, n_rows): \n",
        "    Q.at[i,0] = np.NaN\n",
        "  for i in range( n_rows -1 , n_states, n_rows): \n",
        "    Q.at[i,2] = np.NaN\n",
        "  for i in range(0, n_rows):\n",
        "    Q.at[i,3] = np.NaN\n",
        "  for i in range(n_states - n_rows , n_states):\n",
        "    Q.at[i,1 ]= np.NaN\n",
        "  \n",
        "  return Q\n",
        "  "
      ],
      "execution_count": 43,
      "outputs": []
    },
    {
      "cell_type": "code",
      "metadata": {
        "id": "ADnWC_LN6x_6"
      },
      "source": [
        "def rewarder(new_state, reward):\n",
        "  if map[rowsandcols(new_state)[0]][rowsandcols(new_state)[1]]== 'H':\n",
        "    reward -= 20\n",
        "  elif map[rowsandcols(new_state)[0]][rowsandcols(new_state)[1]]== 'F':\n",
        "    reward -= 1 \n",
        "  elif map[rowsandcols(new_state)[0]][rowsandcols(new_state)[1]]== 'S':\n",
        "    reward -= 1\n",
        "  else: #goal\n",
        "    reward += 100\n",
        "\n",
        "  return reward"
      ],
      "execution_count": 50,
      "outputs": []
    },
    {
      "cell_type": "code",
      "metadata": {
        "id": "DLrhyESt60VR"
      },
      "source": [
        "def choose_action(Q, state, epsilon):\n",
        "  random_for_epsilon = np.random.rand()\n",
        "  if random_for_epsilon <= epsilon:\n",
        "    s = Q.loc[state].notna()\n",
        "    vals = s[s].index.values\n",
        "    action = random.choice(vals)\n",
        "  else: \n",
        "    Q.loc[state] += np.random.rand(n_actions,)/100\n",
        "    action = np.argmax(Q.loc[state])\n",
        "  return action"
      ],
      "execution_count": 7,
      "outputs": []
    },
    {
      "cell_type": "code",
      "metadata": {
        "id": "8B4soItS62nN"
      },
      "source": [
        "##assign index to each state using state-matrix\n",
        "\n",
        "state_matrix = np.arange(0,n_states).reshape(n_rows,n_cols)\n",
        "state_matrix\n",
        "\n",
        "def rowsandcols(state):\n",
        "  ''' input: state returned by env\n",
        "      output: location of state as (row,col) tuple'''\n",
        "  return int(np.where(state_matrix ==state)[0]), int(np.where(state_matrix ==state)[1])"
      ],
      "execution_count": 8,
      "outputs": []
    },
    {
      "cell_type": "code",
      "metadata": {
        "id": "r0dKzJX3658Y"
      },
      "source": [
        "Q = pd.read_excel('/content/4x4_to_5x5 (1).xlsx', header = None)"
      ],
      "execution_count": 75,
      "outputs": []
    },
    {
      "cell_type": "code",
      "metadata": {
        "id": "g-f9WvwG7QO2"
      },
      "source": [
        "for i in range(n_states -1):\n",
        "  if (Q.loc[i]==0.0).all():\n",
        "    Q.loc[i] = np.random.rand(n_actions,)*1/1000\n",
        "\n"
      ],
      "execution_count": 76,
      "outputs": []
    },
    {
      "cell_type": "code",
      "metadata": {
        "id": "Q9WNdB9S8_f6"
      },
      "source": [
        "Q= restrict_actions(Q, n_states, n_rows)"
      ],
      "execution_count": 77,
      "outputs": []
    },
    {
      "cell_type": "code",
      "metadata": {
        "colab": {
          "base_uri": "https://localhost:8080/",
          "height": 787
        },
        "id": "8v8ek44L_6sq",
        "outputId": "d7a3f24c-b899-4c65-dd3b-2a708b81d645"
      },
      "source": [
        "Q"
      ],
      "execution_count": 78,
      "outputs": [
        {
          "output_type": "execute_result",
          "data": {
            "text/html": [
              "<div>\n",
              "<style scoped>\n",
              "    .dataframe tbody tr th:only-of-type {\n",
              "        vertical-align: middle;\n",
              "    }\n",
              "\n",
              "    .dataframe tbody tr th {\n",
              "        vertical-align: top;\n",
              "    }\n",
              "\n",
              "    .dataframe thead th {\n",
              "        text-align: right;\n",
              "    }\n",
              "</style>\n",
              "<table border=\"1\" class=\"dataframe\">\n",
              "  <thead>\n",
              "    <tr style=\"text-align: right;\">\n",
              "      <th></th>\n",
              "      <th>0</th>\n",
              "      <th>1</th>\n",
              "      <th>2</th>\n",
              "      <th>3</th>\n",
              "    </tr>\n",
              "  </thead>\n",
              "  <tbody>\n",
              "    <tr>\n",
              "      <th>0</th>\n",
              "      <td>NaN</td>\n",
              "      <td>28.125687</td>\n",
              "      <td>40.247988</td>\n",
              "      <td>NaN</td>\n",
              "    </tr>\n",
              "    <tr>\n",
              "      <th>1</th>\n",
              "      <td>31.533015</td>\n",
              "      <td>-24.774719</td>\n",
              "      <td>47.239076</td>\n",
              "      <td>NaN</td>\n",
              "    </tr>\n",
              "    <tr>\n",
              "      <th>2</th>\n",
              "      <td>34.191449</td>\n",
              "      <td>56.482323</td>\n",
              "      <td>30.150683</td>\n",
              "      <td>NaN</td>\n",
              "    </tr>\n",
              "    <tr>\n",
              "      <th>3</th>\n",
              "      <td>44.720851</td>\n",
              "      <td>-24.887856</td>\n",
              "      <td>NaN</td>\n",
              "      <td>NaN</td>\n",
              "    </tr>\n",
              "    <tr>\n",
              "      <th>4</th>\n",
              "      <td>0.000049</td>\n",
              "      <td>0.000124</td>\n",
              "      <td>NaN</td>\n",
              "      <td>NaN</td>\n",
              "    </tr>\n",
              "    <tr>\n",
              "      <th>5</th>\n",
              "      <td>NaN</td>\n",
              "      <td>-21.021211</td>\n",
              "      <td>-21.892915</td>\n",
              "      <td>32.201386</td>\n",
              "    </tr>\n",
              "    <tr>\n",
              "      <th>6</th>\n",
              "      <td>0.009872</td>\n",
              "      <td>0.002689</td>\n",
              "      <td>0.008649</td>\n",
              "      <td>0.007160</td>\n",
              "    </tr>\n",
              "    <tr>\n",
              "      <th>7</th>\n",
              "      <td>-23.020096</td>\n",
              "      <td>66.289111</td>\n",
              "      <td>-23.113817</td>\n",
              "      <td>36.968893</td>\n",
              "    </tr>\n",
              "    <tr>\n",
              "      <th>8</th>\n",
              "      <td>0.005538</td>\n",
              "      <td>0.002576</td>\n",
              "      <td>NaN</td>\n",
              "      <td>0.004187</td>\n",
              "    </tr>\n",
              "    <tr>\n",
              "      <th>9</th>\n",
              "      <td>0.000282</td>\n",
              "      <td>0.000533</td>\n",
              "      <td>NaN</td>\n",
              "      <td>0.000115</td>\n",
              "    </tr>\n",
              "    <tr>\n",
              "      <th>10</th>\n",
              "      <td>NaN</td>\n",
              "      <td>0.006463</td>\n",
              "      <td>0.002094</td>\n",
              "      <td>0.005003</td>\n",
              "    </tr>\n",
              "    <tr>\n",
              "      <th>11</th>\n",
              "      <td>-28.997774</td>\n",
              "      <td>45.755527</td>\n",
              "      <td>64.094528</td>\n",
              "      <td>-26.143771</td>\n",
              "    </tr>\n",
              "    <tr>\n",
              "      <th>12</th>\n",
              "      <td>49.430878</td>\n",
              "      <td>77.006806</td>\n",
              "      <td>-24.180832</td>\n",
              "      <td>52.555841</td>\n",
              "    </tr>\n",
              "    <tr>\n",
              "      <th>13</th>\n",
              "      <td>0.009778</td>\n",
              "      <td>0.006839</td>\n",
              "      <td>NaN</td>\n",
              "      <td>0.002070</td>\n",
              "    </tr>\n",
              "    <tr>\n",
              "      <th>14</th>\n",
              "      <td>0.000053</td>\n",
              "      <td>0.000770</td>\n",
              "      <td>NaN</td>\n",
              "      <td>0.000961</td>\n",
              "    </tr>\n",
              "    <tr>\n",
              "      <th>15</th>\n",
              "      <td>NaN</td>\n",
              "      <td>NaN</td>\n",
              "      <td>0.005256</td>\n",
              "      <td>0.001475</td>\n",
              "    </tr>\n",
              "    <tr>\n",
              "      <th>16</th>\n",
              "      <td>-28.086349</td>\n",
              "      <td>NaN</td>\n",
              "      <td>75.801284</td>\n",
              "      <td>41.947965</td>\n",
              "    </tr>\n",
              "    <tr>\n",
              "      <th>17</th>\n",
              "      <td>61.368580</td>\n",
              "      <td>NaN</td>\n",
              "      <td>93.017910</td>\n",
              "      <td>58.056686</td>\n",
              "    </tr>\n",
              "    <tr>\n",
              "      <th>18</th>\n",
              "      <td>0.000166</td>\n",
              "      <td>0.000524</td>\n",
              "      <td>0.000591</td>\n",
              "      <td>0.000934</td>\n",
              "    </tr>\n",
              "    <tr>\n",
              "      <th>19</th>\n",
              "      <td>0.000488</td>\n",
              "      <td>0.000307</td>\n",
              "      <td>NaN</td>\n",
              "      <td>0.000996</td>\n",
              "    </tr>\n",
              "    <tr>\n",
              "      <th>20</th>\n",
              "      <td>NaN</td>\n",
              "      <td>NaN</td>\n",
              "      <td>0.000514</td>\n",
              "      <td>0.000569</td>\n",
              "    </tr>\n",
              "    <tr>\n",
              "      <th>21</th>\n",
              "      <td>0.000746</td>\n",
              "      <td>NaN</td>\n",
              "      <td>0.000879</td>\n",
              "      <td>0.000229</td>\n",
              "    </tr>\n",
              "    <tr>\n",
              "      <th>22</th>\n",
              "      <td>0.000309</td>\n",
              "      <td>NaN</td>\n",
              "      <td>0.000146</td>\n",
              "      <td>0.000821</td>\n",
              "    </tr>\n",
              "    <tr>\n",
              "      <th>23</th>\n",
              "      <td>0.000651</td>\n",
              "      <td>NaN</td>\n",
              "      <td>0.000404</td>\n",
              "      <td>0.000102</td>\n",
              "    </tr>\n",
              "    <tr>\n",
              "      <th>24</th>\n",
              "      <td>0.000000</td>\n",
              "      <td>NaN</td>\n",
              "      <td>NaN</td>\n",
              "      <td>0.000000</td>\n",
              "    </tr>\n",
              "  </tbody>\n",
              "</table>\n",
              "</div>"
            ],
            "text/plain": [
              "            0          1          2          3\n",
              "0         NaN  28.125687  40.247988        NaN\n",
              "1   31.533015 -24.774719  47.239076        NaN\n",
              "2   34.191449  56.482323  30.150683        NaN\n",
              "3   44.720851 -24.887856        NaN        NaN\n",
              "4    0.000049   0.000124        NaN        NaN\n",
              "5         NaN -21.021211 -21.892915  32.201386\n",
              "6    0.009872   0.002689   0.008649   0.007160\n",
              "7  -23.020096  66.289111 -23.113817  36.968893\n",
              "8    0.005538   0.002576        NaN   0.004187\n",
              "9    0.000282   0.000533        NaN   0.000115\n",
              "10        NaN   0.006463   0.002094   0.005003\n",
              "11 -28.997774  45.755527  64.094528 -26.143771\n",
              "12  49.430878  77.006806 -24.180832  52.555841\n",
              "13   0.009778   0.006839        NaN   0.002070\n",
              "14   0.000053   0.000770        NaN   0.000961\n",
              "15        NaN        NaN   0.005256   0.001475\n",
              "16 -28.086349        NaN  75.801284  41.947965\n",
              "17  61.368580        NaN  93.017910  58.056686\n",
              "18   0.000166   0.000524   0.000591   0.000934\n",
              "19   0.000488   0.000307        NaN   0.000996\n",
              "20        NaN        NaN   0.000514   0.000569\n",
              "21   0.000746        NaN   0.000879   0.000229\n",
              "22   0.000309        NaN   0.000146   0.000821\n",
              "23   0.000651        NaN   0.000404   0.000102\n",
              "24   0.000000        NaN        NaN   0.000000"
            ]
          },
          "metadata": {
            "tags": []
          },
          "execution_count": 78
        }
      ]
    },
    {
      "cell_type": "code",
      "metadata": {
        "id": "832dl5gm-u7r"
      },
      "source": [
        "epsilon = 0.8\n",
        "epsilon_final = 0.1\n",
        "epsilon_decay = 0.999\n",
        "gamma = 0.90 # discount factor\n",
        "learning_rate = 0.9 #how important is the difference between q-val from q-table and what's observed"
      ],
      "execution_count": 79,
      "outputs": []
    },
    {
      "cell_type": "code",
      "metadata": {
        "id": "KF8GQhe___G7"
      },
      "source": [
        "num_episodes = 1000\n",
        "steps_total = [] # store number of steps taken in each episode\n",
        "rewards_total = [] #store reward obtained for each episode\n",
        "epsilon_total = [] #store epsilon obtained at the end of each episode\n",
        "terminal_state = []"
      ],
      "execution_count": 80,
      "outputs": []
    },
    {
      "cell_type": "code",
      "metadata": {
        "colab": {
          "base_uri": "https://localhost:8080/"
        },
        "id": "2BDIBmOoABxt",
        "outputId": "e74d7e2c-90b5-4f02-b2ce-5cecfda4dfae"
      },
      "source": [
        "for i_episode in range(num_episodes):\n",
        "    \n",
        "    # resets the environment\n",
        "    state = env.reset()\n",
        "    step = 0\n",
        "    reward = 0\n",
        "\n",
        "  ## as epsilon decays with more timesteps, the prob. of selecting a random val < e decays --> more likely to exploit. \n",
        "    if epsilon > epsilon_final:\n",
        "            epsilon *= epsilon_decay\n",
        "\n",
        "    while True:\n",
        "        \n",
        "        step += 1\n",
        "        \n",
        "        random_for_epsilon = np.random.rand()\n",
        "        if random_for_epsilon <= epsilon:\n",
        "          action = env.action_space.sample()\n",
        "        else: \n",
        "          action = np.argmax(Q.loc[state])\n",
        "  \n",
        "         \n",
        "        ## env gives reward and next state and whether we've reached terminal state upon taking action at current state.. \n",
        "        new_state, _ , done, info = env.step(action)\n",
        "\n",
        "        ##if you want reward penalized at for each timestep\n",
        "        reward = rewarder(new_state, reward)\n",
        "\n",
        "        # filling the Q Table - \n",
        "        \n",
        "        Q.loc[state, action] = (1- learning_rate)*Q.at[state, action] + learning_rate*(reward + gamma * np.max(Q.loc[new_state]))\n",
        "        \n",
        "        # Setting new state for next action\n",
        "        state = new_state\n",
        "        tile = map[rowsandcols(state)[0]][rowsandcols(state)[1]]\n",
        "        #env.render()\n",
        "        \n",
        "        if done:\n",
        "          #print(Q)\n",
        "          \n",
        "          terminal_state.append(tile)\n",
        "          steps_total.append(step)\n",
        "          rewards_total.append(reward)\n",
        "          epsilon_total.append(epsilon)\n",
        "          if i_episode % 10 == 0:\n",
        "            print('Episode: {} Reward: {} Steps Taken: {} Terminal State: {}, Epsilon: {}'.format(i_episode,reward, step, tile, epsilon))\n",
        "          break\n"
      ],
      "execution_count": 81,
      "outputs": [
        {
          "output_type": "stream",
          "text": [
            "Episode: 0 Reward: -28 Steps Taken: 9 Terminal State: H, Epsilon: 0.7992\n",
            "Episode: 10 Reward: -21 Steps Taken: 2 Terminal State: H, Epsilon: 0.7912438682636309\n",
            "Episode: 20 Reward: -27 Steps Taken: 8 Terminal State: H, Epsilon: 0.7833669407717642\n",
            "Episode: 30 Reward: -22 Steps Taken: 3 Terminal State: H, Epsilon: 0.7755684290366581\n",
            "Episode: 40 Reward: -22 Steps Taken: 3 Terminal State: H, Epsilon: 0.7678475524200608\n",
            "Episode: 50 Reward: -21 Steps Taken: 2 Terminal State: H, Epsilon: 0.7602035380550674\n",
            "Episode: 60 Reward: -31 Steps Taken: 12 Terminal State: H, Epsilon: 0.7526356207687559\n",
            "Episode: 70 Reward: -23 Steps Taken: 4 Terminal State: H, Epsilon: 0.7451430430055925\n",
            "Episode: 80 Reward: -27 Steps Taken: 8 Terminal State: H, Epsilon: 0.7377250547515992\n",
            "Episode: 90 Reward: -21 Steps Taken: 2 Terminal State: H, Epsilon: 0.7303809134592769\n",
            "Episode: 100 Reward: -24 Steps Taken: 5 Terminal State: H, Epsilon: 0.7231098839732764\n",
            "Episode: 110 Reward: -21 Steps Taken: 2 Terminal State: H, Epsilon: 0.7159112384568073\n",
            "Episode: 120 Reward: -35 Steps Taken: 16 Terminal State: H, Epsilon: 0.7087842563187822\n",
            "Episode: 130 Reward: -21 Steps Taken: 2 Terminal State: H, Epsilon: 0.7017282241416841\n",
            "Episode: 140 Reward: -32 Steps Taken: 13 Terminal State: H, Epsilon: 0.694742435610153\n",
            "Episode: 150 Reward: -27 Steps Taken: 8 Terminal State: H, Epsilon: 0.6878261914402828\n",
            "Episode: 160 Reward: -22 Steps Taken: 3 Terminal State: H, Epsilon: 0.6809787993096221\n",
            "Episode: 170 Reward: -21 Steps Taken: 2 Terminal State: H, Epsilon: 0.6741995737878729\n",
            "Episode: 180 Reward: -26 Steps Taken: 7 Terminal State: H, Epsilon: 0.6674878362682779\n",
            "Episode: 190 Reward: -26 Steps Taken: 7 Terminal State: H, Epsilon: 0.6608429148996913\n",
            "Episode: 200 Reward: -23 Steps Taken: 4 Terminal State: H, Epsilon: 0.6542641445193258\n",
            "Episode: 210 Reward: -23 Steps Taken: 4 Terminal State: H, Epsilon: 0.6477508665861693\n",
            "Episode: 220 Reward: -21 Steps Taken: 2 Terminal State: H, Epsilon: 0.6413024291150646\n",
            "Episode: 230 Reward: -21 Steps Taken: 2 Terminal State: H, Epsilon: 0.6349181866114447\n",
            "Episode: 240 Reward: 77 Steps Taken: 24 Terminal State: G, Epsilon: 0.6285975000067183\n",
            "Episode: 250 Reward: -26 Steps Taken: 7 Terminal State: H, Epsilon: 0.6223397365942986\n",
            "Episode: 260 Reward: -22 Steps Taken: 3 Terminal State: H, Epsilon: 0.6161442699662687\n",
            "Episode: 270 Reward: -24 Steps Taken: 5 Terminal State: H, Epsilon: 0.6100104799506774\n",
            "Episode: 280 Reward: -24 Steps Taken: 5 Terminal State: H, Epsilon: 0.6039377525494594\n",
            "Episode: 290 Reward: -21 Steps Taken: 2 Terminal State: H, Epsilon: 0.5979254798769741\n",
            "Episode: 300 Reward: -21 Steps Taken: 2 Terminal State: H, Epsilon: 0.5919730600991551\n",
            "Episode: 310 Reward: -21 Steps Taken: 2 Terminal State: H, Epsilon: 0.5860798973732659\n",
            "Episode: 320 Reward: -25 Steps Taken: 6 Terminal State: H, Epsilon: 0.5802454017882566\n",
            "Episode: 330 Reward: -26 Steps Taken: 7 Terminal State: H, Epsilon: 0.5744689893057117\n",
            "Episode: 340 Reward: -22 Steps Taken: 3 Terminal State: H, Epsilon: 0.5687500817013885\n",
            "Episode: 350 Reward: -22 Steps Taken: 3 Terminal State: H, Epsilon: 0.5630881065073355\n",
            "Episode: 360 Reward: -21 Steps Taken: 2 Terminal State: H, Epsilon: 0.557482496954589\n",
            "Episode: 370 Reward: -21 Steps Taken: 2 Terminal State: H, Epsilon: 0.5519326919164373\n",
            "Episode: 380 Reward: -26 Steps Taken: 7 Terminal State: H, Epsilon: 0.5464381358522531\n",
            "Episode: 390 Reward: -23 Steps Taken: 4 Terminal State: H, Epsilon: 0.5409982787518822\n",
            "Episode: 400 Reward: -21 Steps Taken: 2 Terminal State: H, Epsilon: 0.5356125760805872\n",
            "Episode: 410 Reward: -22 Steps Taken: 3 Terminal State: H, Epsilon: 0.5302804887245397\n",
            "Episode: 420 Reward: -26 Steps Taken: 7 Terminal State: H, Epsilon: 0.5250014829368536\n",
            "Episode: 430 Reward: -21 Steps Taken: 2 Terminal State: H, Epsilon: 0.5197750302841573\n",
            "Episode: 440 Reward: -21 Steps Taken: 2 Terminal State: H, Epsilon: 0.5146006075936969\n",
            "Episode: 450 Reward: -21 Steps Taken: 2 Terminal State: H, Epsilon: 0.5094776969009654\n",
            "Episode: 460 Reward: -24 Steps Taken: 5 Terminal State: H, Epsilon: 0.5044057853978547\n",
            "Episode: 470 Reward: -29 Steps Taken: 10 Terminal State: H, Epsilon: 0.49938436538132314\n",
            "Episode: 480 Reward: -23 Steps Taken: 4 Terminal State: H, Epsilon: 0.4944129342025731\n",
            "Episode: 490 Reward: -21 Steps Taken: 2 Terminal State: H, Epsilon: 0.48949099421673664\n",
            "Episode: 500 Reward: -25 Steps Taken: 6 Terminal State: H, Epsilon: 0.48461805273305963\n",
            "Episode: 510 Reward: -22 Steps Taken: 3 Terminal State: H, Epsilon: 0.47979362196558345\n",
            "Episode: 520 Reward: -28 Steps Taken: 9 Terminal State: H, Epsilon: 0.4750172189843173\n",
            "Episode: 530 Reward: -21 Steps Taken: 2 Terminal State: H, Epsilon: 0.47028836566689614\n",
            "Episode: 540 Reward: -21 Steps Taken: 2 Terminal State: H, Epsilon: 0.46560658865072047\n",
            "Episode: 550 Reward: -28 Steps Taken: 9 Terminal State: H, Epsilon: 0.460971419285572\n",
            "Episode: 560 Reward: -21 Steps Taken: 2 Terminal State: H, Epsilon: 0.4563823935867017\n",
            "Episode: 570 Reward: -24 Steps Taken: 5 Terminal State: H, Epsilon: 0.45183905218838427\n",
            "Episode: 580 Reward: -28 Steps Taken: 9 Terminal State: H, Epsilon: 0.44734094029793514\n",
            "Episode: 590 Reward: -23 Steps Taken: 4 Terminal State: H, Epsilon: 0.4428876076501854\n",
            "Episode: 600 Reward: -29 Steps Taken: 10 Terminal State: H, Epsilon: 0.4384786084624098\n",
            "Episode: 610 Reward: -21 Steps Taken: 2 Terminal State: H, Epsilon: 0.4341135013897036\n",
            "Episode: 620 Reward: -27 Steps Taken: 8 Terminal State: H, Epsilon: 0.4297918494808035\n",
            "Episode: 630 Reward: -21 Steps Taken: 2 Terminal State: H, Epsilon: 0.4255132201343483\n",
            "Episode: 640 Reward: -28 Steps Taken: 9 Terminal State: H, Epsilon: 0.42127718505557504\n",
            "Episode: 650 Reward: -21 Steps Taken: 2 Terminal State: H, Epsilon: 0.41708332021344663\n",
            "Episode: 660 Reward: -21 Steps Taken: 2 Terminal State: H, Epsilon: 0.4129312057982058\n",
            "Episode: 670 Reward: -21 Steps Taken: 2 Terminal State: H, Epsilon: 0.4088204261793515\n",
            "Episode: 680 Reward: -23 Steps Taken: 4 Terminal State: H, Epsilon: 0.40475056986403424\n",
            "Episode: 690 Reward: -21 Steps Taken: 2 Terminal State: H, Epsilon: 0.4007212294558651\n",
            "Episode: 700 Reward: -21 Steps Taken: 2 Terminal State: H, Epsilon: 0.3967320016141349\n",
            "Episode: 710 Reward: -21 Steps Taken: 2 Terminal State: H, Epsilon: 0.3927824870134399\n",
            "Episode: 720 Reward: -25 Steps Taken: 6 Terminal State: H, Epsilon: 0.38887229030370796\n",
            "Episode: 730 Reward: -22 Steps Taken: 3 Terminal State: H, Epsilon: 0.385001020070625\n",
            "Episode: 740 Reward: -21 Steps Taken: 2 Terminal State: H, Epsilon: 0.3811682887964528\n",
            "Episode: 750 Reward: -22 Steps Taken: 3 Terminal State: H, Epsilon: 0.37737371282123877\n",
            "Episode: 760 Reward: -21 Steps Taken: 2 Terminal State: H, Epsilon: 0.3736169123044112\n",
            "Episode: 770 Reward: -21 Steps Taken: 2 Terminal State: H, Epsilon: 0.36989751118675673\n",
            "Episode: 780 Reward: -27 Steps Taken: 8 Terminal State: H, Epsilon: 0.36621513715277654\n",
            "Episode: 790 Reward: -21 Steps Taken: 2 Terminal State: H, Epsilon: 0.36256942159341715\n",
            "Episode: 800 Reward: -26 Steps Taken: 7 Terminal State: H, Epsilon: 0.3589599995691724\n",
            "Episode: 810 Reward: -23 Steps Taken: 4 Terminal State: H, Epsilon: 0.3553865097735525\n",
            "Episode: 820 Reward: -21 Steps Taken: 2 Terminal State: H, Epsilon: 0.3518485944969173\n",
            "Episode: 830 Reward: -26 Steps Taken: 7 Terminal State: H, Epsilon: 0.34834589959066875\n",
            "Episode: 840 Reward: -22 Steps Taken: 3 Terminal State: H, Epsilon: 0.34487807443180063\n",
            "Episode: 850 Reward: -26 Steps Taken: 7 Terminal State: H, Epsilon: 0.3414447718878007\n",
            "Episode: 860 Reward: 92 Steps Taken: 9 Terminal State: G, Epsilon: 0.33804564828190237\n",
            "Episode: 870 Reward: -43 Steps Taken: 24 Terminal State: H, Epsilon: 0.33468036335868273\n",
            "Episode: 880 Reward: 92 Steps Taken: 9 Terminal State: G, Epsilon: 0.3313485802500021\n",
            "Episode: 890 Reward: 90 Steps Taken: 11 Terminal State: G, Epsilon: 0.3280499654412834\n",
            "Episode: 900 Reward: -24 Steps Taken: 5 Terminal State: H, Epsilon: 0.32478418873812753\n",
            "Episode: 910 Reward: -22 Steps Taken: 3 Terminal State: H, Epsilon: 0.32155092323325973\n",
            "Episode: 920 Reward: 90 Steps Taken: 11 Terminal State: G, Epsilon: 0.3183498452738065\n",
            "Episode: 930 Reward: -21 Steps Taken: 2 Terminal State: H, Epsilon: 0.3151806344288976\n",
            "Episode: 940 Reward: 92 Steps Taken: 9 Terminal State: G, Epsilon: 0.31204297345759036\n",
            "Episode: 950 Reward: 92 Steps Taken: 9 Terminal State: G, Epsilon: 0.3089365482771137\n",
            "Episode: 960 Reward: 91 Steps Taken: 10 Terminal State: G, Epsilon: 0.30586104793142815\n",
            "Episode: 970 Reward: 89 Steps Taken: 12 Terminal State: G, Epsilon: 0.30281616456009885\n",
            "Episode: 980 Reward: -35 Steps Taken: 16 Terminal State: H, Epsilon: 0.29980159336747847\n",
            "Episode: 990 Reward: -26 Steps Taken: 7 Terminal State: H, Epsilon: 0.29681703259219694\n"
          ],
          "name": "stdout"
        }
      ]
    },
    {
      "cell_type": "code",
      "metadata": {
        "id": "p5zZHwLdAE9Q"
      },
      "source": [
        "%matplotlib inline"
      ],
      "execution_count": 82,
      "outputs": []
    },
    {
      "cell_type": "code",
      "metadata": {
        "colab": {
          "base_uri": "https://localhost:8080/",
          "height": 295
        },
        "id": "mPVPsTNjBSLH",
        "outputId": "23eaad2b-19ba-4874-9a22-92f6df958317"
      },
      "source": [
        "plt.axhline(y=8, color='green', linestyle='-')\n",
        "plt.bar(np.arange(0, 1000), steps_total, \n",
        "        width = 0.4, color = 'blue')\n",
        "plt.xlabel('episode index')\n",
        "plt.ylabel('number of steps taken')\n",
        "plt.title(' Restricted 5x5 Negative Rewards Transfer')\n",
        "plt.show()"
      ],
      "execution_count": 86,
      "outputs": [
        {
          "output_type": "display_data",
          "data": {
            "image/png": "[encoded data removed]",
            "text/plain": [
              "<Figure size 432x288 with 1 Axes>"
            ]
          },
          "metadata": {
            "tags": [],
            "needs_background": "light"
          }
        }
      ]
    },
    {
      "cell_type": "code",
      "metadata": {
        "colab": {
          "base_uri": "https://localhost:8080/",
          "height": 312
        },
        "id": "ys96EWuuBVFb",
        "outputId": "267c6be3-0f1f-405c-de67-8ffb53013aab"
      },
      "source": [
        "plt.scatter(np.arange(0, 1000), rewards_total, s = 0.5, color = 'blue')\n",
        "plt.title('Restricted 5x5 Negative Rewards Transfer')\n",
        "plt.xlabel('episode')\n",
        "plt.ylabel('reward')"
      ],
      "execution_count": 85,
      "outputs": [
        {
          "output_type": "execute_result",
          "data": {
            "text/plain": [
              "Text(0, 0.5, 'reward')"
            ]
          },
          "metadata": {
            "tags": []
          },
          "execution_count": 85
        },
        {
          "output_type": "display_data",
          "data": {
            "image/png": "[encoded data removed]",
            "text/plain": [
              "<Figure size 432x288 with 1 Axes>"
            ]
          },
          "metadata": {
            "tags": [],
            "needs_background": "light"
          }
        }
      ]
    },
    {
      "cell_type": "code",
      "metadata": {
        "id": "CHqdsEdIBZFC"
      },
      "source": [
        ""
      ],
      "execution_count": null,
      "outputs": []
    }
  ]
}