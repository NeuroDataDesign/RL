{
  "nbformat": 4,
  "nbformat_minor": 0,
  "metadata": {
    "colab": {
      "name": "base_4x4.ipynb",
      "provenance": [],
      "collapsed_sections": []
    },
    "kernelspec": {
      "name": "python3",
      "display_name": "Python 3"
    },
    "language_info": {
      "name": "python"
    },
    "accelerator": "GPU"
  },
  "cells": [
    {
      "cell_type": "code",
      "metadata": {
        "id": "Q-yiwx-dEz2N"
      },
      "source": [
        "import gym\n",
        "import numpy as np\n",
        "import random\n",
        "import torch\n",
        "import time\n",
        "import matplotlib.pyplot as plt\n",
        "import pandas as pd"
      ],
      "execution_count": 1,
      "outputs": []
    },
    {
      "cell_type": "code",
      "metadata": {
        "id": "KOxNUQHRL5t_"
      },
      "source": [
        "map = ['SFFF',\n",
        "          'FHFH',\n",
        "          'HFFH',\n",
        "          'HFFG']\n",
        "\n"
      ],
      "execution_count": 2,
      "outputs": []
    },
    {
      "cell_type": "code",
      "metadata": {
        "colab": {
          "base_uri": "https://localhost:8080/"
        },
        "id": "W_FdoKdqM0qt",
        "outputId": "c67d0987-6228-4b28-e9ea-577c4d403627"
      },
      "source": [
        "env = gym.make('FrozenLake-v0', is_slippery=False, desc = map)\n",
        "\n",
        "\n",
        "# visualize 4x4 frozen lake\n",
        "env.render()"
      ],
      "execution_count": 3,
      "outputs": [
        {
          "output_type": "stream",
          "text": [
            "\n",
            "\u001b[41mS\u001b[0mFFF\n",
            "FHFH\n",
            "HFFH\n",
            "HFFG\n"
          ],
          "name": "stdout"
        }
      ]
    },
    {
      "cell_type": "code",
      "metadata": {
        "id": "2U4M9EydYhrn",
        "colab": {
          "base_uri": "https://localhost:8080/"
        },
        "outputId": "4947d945-0cce-4db1-8a0f-ad3e90209711"
      },
      "source": [
        "# Total number of States and Actions\n",
        "n_states = env.observation_space.n\n",
        "n_actions = env.action_space.n\n",
        "n_rows = 4\n",
        "n_cols = 4\n",
        "print( \"States = \", n_states)\n",
        "print( \"Actions = \", n_actions)"
      ],
      "execution_count": 4,
      "outputs": [
        {
          "output_type": "stream",
          "text": [
            "States =  16\n",
            "Actions =  4\n"
          ],
          "name": "stdout"
        }
      ]
    },
    {
      "cell_type": "code",
      "metadata": {
        "id": "dkf7Y6uUZWcT"
      },
      "source": [
        "def restrict_actions(Q, n_states, n_rows):\n",
        "\n",
        "  Q.at[n_states -1, :] = np.zeros(n_actions,)\n",
        "  for i in range( 0, n_states, n_rows): \n",
        "    Q.at[i,0] = np.NaN\n",
        "  for i in range( n_rows -1 , n_states, n_rows): \n",
        "    Q.at[i,2] = np.NaN\n",
        "  for i in range(0, n_rows):\n",
        "    Q.at[i,3] = np.NaN\n",
        "  for i in range(n_states - n_rows , n_states):\n",
        "    Q.at[i,1 ]= np.NaN\n",
        "  \n",
        "  return Q\n",
        "  "
      ],
      "execution_count": 5,
      "outputs": []
    },
    {
      "cell_type": "code",
      "metadata": {
        "id": "WZaLFyMBOtR6"
      },
      "source": [
        "def rewarder(new_state, reward):\n",
        "  if og_4x4[rowsandcols(new_state)[0]][rowsandcols(new_state)[1]]== 'H':\n",
        "    reward -= 20\n",
        "  elif og_4x4[rowsandcols(new_state)[0]][rowsandcols(new_state)[1]]== 'F':\n",
        "    reward -= 1 \n",
        "  elif og_4x4[rowsandcols(new_state)[0]][rowsandcols(new_state)[1]]== 'S':\n",
        "    reward -= 1\n",
        "  else: #goal\n",
        "    reward += 100\n",
        "\n",
        "  return reward"
      ],
      "execution_count": 6,
      "outputs": []
    },
    {
      "cell_type": "code",
      "metadata": {
        "id": "etJ3l_EdNC7E"
      },
      "source": [
        "def choose_action(Q, state, epsilon):\n",
        "  random_for_epsilon = np.random.rand()\n",
        "  if random_for_epsilon <= epsilon:\n",
        "    s = Q.loc[state].notna()\n",
        "    vals = s[s].index.values\n",
        "    action = random.choice(vals)\n",
        "  else: \n",
        "    Q.loc[state] += np.random.rand(n_actions,)/100\n",
        "    action = np.argmax(Q.loc[state])\n",
        "  return action"
      ],
      "execution_count": 7,
      "outputs": []
    },
    {
      "cell_type": "code",
      "metadata": {
        "id": "bc9jRORuNFkd"
      },
      "source": [
        "##assign index to each state using state-matrix\n",
        "\n",
        "state_matrix = np.arange(0,n_states).reshape(n_rows,n_cols)\n",
        "state_matrix\n",
        "\n",
        "def rowsandcols(state):\n",
        "  ''' input: state returned by env\n",
        "      output: location of state as (row,col) tuple'''\n",
        "  return int(np.where(state_matrix ==state)[0]), int(np.where(state_matrix ==state)[1])"
      ],
      "execution_count": 8,
      "outputs": []
    },
    {
      "cell_type": "code",
      "metadata": {
        "id": "_8BCvWMUNTYE"
      },
      "source": [
        "#### Initialize Q-table"
      ],
      "execution_count": null,
      "outputs": []
    },
    {
      "cell_type": "code",
      "metadata": {
        "id": "DWl1X4Mk30No",
        "colab": {
          "base_uri": "https://localhost:8080/",
          "height": 545
        },
        "outputId": "e0edea49-120d-40f8-fc60-59eae391be3e"
      },
      "source": [
        "Q = pd.DataFrame(np.random.rand(n_states,n_actions)/1000)\n",
        "Q.loc[15] = np.zeros(n_actions,)\n",
        "#Q = restrict_actions(Q, n_states, n_rows)\n",
        "Q"
      ],
      "execution_count": 9,
      "outputs": [
        {
          "output_type": "execute_result",
          "data": {
            "text/html": [
              "<div>\n",
              "<style scoped>\n",
              "    .dataframe tbody tr th:only-of-type {\n",
              "        vertical-align: middle;\n",
              "    }\n",
              "\n",
              "    .dataframe tbody tr th {\n",
              "        vertical-align: top;\n",
              "    }\n",
              "\n",
              "    .dataframe thead th {\n",
              "        text-align: right;\n",
              "    }\n",
              "</style>\n",
              "<table border=\"1\" class=\"dataframe\">\n",
              "  <thead>\n",
              "    <tr style=\"text-align: right;\">\n",
              "      <th></th>\n",
              "      <th>0</th>\n",
              "      <th>1</th>\n",
              "      <th>2</th>\n",
              "      <th>3</th>\n",
              "    </tr>\n",
              "  </thead>\n",
              "  <tbody>\n",
              "    <tr>\n",
              "      <th>0</th>\n",
              "      <td>0.000095</td>\n",
              "      <td>4.993489e-04</td>\n",
              "      <td>0.000161</td>\n",
              "      <td>0.000192</td>\n",
              "    </tr>\n",
              "    <tr>\n",
              "      <th>1</th>\n",
              "      <td>0.000372</td>\n",
              "      <td>5.723517e-04</td>\n",
              "      <td>0.000803</td>\n",
              "      <td>0.000747</td>\n",
              "    </tr>\n",
              "    <tr>\n",
              "      <th>2</th>\n",
              "      <td>0.000150</td>\n",
              "      <td>8.657169e-04</td>\n",
              "      <td>0.000898</td>\n",
              "      <td>0.000793</td>\n",
              "    </tr>\n",
              "    <tr>\n",
              "      <th>3</th>\n",
              "      <td>0.000194</td>\n",
              "      <td>3.608201e-04</td>\n",
              "      <td>0.000684</td>\n",
              "      <td>0.000392</td>\n",
              "    </tr>\n",
              "    <tr>\n",
              "      <th>4</th>\n",
              "      <td>0.000227</td>\n",
              "      <td>4.559059e-05</td>\n",
              "      <td>0.000317</td>\n",
              "      <td>0.000466</td>\n",
              "    </tr>\n",
              "    <tr>\n",
              "      <th>5</th>\n",
              "      <td>0.000851</td>\n",
              "      <td>8.735077e-04</td>\n",
              "      <td>0.000749</td>\n",
              "      <td>0.000704</td>\n",
              "    </tr>\n",
              "    <tr>\n",
              "      <th>6</th>\n",
              "      <td>0.000277</td>\n",
              "      <td>4.942295e-04</td>\n",
              "      <td>0.000712</td>\n",
              "      <td>0.000758</td>\n",
              "    </tr>\n",
              "    <tr>\n",
              "      <th>7</th>\n",
              "      <td>0.000405</td>\n",
              "      <td>7.559458e-04</td>\n",
              "      <td>0.000258</td>\n",
              "      <td>0.000790</td>\n",
              "    </tr>\n",
              "    <tr>\n",
              "      <th>8</th>\n",
              "      <td>0.000837</td>\n",
              "      <td>8.577749e-04</td>\n",
              "      <td>0.000611</td>\n",
              "      <td>0.000927</td>\n",
              "    </tr>\n",
              "    <tr>\n",
              "      <th>9</th>\n",
              "      <td>0.000222</td>\n",
              "      <td>2.888367e-05</td>\n",
              "      <td>0.000048</td>\n",
              "      <td>0.000502</td>\n",
              "    </tr>\n",
              "    <tr>\n",
              "      <th>10</th>\n",
              "      <td>0.000830</td>\n",
              "      <td>7.755669e-04</td>\n",
              "      <td>0.000646</td>\n",
              "      <td>0.000841</td>\n",
              "    </tr>\n",
              "    <tr>\n",
              "      <th>11</th>\n",
              "      <td>0.000962</td>\n",
              "      <td>3.995456e-04</td>\n",
              "      <td>0.000278</td>\n",
              "      <td>0.000821</td>\n",
              "    </tr>\n",
              "    <tr>\n",
              "      <th>12</th>\n",
              "      <td>0.000759</td>\n",
              "      <td>4.140855e-04</td>\n",
              "      <td>0.000219</td>\n",
              "      <td>0.000139</td>\n",
              "    </tr>\n",
              "    <tr>\n",
              "      <th>13</th>\n",
              "      <td>0.000249</td>\n",
              "      <td>4.360511e-08</td>\n",
              "      <td>0.000002</td>\n",
              "      <td>0.000065</td>\n",
              "    </tr>\n",
              "    <tr>\n",
              "      <th>14</th>\n",
              "      <td>0.000913</td>\n",
              "      <td>4.149465e-04</td>\n",
              "      <td>0.000539</td>\n",
              "      <td>0.000344</td>\n",
              "    </tr>\n",
              "    <tr>\n",
              "      <th>15</th>\n",
              "      <td>0.000000</td>\n",
              "      <td>0.000000e+00</td>\n",
              "      <td>0.000000</td>\n",
              "      <td>0.000000</td>\n",
              "    </tr>\n",
              "  </tbody>\n",
              "</table>\n",
              "</div>"
            ],
            "text/plain": [
              "           0             1         2         3\n",
              "0   0.000095  4.993489e-04  0.000161  0.000192\n",
              "1   0.000372  5.723517e-04  0.000803  0.000747\n",
              "2   0.000150  8.657169e-04  0.000898  0.000793\n",
              "3   0.000194  3.608201e-04  0.000684  0.000392\n",
              "4   0.000227  4.559059e-05  0.000317  0.000466\n",
              "5   0.000851  8.735077e-04  0.000749  0.000704\n",
              "6   0.000277  4.942295e-04  0.000712  0.000758\n",
              "7   0.000405  7.559458e-04  0.000258  0.000790\n",
              "8   0.000837  8.577749e-04  0.000611  0.000927\n",
              "9   0.000222  2.888367e-05  0.000048  0.000502\n",
              "10  0.000830  7.755669e-04  0.000646  0.000841\n",
              "11  0.000962  3.995456e-04  0.000278  0.000821\n",
              "12  0.000759  4.140855e-04  0.000219  0.000139\n",
              "13  0.000249  4.360511e-08  0.000002  0.000065\n",
              "14  0.000913  4.149465e-04  0.000539  0.000344\n",
              "15  0.000000  0.000000e+00  0.000000  0.000000"
            ]
          },
          "metadata": {
            "tags": []
          },
          "execution_count": 9
        }
      ]
    },
    {
      "cell_type": "code",
      "metadata": {
        "id": "Hj5IskDPPcCT"
      },
      "source": [
        "epsilon = 0.8\n",
        "epsilon_final = 0.1\n",
        "epsilon_decay = 0.999\n",
        "gamma = 0.90 # discount factor\n",
        "learning_rate = 0.9 #how important is the difference between q-val from q-table and what's observed"
      ],
      "execution_count": 10,
      "outputs": []
    },
    {
      "cell_type": "code",
      "metadata": {
        "id": "ZZWfuWX-PiV3"
      },
      "source": [
        "reps = 100\n",
        "num_episodes = 1000"
      ],
      "execution_count": 11,
      "outputs": []
    },
    {
      "cell_type": "code",
      "metadata": {
        "id": "ai7-U-UJQLO7"
      },
      "source": [
        "n_successes = []\n",
        "\n",
        "for i_rep in range(reps):\n",
        "  \n",
        "  steps_total = [] # store number of steps taken in each episode\n",
        "  rewards_total = [] #store reward obtained for each episode\n",
        "  epsilon_total = [] #store epsilon obtained at the end of each episode\n",
        "  terminal_state = [] \n",
        "\n",
        "  epsilon = 0.8\n",
        "  epsilon_final = 0.1\n",
        "  epsilon_decay = 0.999\n",
        "  gamma = 0.90 # discount factor\n",
        "  learning_rate = 0.9 #how important is the difference between q-val from q-table and what's observed\n",
        "\n",
        "  Q = pd.DataFrame(np.random.rand(n_states,n_actions)/1000)\n",
        "  Q.loc[15] = np.zeros(n_actions,)\n",
        "\n",
        "  for i_episode in range(num_episodes):\n",
        "    \n",
        "    # resets the environment\n",
        "    state = env.reset()\n",
        "    step = 0\n",
        "    #reward = 0\n",
        "\n",
        "  ## as epsilon decays with more timesteps, the prob. of selecting a random val < e decays --> more likely to exploit. \n",
        "    if epsilon > epsilon_final:\n",
        "            epsilon *= epsilon_decay\n",
        "\n",
        "    while True:\n",
        "        \n",
        "        step += 1\n",
        "        \n",
        "        random_for_epsilon = np.random.rand()\n",
        "        if random_for_epsilon <= epsilon:\n",
        "          action = env.action_space.sample()\n",
        "        else: \n",
        "          action = np.argmax(Q.loc[state])\n",
        "  \n",
        "         \n",
        "        ## env gives reward and next state and whether we've reached terminal state upon taking action at current state.. \n",
        "        new_state, reward , done, info = env.step(action)\n",
        "\n",
        "        ##if you want reward penalized at for each timestep\n",
        "        #reward = rewarder(new_state, reward)\n",
        "\n",
        "        # filling the Q Table - \n",
        "        \n",
        "        Q.loc[state, action] = (1- learning_rate)*Q.at[state, action] + learning_rate*(reward + gamma * np.max(Q.loc[new_state]))\n",
        "        \n",
        "        # Setting new state for next action\n",
        "        state = new_state\n",
        "        tile = map[rowsandcols(state)[0]][rowsandcols(state)[1]]\n",
        "        #env.render()\n",
        "        \n",
        "        if done:\n",
        "          #print(Q)\n",
        "          \n",
        "          terminal_state.append(tile)\n",
        "          #steps_total.append(step)\n",
        "          #rewards_total.append(reward)\n",
        "          #epsilon_total.append(epsilon)\n",
        "          #if i_episode % 10 == 0:\n",
        "            #print('Episode: {} Reward: {} Steps Taken: {} Terminal State: {}, Epsilon: {}'.format(i_episode,reward, step, tile, epsilon))\n",
        "          break\n",
        "  n_successes.append(terminal_state.count('G'))\n"
      ],
      "execution_count": 12,
      "outputs": []
    },
    {
      "cell_type": "code",
      "metadata": {
        "id": "U6keuXhi0KNG"
      },
      "source": [
        "n_successes"
      ],
      "execution_count": null,
      "outputs": []
    },
    {
      "cell_type": "code",
      "metadata": {
        "id": "H3zXJ1TC0Z2d"
      },
      "source": [
        "import plotly.express as px \n"
      ],
      "execution_count": 18,
      "outputs": []
    },
    {
      "cell_type": "code",
      "metadata": {
        "colab": {
          "base_uri": "https://localhost:8080/",
          "height": 542
        },
        "id": "Gik86O7Q0ujZ",
        "outputId": "d53d7929-f3f0-424e-8125-5745e2476c01"
      },
      "source": [
        "\n",
        "fig = px.bar( x= np.arange(1,101), y= n_successes)\n",
        "fig.update_layout(\n",
        "    title=\"N_success base 4x4\",\n",
        "    xaxis=dict(\n",
        "        title='rep',\n",
        "        tickmode='linear'),\n",
        "    yaxis_title=\"n_successes per 1000 episodes\",\n",
        "    font=dict(\n",
        "        family=\"Courier New, monospace\",\n",
        "        size=18))\n",
        "\n",
        "fig.show()"
      ],
      "execution_count": 30,
      "outputs": [
        {
          "output_type": "display_data",
          "data": {
            "text/html": [
              "<html>\n",
              "<head><meta charset=\"utf-8\" /></head>\n",
              "<body>\n",
              "    <div>\n",
              "            <script src=\"https://cdnjs.cloudflare.com/ajax/libs/mathjax/2.7.5/MathJax.js?config=TeX-AMS-MML_SVG\"></script><script type=\"text/javascript\">if (window.MathJax) {MathJax.Hub.Config({SVG: {font: \"STIX-Web\"}});}</script>\n",
              "                <script type=\"text/javascript\">window.PlotlyConfig = {MathJaxConfig: 'local'};</script>\n",
              "        <script src=\"https://cdn.plot.ly/plotly-latest.min.js\"></script>    \n",
              "            <div id=\"6fdda5ad-ff3f-4a5f-ad9b-a568cf404272\" class=\"plotly-graph-div\" style=\"height:525px; width:100%;\"></div>\n",
              "            <script type=\"text/javascript\">\n",
              "                \n",
              "                    window.PLOTLYENV=window.PLOTLYENV || {};\n",
              "                    \n",
              "                if (document.getElementById(\"6fdda5ad-ff3f-4a5f-ad9b-a568cf404272\")) {\n",
              "                    Plotly.newPlot(\n",
              "                        '6fdda5ad-ff3f-4a5f-ad9b-a568cf404272',\n",
              "                        [{\"alignmentgroup\": \"True\", \"hoverlabel\": {\"namelength\": 0}, \"hovertemplate\": \"x=%{x}<br>y=%{y}\", \"legendgroup\": \"\", \"marker\": {\"color\": \"#636efa\"}, \"name\": \"\", \"offsetgroup\": \"\", \"orientation\": \"v\", \"showlegend\": false, \"textposition\": \"auto\", \"type\": \"bar\", \"x\": [1, 2, 3, 4, 5, 6, 7, 8, 9, 10, 11, 12, 13, 14, 15, 16, 17, 18, 19, 20, 21, 22, 23, 24, 25, 26, 27, 28, 29, 30, 31, 32, 33, 34, 35, 36, 37, 38, 39, 40, 41, 42, 43, 44, 45, 46, 47, 48, 49, 50, 51, 52, 53, 54, 55, 56, 57, 58, 59, 60, 61, 62, 63, 64, 65, 66, 67, 68, 69, 70, 71, 72, 73, 74, 75, 76, 77, 78, 79, 80, 81, 82, 83, 84, 85, 86, 87, 88, 89, 90, 91, 92, 93, 94, 95, 96, 97, 98, 99, 100], \"xaxis\": \"x\", \"y\": [354, 0, 0, 346, 2, 0, 2, 360, 0, 1, 0, 0, 0, 0, 0, 157, 0, 0, 1, 342, 350, 0, 1, 0, 0, 0, 1, 0, 268, 0, 361, 321, 0, 0, 272, 0, 0, 0, 1, 1, 0, 1, 379, 0, 1, 0, 371, 0, 0, 351, 0, 0, 0, 336, 0, 0, 0, 360, 345, 380, 0, 378, 1, 0, 1, 267, 0, 328, 1, 241, 0, 0, 0, 1, 0, 0, 383, 1, 1, 0, 0, 0, 0, 1, 0, 0, 0, 0, 0, 347, 0, 1, 0, 377, 0, 359, 3, 0, 1, 0], \"yaxis\": \"y\"}],\n",
              "                        {\"barmode\": \"relative\", \"font\": {\"family\": \"Courier New, monospace\", \"size\": 18}, \"legend\": {\"tracegroupgap\": 0}, \"margin\": {\"t\": 60}, \"template\": {\"data\": {\"bar\": [{\"error_x\": {\"color\": \"#2a3f5f\"}, \"error_y\": {\"color\": \"#2a3f5f\"}, \"marker\": {\"line\": {\"color\": \"#E5ECF6\", \"width\": 0.5}}, \"type\": \"bar\"}], \"barpolar\": [{\"marker\": {\"line\": {\"color\": \"#E5ECF6\", \"width\": 0.5}}, \"type\": \"barpolar\"}], \"carpet\": [{\"aaxis\": {\"endlinecolor\": \"#2a3f5f\", \"gridcolor\": \"white\", \"linecolor\": \"white\", \"minorgridcolor\": \"white\", \"startlinecolor\": \"#2a3f5f\"}, \"baxis\": {\"endlinecolor\": \"#2a3f5f\", \"gridcolor\": \"white\", \"linecolor\": \"white\", \"minorgridcolor\": \"white\", \"startlinecolor\": \"#2a3f5f\"}, \"type\": \"carpet\"}], \"choropleth\": [{\"colorbar\": {\"outlinewidth\": 0, \"ticks\": \"\"}, \"type\": \"choropleth\"}], \"contour\": [{\"colorbar\": {\"outlinewidth\": 0, \"ticks\": \"\"}, \"colorscale\": [[0.0, \"#0d0887\"], [0.1111111111111111, \"#46039f\"], [0.2222222222222222, \"#7201a8\"], [0.3333333333333333, \"#9c179e\"], [0.4444444444444444, \"#bd3786\"], [0.5555555555555556, \"#d8576b\"], [0.6666666666666666, \"#ed7953\"], [0.7777777777777778, \"#fb9f3a\"], [0.8888888888888888, \"#fdca26\"], [1.0, \"#f0f921\"]], \"type\": \"contour\"}], \"contourcarpet\": [{\"colorbar\": {\"outlinewidth\": 0, \"ticks\": \"\"}, \"type\": \"contourcarpet\"}], \"heatmap\": [{\"colorbar\": {\"outlinewidth\": 0, \"ticks\": \"\"}, \"colorscale\": [[0.0, \"#0d0887\"], [0.1111111111111111, \"#46039f\"], [0.2222222222222222, \"#7201a8\"], [0.3333333333333333, \"#9c179e\"], [0.4444444444444444, \"#bd3786\"], [0.5555555555555556, \"#d8576b\"], [0.6666666666666666, \"#ed7953\"], [0.7777777777777778, \"#fb9f3a\"], [0.8888888888888888, \"#fdca26\"], [1.0, \"#f0f921\"]], \"type\": \"heatmap\"}], \"heatmapgl\": [{\"colorbar\": {\"outlinewidth\": 0, \"ticks\": \"\"}, \"colorscale\": [[0.0, \"#0d0887\"], [0.1111111111111111, \"#46039f\"], [0.2222222222222222, \"#7201a8\"], [0.3333333333333333, \"#9c179e\"], [0.4444444444444444, \"#bd3786\"], [0.5555555555555556, \"#d8576b\"], [0.6666666666666666, \"#ed7953\"], [0.7777777777777778, \"#fb9f3a\"], [0.8888888888888888, \"#fdca26\"], [1.0, \"#f0f921\"]], \"type\": \"heatmapgl\"}], \"histogram\": [{\"marker\": {\"colorbar\": {\"outlinewidth\": 0, \"ticks\": \"\"}}, \"type\": \"histogram\"}], \"histogram2d\": [{\"colorbar\": {\"outlinewidth\": 0, \"ticks\": \"\"}, \"colorscale\": [[0.0, \"#0d0887\"], [0.1111111111111111, \"#46039f\"], [0.2222222222222222, \"#7201a8\"], [0.3333333333333333, \"#9c179e\"], [0.4444444444444444, \"#bd3786\"], [0.5555555555555556, \"#d8576b\"], [0.6666666666666666, \"#ed7953\"], [0.7777777777777778, \"#fb9f3a\"], [0.8888888888888888, \"#fdca26\"], [1.0, \"#f0f921\"]], \"type\": \"histogram2d\"}], \"histogram2dcontour\": [{\"colorbar\": {\"outlinewidth\": 0, \"ticks\": \"\"}, \"colorscale\": [[0.0, \"#0d0887\"], [0.1111111111111111, \"#46039f\"], [0.2222222222222222, \"#7201a8\"], [0.3333333333333333, \"#9c179e\"], [0.4444444444444444, \"#bd3786\"], [0.5555555555555556, \"#d8576b\"], [0.6666666666666666, \"#ed7953\"], [0.7777777777777778, \"#fb9f3a\"], [0.8888888888888888, \"#fdca26\"], [1.0, \"#f0f921\"]], \"type\": \"histogram2dcontour\"}], \"mesh3d\": [{\"colorbar\": {\"outlinewidth\": 0, \"ticks\": \"\"}, \"type\": \"mesh3d\"}], \"parcoords\": [{\"line\": {\"colorbar\": {\"outlinewidth\": 0, \"ticks\": \"\"}}, \"type\": \"parcoords\"}], \"pie\": [{\"automargin\": true, \"type\": \"pie\"}], \"scatter\": [{\"marker\": {\"colorbar\": {\"outlinewidth\": 0, \"ticks\": \"\"}}, \"type\": \"scatter\"}], \"scatter3d\": [{\"line\": {\"colorbar\": {\"outlinewidth\": 0, \"ticks\": \"\"}}, \"marker\": {\"colorbar\": {\"outlinewidth\": 0, \"ticks\": \"\"}}, \"type\": \"scatter3d\"}], \"scattercarpet\": [{\"marker\": {\"colorbar\": {\"outlinewidth\": 0, \"ticks\": \"\"}}, \"type\": \"scattercarpet\"}], \"scattergeo\": [{\"marker\": {\"colorbar\": {\"outlinewidth\": 0, \"ticks\": \"\"}}, \"type\": \"scattergeo\"}], \"scattergl\": [{\"marker\": {\"colorbar\": {\"outlinewidth\": 0, \"ticks\": \"\"}}, \"type\": \"scattergl\"}], \"scattermapbox\": [{\"marker\": {\"colorbar\": {\"outlinewidth\": 0, \"ticks\": \"\"}}, \"type\": \"scattermapbox\"}], \"scatterpolar\": [{\"marker\": {\"colorbar\": {\"outlinewidth\": 0, \"ticks\": \"\"}}, \"type\": \"scatterpolar\"}], \"scatterpolargl\": [{\"marker\": {\"colorbar\": {\"outlinewidth\": 0, \"ticks\": \"\"}}, \"type\": \"scatterpolargl\"}], \"scatterternary\": [{\"marker\": {\"colorbar\": {\"outlinewidth\": 0, \"ticks\": \"\"}}, \"type\": \"scatterternary\"}], \"surface\": [{\"colorbar\": {\"outlinewidth\": 0, \"ticks\": \"\"}, \"colorscale\": [[0.0, \"#0d0887\"], [0.1111111111111111, \"#46039f\"], [0.2222222222222222, \"#7201a8\"], [0.3333333333333333, \"#9c179e\"], [0.4444444444444444, \"#bd3786\"], [0.5555555555555556, \"#d8576b\"], [0.6666666666666666, \"#ed7953\"], [0.7777777777777778, \"#fb9f3a\"], [0.8888888888888888, \"#fdca26\"], [1.0, \"#f0f921\"]], \"type\": \"surface\"}], \"table\": [{\"cells\": {\"fill\": {\"color\": \"#EBF0F8\"}, \"line\": {\"color\": \"white\"}}, \"header\": {\"fill\": {\"color\": \"#C8D4E3\"}, \"line\": {\"color\": \"white\"}}, \"type\": \"table\"}]}, \"layout\": {\"annotationdefaults\": {\"arrowcolor\": \"#2a3f5f\", \"arrowhead\": 0, \"arrowwidth\": 1}, \"coloraxis\": {\"colorbar\": {\"outlinewidth\": 0, \"ticks\": \"\"}}, \"colorscale\": {\"diverging\": [[0, \"#8e0152\"], [0.1, \"#c51b7d\"], [0.2, \"#de77ae\"], [0.3, \"#f1b6da\"], [0.4, \"#fde0ef\"], [0.5, \"#f7f7f7\"], [0.6, \"#e6f5d0\"], [0.7, \"#b8e186\"], [0.8, \"#7fbc41\"], [0.9, \"#4d9221\"], [1, \"#276419\"]], \"sequential\": [[0.0, \"#0d0887\"], [0.1111111111111111, \"#46039f\"], [0.2222222222222222, \"#7201a8\"], [0.3333333333333333, \"#9c179e\"], [0.4444444444444444, \"#bd3786\"], [0.5555555555555556, \"#d8576b\"], [0.6666666666666666, \"#ed7953\"], [0.7777777777777778, \"#fb9f3a\"], [0.8888888888888888, \"#fdca26\"], [1.0, \"#f0f921\"]], \"sequentialminus\": [[0.0, \"#0d0887\"], [0.1111111111111111, \"#46039f\"], [0.2222222222222222, \"#7201a8\"], [0.3333333333333333, \"#9c179e\"], [0.4444444444444444, \"#bd3786\"], [0.5555555555555556, \"#d8576b\"], [0.6666666666666666, \"#ed7953\"], [0.7777777777777778, \"#fb9f3a\"], [0.8888888888888888, \"#fdca26\"], [1.0, \"#f0f921\"]]}, \"colorway\": [\"#636efa\", \"#EF553B\", \"#00cc96\", \"#ab63fa\", \"#FFA15A\", \"#19d3f3\", \"#FF6692\", \"#B6E880\", \"#FF97FF\", \"#FECB52\"], \"font\": {\"color\": \"#2a3f5f\"}, \"geo\": {\"bgcolor\": \"white\", \"lakecolor\": \"white\", \"landcolor\": \"#E5ECF6\", \"showlakes\": true, \"showland\": true, \"subunitcolor\": \"white\"}, \"hoverlabel\": {\"align\": \"left\"}, \"hovermode\": \"closest\", \"mapbox\": {\"style\": \"light\"}, \"paper_bgcolor\": \"white\", \"plot_bgcolor\": \"#E5ECF6\", \"polar\": {\"angularaxis\": {\"gridcolor\": \"white\", \"linecolor\": \"white\", \"ticks\": \"\"}, \"bgcolor\": \"#E5ECF6\", \"radialaxis\": {\"gridcolor\": \"white\", \"linecolor\": \"white\", \"ticks\": \"\"}}, \"scene\": {\"xaxis\": {\"backgroundcolor\": \"#E5ECF6\", \"gridcolor\": \"white\", \"gridwidth\": 2, \"linecolor\": \"white\", \"showbackground\": true, \"ticks\": \"\", \"zerolinecolor\": \"white\"}, \"yaxis\": {\"backgroundcolor\": \"#E5ECF6\", \"gridcolor\": \"white\", \"gridwidth\": 2, \"linecolor\": \"white\", \"showbackground\": true, \"ticks\": \"\", \"zerolinecolor\": \"white\"}, \"zaxis\": {\"backgroundcolor\": \"#E5ECF6\", \"gridcolor\": \"white\", \"gridwidth\": 2, \"linecolor\": \"white\", \"showbackground\": true, \"ticks\": \"\", \"zerolinecolor\": \"white\"}}, \"shapedefaults\": {\"line\": {\"color\": \"#2a3f5f\"}}, \"ternary\": {\"aaxis\": {\"gridcolor\": \"white\", \"linecolor\": \"white\", \"ticks\": \"\"}, \"baxis\": {\"gridcolor\": \"white\", \"linecolor\": \"white\", \"ticks\": \"\"}, \"bgcolor\": \"#E5ECF6\", \"caxis\": {\"gridcolor\": \"white\", \"linecolor\": \"white\", \"ticks\": \"\"}}, \"title\": {\"x\": 0.05}, \"xaxis\": {\"automargin\": true, \"gridcolor\": \"white\", \"linecolor\": \"white\", \"ticks\": \"\", \"title\": {\"standoff\": 15}, \"zerolinecolor\": \"white\", \"zerolinewidth\": 2}, \"yaxis\": {\"automargin\": true, \"gridcolor\": \"white\", \"linecolor\": \"white\", \"ticks\": \"\", \"title\": {\"standoff\": 15}, \"zerolinecolor\": \"white\", \"zerolinewidth\": 2}}}, \"title\": {\"text\": \"N_success base 4x4\"}, \"xaxis\": {\"anchor\": \"y\", \"domain\": [0.0, 1.0], \"tickmode\": \"linear\", \"title\": {\"text\": \"rep\"}}, \"yaxis\": {\"anchor\": \"x\", \"domain\": [0.0, 1.0], \"title\": {\"text\": \"n_successes per 1000 episodes\"}}},\n",
              "                        {\"responsive\": true}\n",
              "                    ).then(function(){\n",
              "                            \n",
              "var gd = document.getElementById('6fdda5ad-ff3f-4a5f-ad9b-a568cf404272');\n",
              "var x = new MutationObserver(function (mutations, observer) {{\n",
              "        var display = window.getComputedStyle(gd).display;\n",
              "        if (!display || display === 'none') {{\n",
              "            console.log([gd, 'removed!']);\n",
              "            Plotly.purge(gd);\n",
              "            observer.disconnect();\n",
              "        }}\n",
              "}});\n",
              "\n",
              "// Listen for the removal of the full notebook cells\n",
              "var notebookContainer = gd.closest('#notebook-container');\n",
              "if (notebookContainer) {{\n",
              "    x.observe(notebookContainer, {childList: true});\n",
              "}}\n",
              "\n",
              "// Listen for the clearing of the current output cell\n",
              "var outputEl = gd.closest('.output');\n",
              "if (outputEl) {{\n",
              "    x.observe(outputEl, {childList: true});\n",
              "}}\n",
              "\n",
              "                        })\n",
              "                };\n",
              "                \n",
              "            </script>\n",
              "        </div>\n",
              "</body>\n",
              "</html>"
            ]
          },
          "metadata": {
            "tags": []
          }
        }
      ]
    },
    {
      "cell_type": "code",
      "metadata": {
        "colab": {
          "base_uri": "https://localhost:8080/"
        },
        "id": "PWTV0ZpDjxsb",
        "outputId": "13f5bdfb-5988-4838-db25-5135cc021614"
      },
      "source": [
        "print(np.mean(n_successes))\n",
        "print(np.std(n_successes))"
      ],
      "execution_count": 13,
      "outputs": [
        {
          "output_type": "stream",
          "text": [
            "83.57\n",
            "146.5573099507493\n"
          ],
          "name": "stdout"
        }
      ]
    },
    {
      "cell_type": "code",
      "metadata": {
        "id": "dVwtWKmEPT89"
      },
      "source": [
        ""
      ],
      "execution_count": null,
      "outputs": []
    }
  ]
}