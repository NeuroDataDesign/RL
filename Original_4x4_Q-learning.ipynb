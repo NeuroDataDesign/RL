{
  "nbformat": 4,
  "nbformat_minor": 0,
  "metadata": {
    "kernelspec": {
      "display_name": "Python 3",
      "language": "python",
      "name": "python3"
    },
    "language_info": {
      "codemirror_mode": {
        "name": "ipython",
        "version": 3
      },
      "file_extension": ".py",
      "mimetype": "text/x-python",
      "name": "python",
      "nbconvert_exporter": "python",
      "pygments_lexer": "ipython3",
      "version": "3.8.5-final"
    },
    "colab": {
      "name": "Q_Learning_frozenLake.ipynb",
      "provenance": []
    }
  },
  "cells": [
    {
      "cell_type": "markdown",
      "metadata": {
        "id": "7A7fa1WMOMwC"
      },
      "source": [
        "# Frozen Lake\n"
      ]
    },
    {
      "cell_type": "markdown",
      "metadata": {
        "id": "JPAWi834Wic3"
      },
      "source": [
        "#### import all requirements"
      ]
    },
    {
      "cell_type": "code",
      "metadata": {
        "id": "GutUwuMaOMwE"
      },
      "source": [
        "import gym"
      ],
      "execution_count": 4,
      "outputs": []
    },
    {
      "cell_type": "code",
      "metadata": {
        "id": "ODCLU5bEOMwF"
      },
      "source": [
        "import torch\n",
        "import time\n",
        "import matplotlib.pyplot as plt"
      ],
      "execution_count": 5,
      "outputs": []
    },
    {
      "cell_type": "code",
      "metadata": {
        "id": "__tL16A-OMwQ"
      },
      "source": [
        "import numpy as np\n",
        "import random"
      ],
      "execution_count": 6,
      "outputs": []
    },
    {
      "cell_type": "markdown",
      "metadata": {
        "id": "6ZH5jNHOWrpG"
      },
      "source": [
        "#### register 4x4 environment"
      ]
    },
    {
      "cell_type": "code",
      "metadata": {
        "id": "yy5GLvJLOMwG"
      },
      "source": [
        "from gym.envs.registration import register\n",
        "register(\n",
        "    id='FrozenLakeNotSlippery-v0',\n",
        "    entry_point='gym.envs.toy_text:FrozenLakeEnv',\n",
        "    kwargs={'map_name' : '4x4', 'is_slippery': False},\n",
        ")\n"
      ],
      "execution_count": 7,
      "outputs": []
    },
    {
      "cell_type": "code",
      "metadata": {
        "_cell_guid": "79c7e3d0-c299-4dcb-8224-4455121ee9b0",
        "_uuid": "d629ff2d2480ee46fbb7e2d37f6b5fab8052498a",
        "scrolled": true,
        "colab": {
          "base_uri": "https://localhost:8080/"
        },
        "id": "PCJLBfV9OMwG",
        "outputId": "3f3772b4-2b2f-4fea-94ea-0bd7312ea610"
      },
      "source": [
        "\n",
        "env = gym.make('FrozenLakeNotSlippery-v0')\n",
        "\n",
        "# Instantiate the Environment.\n",
        "# env = gym.make('FrozenLake-v0')\n",
        "\n",
        "# To check all environments present in OpenAI\n",
        "# print(envs.registry.all())\n",
        "\n",
        "# visualize 4x4 frozen lake\n",
        "env.render()"
      ],
      "execution_count": 8,
      "outputs": [
        {
          "output_type": "stream",
          "name": "stdout",
          "text": [
            "\n\u001b[41mS\u001b[0mFFF\nFHFH\nFFFH\nHFFG\n"
          ]
        }
      ]
    },
    {
      "cell_type": "code",
      "metadata": {
        "colab": {
          "base_uri": "https://localhost:8080/"
        },
        "id": "iKqlHWnqOMwH",
        "outputId": "9457542a-32d9-4142-e2aa-9bb92e47871a"
      },
      "source": [
        "# Total number of States and Actions\n",
        "n_states = env.observation_space.n\n",
        "n_actions = env.action_space.n\n",
        "n_rows = int(np.sqrt(n_states))\n",
        "n_cols = int(np.sqrt(n_states))\n",
        "print( \"States = \", n_states)\n",
        "print( \"Actions = \", n_actions)\n",
        "print('Rows = ', n_rows)\n",
        "print('Cols = ', n_cols)"
      ],
      "execution_count": 9,
      "outputs": [
        {
          "output_type": "stream",
          "name": "stdout",
          "text": [
            "States =  16\nActions =  4\nRows =  4\nCols =  4\n"
          ]
        }
      ]
    },
    {
      "cell_type": "code",
      "metadata": {
        "id": "n3dhzIe7OMwQ"
      },
      "source": [
        "# Start with 80% random actions to explore the environment\n",
        "# exploration decays with each timestep by a factor of 0.999 until it hits 10% exploration rate \n",
        "\n",
        "epsilon = 0.8\n",
        "epsilon_final = 0.1\n",
        "epsilon_decay = 0.999"
      ],
      "execution_count": 10,
      "outputs": []
    },
    {
      "cell_type": "code",
      "metadata": {
        "id": "GK5pin0tOMwQ"
      },
      "source": [
        "gamma = 0.90 # discount factor\n",
        "learning_rate = 0.9 #how important is the difference between q-val from q-table and what's observed"
      ],
      "execution_count": 11,
      "outputs": []
    },
    {
      "cell_type": "markdown",
      "metadata": {
        "id": "_ldMGZY_hRwH"
      },
      "source": [
        "#### Initialize Q-table"
      ]
    },
    {
      "cell_type": "code",
      "metadata": {
        "colab": {
          "base_uri": "https://localhost:8080/"
        },
        "id": "og5nXDVfOMwR",
        "outputId": "99ef41a7-ec06-406b-c7be-ba9314feb016"
      },
      "source": [
        "\n",
        "#Q = np.random.rand(15,4)*(1/100)\n",
        "#Q = np.vstack([Q, np.zeros((1,4))])\n",
        "\n",
        "Q = np.zeros((n_states,n_actions))\n",
        "Q.shape"
      ],
      "execution_count": 12,
      "outputs": [
        {
          "output_type": "execute_result",
          "data": {
            "text/plain": [
              "(16, 4)"
            ]
          },
          "metadata": {},
          "execution_count": 12
        }
      ]
    },
    {
      "cell_type": "code",
      "metadata": {
        "colab": {
          "base_uri": "https://localhost:8080/"
        },
        "id": "RE2O7eUHsRmz",
        "outputId": "8e01606c-98d1-49ea-b78d-0a51e3ceed01"
      },
      "source": [
        "Q"
      ],
      "execution_count": 13,
      "outputs": [
        {
          "output_type": "execute_result",
          "data": {
            "text/plain": [
              "array([[0., 0., 0., 0.],\n",
              "       [0., 0., 0., 0.],\n",
              "       [0., 0., 0., 0.],\n",
              "       [0., 0., 0., 0.],\n",
              "       [0., 0., 0., 0.],\n",
              "       [0., 0., 0., 0.],\n",
              "       [0., 0., 0., 0.],\n",
              "       [0., 0., 0., 0.],\n",
              "       [0., 0., 0., 0.],\n",
              "       [0., 0., 0., 0.],\n",
              "       [0., 0., 0., 0.],\n",
              "       [0., 0., 0., 0.],\n",
              "       [0., 0., 0., 0.],\n",
              "       [0., 0., 0., 0.],\n",
              "       [0., 0., 0., 0.],\n",
              "       [0., 0., 0., 0.]])"
            ]
          },
          "metadata": {},
          "execution_count": 13
        }
      ]
    },
    {
      "cell_type": "code",
      "metadata": {
        "id": "5chvADGMW7FQ"
      },
      "source": [
        "##assign index to each state using state-matrix\n",
        "\n",
        "state_matrix = np.arange(0,16).reshape(4,4)\n",
        "state_matrix\n",
        "\n",
        "def rowsandcols(state):\n",
        "  ''' input: state returned by env\n",
        "      output: location of state as (row,col) tuple'''\n",
        "  return int(np.where(state_matrix ==state)[0]), int(np.where(state_matrix ==state)[1])"
      ],
      "execution_count": 14,
      "outputs": []
    },
    {
      "cell_type": "code",
      "metadata": {
        "id": "96TgiQE9_cmE"
      },
      "source": [
        "def choose_random_action(state): \n",
        "\n",
        "    ''' input:\n",
        "      state = state returned by env.\n",
        "      output = a random action depending on \n",
        "      whether the state is an edge/ corner or landlocked tile'''\n",
        "    k = np.arange(1,n_rows)\n",
        "   ##corner points    \n",
        "    if rowsandcols(state)==( 0,0):\n",
        "      action = random.choice([1,2])\n",
        "    elif rowsandcols(state) ==(0,n_cols -1):\n",
        "      action = random.choice([0,1])\n",
        "    elif rowsandcols(state)==(n_rows -1 , 0):\n",
        "      action = random.choice([2,3])\n",
        "    elif rowsandcols(state)==(n_rows -1 , n_cols -1 ):\n",
        "      action = random.choice([0,3])\n",
        "    ## no action needed to be chosen for (3,3) -- terminal state \n",
        "\n",
        "    ##edge tiles\n",
        "    elif rowsandcols(state)[0] == 0 and rowsandcols(state)[1] in k:\n",
        "      action = random.choice([0,1,2])\n",
        "    elif rowsandcols(state)[0] in k and rowsandcols(state)[1]  == 0:\n",
        "      action = random.choice([1,2,3])\n",
        "    elif rowsandcols(state)[0] in k and rowsandcols(state)[1] == n_cols -1:\n",
        "      action = random.choice([0,1,3])\n",
        "    elif rowsandcols(state)[0] == n_rows -1 or rowsandcols(state)[1] in k :\n",
        "      action = random.choice([0,2,3])\n",
        "  \n",
        "    else:\n",
        "      action = env.action_space.sample()\n",
        "    \n",
        "    return action"
      ],
      "execution_count": 15,
      "outputs": []
    },
    {
      "cell_type": "code",
      "metadata": {
        "id": "_DZ1MYUEdTk6"
      },
      "source": [
        "def choose_max_action(state, Q):\n",
        "    ''' input:\n",
        "      state = state returned by env.\n",
        "      Q = current Q-table\n",
        "      output = argmax of max q-val for a state '''\n",
        "\n",
        "   ##corner points    \n",
        "    if state == 0:\n",
        "      max_val = np.max(Q[state][1:3])\n",
        "      \n",
        "    elif state== 3:\n",
        "      max_val = np.max(Q[state][0:2])\n",
        "\n",
        "    elif state == 12:\n",
        "      max_val = np.max(Q[state][2,3])\n",
        "    ## no action needed to be chosen for (3,3) -- terminal state \n",
        "\n",
        "    ##edge tiles\n",
        "    elif rowsandcols(state)  == (0,1) or rowsandcols(state)  ==  (0,2):\n",
        "      max_val = np.max(Q[state][0:3])\n",
        "    elif rowsandcols(state) == (1,0) or rowsandcols(state)  == (2,0):\n",
        "      max_val = np.max(Q[state][1:])\n",
        "    elif rowsandcols(state) == (1,3) or rowsandcols(state) == (2,3):\n",
        "      max_val = np.max(Q[state][[0,1,3]])\n",
        "    elif rowsandcols(state) == (3,1) or rowsandcols(state) == (3,2) :\n",
        "      max_val = np.max(Q[state][[0,2,3]])\n",
        "  \n",
        "    else:\n",
        "      max_val = np.max(Q[state])\n",
        "      \n",
        "    action = np.where(Q[state]==max_val)[0][0]\n",
        "    \n",
        "    return int(action)"
      ],
      "execution_count": 40,
      "outputs": []
    },
    {
      "cell_type": "code",
      "metadata": {
        "colab": {
          "base_uri": "https://localhost:8080/"
        },
        "id": "wRwjtruSmRtJ",
        "outputId": "ddadb0f0-587e-4e3a-af8b-91ee3e97ebd7"
      },
      "source": [
        "#arr = np.arange(0,64).reshape(16,4)\n",
        "#np.where(Q[13]==np.max(Q[13]))[0][0]"
      ],
      "execution_count": 13,
      "outputs": [
        {
          "output_type": "execute_result",
          "data": {
            "text/plain": [
              "0"
            ]
          },
          "metadata": {
            "tags": []
          },
          "execution_count": 13
        }
      ]
    },
    {
      "cell_type": "code",
      "metadata": {
        "id": "WOatlcLRMyfM"
      },
      "source": [
        "num_episodes = 1000\n",
        "steps_total = [] # store number of steps taken in each episode\n",
        "rewards_total = [] #store reward obtained for each episode\n",
        "epsilon_total = [] #store epsilon obtained at the end of each episode"
      ],
      "execution_count": 16,
      "outputs": []
    },
    {
      "cell_type": "markdown",
      "metadata": {
        "id": "bBD20yPcOMwR"
      },
      "source": [
        "## q learning"
      ]
    },
    {
      "cell_type": "code",
      "metadata": {
        "colab": {
          "base_uri": "https://localhost:8080/"
        },
        "id": "eKW0FxCaOMwR",
        "outputId": "5310f27a-46da-4842-80bc-64841800dc2a"
      },
      "source": [
        "for i_episode in range(num_episodes):\n",
        "    \n",
        "    # resets the environment\n",
        "    state = env.reset()\n",
        "    step = 0\n",
        "\n",
        "    while True:\n",
        "        \n",
        "        step += 1\n",
        "        \n",
        "        \n",
        "        ## generating a random num\n",
        "        random_for_epsilon = np.random.rand()\n",
        "        \n",
        "        ## if random num lesser or equal to epsilon, then select random action\n",
        "        if random_for_epsilon <= epsilon:     \n",
        "            action = choose_random_action(state)  ##replace with action = env.action_space.sample() for action without restrictions\n",
        "        \n",
        "        ## else update q-vals for given state with infitismly small random nums and select argmax(a) for Q(s,a)\n",
        "        else: \n",
        "            random_values = Q[state] + np.random.rand(1,n_actions)/100\n",
        "            action =  np.argmax(random_values)\n",
        "        \n",
        "        \n",
        "        ## as epsilon decays with more timesteps, the prob. of selecting a random val < e decays --> more likely to exploit.     \n",
        "        if epsilon > epsilon_final:\n",
        "            epsilon *= epsilon_decay\n",
        "        \n",
        "        ## env gives reward and next state and whether we've reached terminal state upon taking a at current state.. \n",
        "        new_state, reward, done, info = env.step(action)\n",
        "        ##if you want reward penalized at for each timestep\n",
        "        ## reward= reward*(0.9**step) \n",
        "\n",
        "        # filling the Q Table - \n",
        "        Q[state, action] = (1- learning_rate)*Q[state, action] + learning_rate*(reward + gamma * np.max(Q[new_state]))\n",
        "        \n",
        "        # Setting new state for next action\n",
        "        state = new_state\n",
        "        \n",
        "        # env.render()\n",
        "        \n",
        "        if done:\n",
        "            steps_total.append(step)\n",
        "            rewards_total.append(reward)\n",
        "            epsilon_total.append(epsilon)\n",
        "            if i_episode % 10 == 0:\n",
        "                print('Episode: {} Reward: {} Steps Taken: {}'.format(i_episode,reward, step, epsilon))\n",
        "            break\n",
        "        \n",
        "\n"
      ],
      "execution_count": 17,
      "outputs": [
        {
          "output_type": "stream",
          "name": "stdout",
          "text": [
            "Episode: 0 Reward: 0.0 Steps Taken: 5\n",
            "Episode: 10 Reward: 0.0 Steps Taken: 7\n",
            "Episode: 20 Reward: 0.0 Steps Taken: 2\n",
            "Episode: 30 Reward: 0.0 Steps Taken: 4\n",
            "Episode: 40 Reward: 0.0 Steps Taken: 5\n",
            "Episode: 50 Reward: 0.0 Steps Taken: 11\n",
            "Episode: 60 Reward: 0.0 Steps Taken: 4\n",
            "Episode: 70 Reward: 0.0 Steps Taken: 10\n",
            "Episode: 80 Reward: 0.0 Steps Taken: 8\n",
            "Episode: 90 Reward: 0.0 Steps Taken: 2\n",
            "Episode: 100 Reward: 0.0 Steps Taken: 4\n",
            "Episode: 110 Reward: 0.0 Steps Taken: 4\n",
            "Episode: 120 Reward: 0.0 Steps Taken: 2\n",
            "Episode: 130 Reward: 0.0 Steps Taken: 3\n",
            "Episode: 140 Reward: 0.0 Steps Taken: 2\n",
            "Episode: 150 Reward: 0.0 Steps Taken: 8\n",
            "Episode: 160 Reward: 0.0 Steps Taken: 2\n",
            "Episode: 170 Reward: 0.0 Steps Taken: 7\n",
            "Episode: 180 Reward: 0.0 Steps Taken: 8\n",
            "Episode: 190 Reward: 0.0 Steps Taken: 6\n",
            "Episode: 200 Reward: 0.0 Steps Taken: 2\n",
            "Episode: 210 Reward: 0.0 Steps Taken: 6\n",
            "Episode: 220 Reward: 0.0 Steps Taken: 3\n",
            "Episode: 230 Reward: 0.0 Steps Taken: 6\n",
            "Episode: 240 Reward: 0.0 Steps Taken: 23\n",
            "Episode: 250 Reward: 0.0 Steps Taken: 6\n",
            "Episode: 260 Reward: 0.0 Steps Taken: 9\n",
            "Episode: 270 Reward: 1.0 Steps Taken: 8\n",
            "Episode: 280 Reward: 0.0 Steps Taken: 9\n",
            "Episode: 290 Reward: 0.0 Steps Taken: 6\n",
            "Episode: 300 Reward: 0.0 Steps Taken: 4\n",
            "Episode: 310 Reward: 0.0 Steps Taken: 13\n",
            "Episode: 320 Reward: 0.0 Steps Taken: 5\n",
            "Episode: 330 Reward: 1.0 Steps Taken: 6\n",
            "Episode: 340 Reward: 1.0 Steps Taken: 6\n",
            "Episode: 350 Reward: 1.0 Steps Taken: 6\n",
            "Episode: 360 Reward: 0.0 Steps Taken: 5\n",
            "Episode: 370 Reward: 1.0 Steps Taken: 8\n",
            "Episode: 380 Reward: 1.0 Steps Taken: 10\n",
            "Episode: 390 Reward: 1.0 Steps Taken: 6\n",
            "Episode: 400 Reward: 1.0 Steps Taken: 6\n",
            "Episode: 410 Reward: 1.0 Steps Taken: 6\n",
            "Episode: 420 Reward: 0.0 Steps Taken: 2\n",
            "Episode: 430 Reward: 1.0 Steps Taken: 6\n",
            "Episode: 440 Reward: 1.0 Steps Taken: 6\n",
            "Episode: 450 Reward: 1.0 Steps Taken: 6\n",
            "Episode: 460 Reward: 1.0 Steps Taken: 6\n",
            "Episode: 470 Reward: 1.0 Steps Taken: 6\n",
            "Episode: 480 Reward: 1.0 Steps Taken: 8\n",
            "Episode: 490 Reward: 1.0 Steps Taken: 6\n",
            "Episode: 500 Reward: 1.0 Steps Taken: 6\n",
            "Episode: 510 Reward: 1.0 Steps Taken: 6\n",
            "Episode: 520 Reward: 0.0 Steps Taken: 4\n",
            "Episode: 530 Reward: 1.0 Steps Taken: 6\n",
            "Episode: 540 Reward: 1.0 Steps Taken: 10\n",
            "Episode: 550 Reward: 1.0 Steps Taken: 6\n",
            "Episode: 560 Reward: 1.0 Steps Taken: 6\n",
            "Episode: 570 Reward: 1.0 Steps Taken: 6\n",
            "Episode: 580 Reward: 1.0 Steps Taken: 6\n",
            "Episode: 590 Reward: 0.0 Steps Taken: 2\n",
            "Episode: 600 Reward: 1.0 Steps Taken: 12\n",
            "Episode: 610 Reward: 1.0 Steps Taken: 8\n",
            "Episode: 620 Reward: 1.0 Steps Taken: 6\n",
            "Episode: 630 Reward: 1.0 Steps Taken: 6\n",
            "Episode: 640 Reward: 1.0 Steps Taken: 8\n",
            "Episode: 650 Reward: 0.0 Steps Taken: 7\n",
            "Episode: 660 Reward: 1.0 Steps Taken: 6\n",
            "Episode: 670 Reward: 1.0 Steps Taken: 10\n",
            "Episode: 680 Reward: 1.0 Steps Taken: 6\n",
            "Episode: 690 Reward: 1.0 Steps Taken: 6\n",
            "Episode: 700 Reward: 0.0 Steps Taken: 3\n",
            "Episode: 710 Reward: 1.0 Steps Taken: 6\n",
            "Episode: 720 Reward: 1.0 Steps Taken: 6\n",
            "Episode: 730 Reward: 1.0 Steps Taken: 6\n",
            "Episode: 740 Reward: 0.0 Steps Taken: 2\n",
            "Episode: 750 Reward: 1.0 Steps Taken: 6\n",
            "Episode: 760 Reward: 1.0 Steps Taken: 6\n",
            "Episode: 770 Reward: 1.0 Steps Taken: 6\n",
            "Episode: 780 Reward: 1.0 Steps Taken: 6\n",
            "Episode: 790 Reward: 1.0 Steps Taken: 6\n",
            "Episode: 800 Reward: 1.0 Steps Taken: 6\n",
            "Episode: 810 Reward: 1.0 Steps Taken: 8\n",
            "Episode: 820 Reward: 0.0 Steps Taken: 2\n",
            "Episode: 830 Reward: 1.0 Steps Taken: 6\n",
            "Episode: 840 Reward: 1.0 Steps Taken: 6\n",
            "Episode: 850 Reward: 1.0 Steps Taken: 10\n",
            "Episode: 860 Reward: 1.0 Steps Taken: 6\n",
            "Episode: 870 Reward: 1.0 Steps Taken: 8\n",
            "Episode: 880 Reward: 1.0 Steps Taken: 6\n",
            "Episode: 890 Reward: 0.0 Steps Taken: 2\n",
            "Episode: 900 Reward: 1.0 Steps Taken: 6\n",
            "Episode: 910 Reward: 1.0 Steps Taken: 10\n",
            "Episode: 920 Reward: 0.0 Steps Taken: 4\n",
            "Episode: 930 Reward: 1.0 Steps Taken: 8\n",
            "Episode: 940 Reward: 1.0 Steps Taken: 6\n",
            "Episode: 950 Reward: 1.0 Steps Taken: 6\n",
            "Episode: 960 Reward: 0.0 Steps Taken: 4\n",
            "Episode: 970 Reward: 0.0 Steps Taken: 2\n",
            "Episode: 980 Reward: 1.0 Steps Taken: 12\n",
            "Episode: 990 Reward: 1.0 Steps Taken: 8\n"
          ]
        }
      ]
    },
    {
      "cell_type": "code",
      "metadata": {
        "id": "ZwwgWCvKOMwS"
      },
      "source": [
        "import matplotlib.pyplot as plt\n",
        "import seaborn as sns "
      ],
      "execution_count": 18,
      "outputs": []
    },
    {
      "cell_type": "code",
      "metadata": {
        "colab": {
          "base_uri": "https://localhost:8080/",
          "height": 312
        },
        "id": "p-LiaalROMwS",
        "outputId": "a007a0c2-76bb-45da-9192-9c26e09f5d5c"
      },
      "source": [
        "plt.axhline(y=6, color='green', linestyle='-')\n",
        "plt.bar(np.arange(0, 1000), steps_total, \n",
        "        width = 0.4, color = 'blue')\n",
        "plt.xlabel('episode index')\n",
        "plt.ylabel('number of steps taken')\n",
        "plt.title('4x4: restricted actions')\n",
        "plt.show()"
      ],
      "execution_count": 19,
      "outputs": []
    },
    {
      "cell_type": "code",
      "metadata": {
        "colab": {
          "base_uri": "https://localhost:8080/",
          "height": 312
        },
        "id": "aB_VRjXaYRh8",
        "outputId": "c86ae90b-d678-4724-bc0f-3b21b9de35df"
      },
      "source": [
        "\n",
        "plt.scatter(np.arange(0, 1000), rewards_total, s = 0.5, color = 'blue')\n",
        "plt.title('4x4 rewards for restricted actions')\n",
        "plt.xlabel('episode')\n",
        "plt.ylabel('1 if success, 0 if failure')\n",
        "plt.show()"
      ],
      "execution_count": 53,
      "outputs": [
        {
          "output_type": "execute_result",
          "data": {
            "text/plain": [
              "Text(0, 0.5, '1 if success, 0 if failure')"
            ]
          },
          "metadata": {
            "tags": []
          },
          "execution_count": 53
        },
        {
          "output_type": "display_data",
          "data": {
            "image/png": "[encoded data removed]",
            "text/plain": [
              "<Figure size 432x288 with 1 Axes>"
            ]
          },
          "metadata": {
            "tags": [],
            "needs_background": "light"
          }
        }
      ]
    },
    {
      "cell_type": "code",
      "metadata": {
        "id": "phaICIVYyVsF"
      },
      "source": [
        "##to convert rewards to 1 or 0 when there is a time decay \n",
        "##new_rewards_total = [ 1 if i > 0.0 else 0 for i in rewards_total  ]\n"
      ],
      "execution_count": 54,
      "outputs": []
    },
    {
      "cell_type": "code",
      "metadata": {
        "id": "IezG0HJnOMwS",
        "colab": {
          "base_uri": "https://localhost:8080/"
        },
        "outputId": "202a6a54-c066-4eec-81bb-a0cf42a0ff7e"
      },
      "source": [
        "print(Q)\n",
        "        \n",
        "print(\"Percent of episodes finished successfully: {0}\".format(sum(rewards_total)/num_episodes))\n",
        "print(\"Percent of episodes finished successfully (last 100 episodes): {0}\".format(sum(rewards_total[-100:])/100))\n",
        "\n",
        "print(\"Average number of steps: %.2f\" % (sum(steps_total)/num_episodes))\n",
        "print(\"Average number of steps (last 100 episodes): %.2f\" % (sum(steps_total[-100:])/100))\n"
      ],
      "execution_count": 55,
      "outputs": [
        {
          "output_type": "stream",
          "text": [
            "[[0.         0.59049    0.4782969  0.        ]\n",
            " [0.531441   0.         0.42887448 0.        ]\n",
            " [0.47824907 0.         0.         0.        ]\n",
            " [0.         0.         0.         0.        ]\n",
            " [0.         0.6561     0.         0.531441  ]\n",
            " [0.         0.         0.         0.        ]\n",
            " [0.         0.80983954 0.         0.        ]\n",
            " [0.         0.         0.         0.        ]\n",
            " [0.         0.         0.729      0.59049   ]\n",
            " [0.6561     0.81       0.81       0.        ]\n",
            " [0.729      0.9        0.         0.72494575]\n",
            " [0.         0.         0.         0.        ]\n",
            " [0.         0.         0.         0.        ]\n",
            " [0.         0.         0.9        0.729     ]\n",
            " [0.81       0.         1.         0.81      ]\n",
            " [0.         0.         0.         0.        ]]\n",
            "Percent of episodes finished successfully: 0.808\n",
            "Percent of episodes finished successfully (last 100 episodes): 0.91\n",
            "Average number of steps: 6.21\n",
            "Average number of steps (last 100 episodes): 6.24\n"
          ],
          "name": "stdout"
        }
      ]
    },
    {
      "cell_type": "code",
      "metadata": {
        "id": "bfS1wsDiZD8F"
      },
      "source": [
        "##convert Q-table to pandas dataframe to export to excel"
      ],
      "execution_count": 24,
      "outputs": []
    },
    {
      "cell_type": "code",
      "metadata": {
        "id": "4v6uj1xBqls3"
      },
      "source": [],
      "execution_count": null,
      "outputs": []
    }
  ]
}