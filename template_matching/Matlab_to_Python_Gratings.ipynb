{
  "nbformat": 4,
  "nbformat_minor": 0,
  "metadata": {
    "colab": {
      "name": "Matlab to Python Gratings.ipynb",
      "provenance": [],
      "collapsed_sections": []
    },
    "kernelspec": {
      "name": "python3",
      "display_name": "Python 3"
    },
    "language_info": {
      "name": "python"
    }
  },
  "cells": [
    {
      "cell_type": "markdown",
      "metadata": {
        "id": "Lr5NVKaXIGJl"
      },
      "source": [
        "Content translated from: \n",
        " http://courses.washington.edu/matlab1/Matlab4BS_c5.htm"
      ]
    },
    {
      "cell_type": "code",
      "metadata": {
        "id": "wQmlJqr5vxur"
      },
      "source": [
        "import numpy as np\n"
      ],
      "execution_count": 3,
      "outputs": []
    },
    {
      "cell_type": "code",
      "metadata": {
        "id": "2yWH7qdxzhZ6"
      },
      "source": [
        "x = np.linspace(-np.pi, np.pi, 40) #which colored line\n",
        "sf = 10  #spacial frequency \n",
        "sinewave = np.sin(x*sf)"
      ],
      "execution_count": 54,
      "outputs": []
    },
    {
      "cell_type": "code",
      "metadata": {
        "id": "26Obyv5zzlv-"
      },
      "source": [
        "onematrix = np.ones(len(sinewave))\n",
        "sinewave2D = np.outer(onematrix, sinewave)"
      ],
      "execution_count": 55,
      "outputs": []
    },
    {
      "cell_type": "code",
      "metadata": {
        "id": "xfl-jS_Zz6kH"
      },
      "source": [
        "import matplotlib.pyplot as plt\n",
        "import skimage\n",
        "import skimage.io"
      ],
      "execution_count": 56,
      "outputs": []
    },
    {
      "cell_type": "code",
      "metadata": {
        "colab": {
          "base_uri": "https://localhost:8080/",
          "height": 315
        },
        "id": "oIDQx9RY0Een",
        "outputId": "e11df98a-fe8d-44cb-b656-407a1595d801"
      },
      "source": [
        "skimage.io.imshow(sinewave2D, cmap='gray')"
      ],
      "execution_count": 57,
      "outputs": [
        {
          "output_type": "execute_result",
          "data": {
            "text/plain": [
              "<matplotlib.image.AxesImage at 0x7fd5f84a39d0>"
            ]
          },
          "metadata": {
            "tags": []
          },
          "execution_count": 57
        },
        {
          "output_type": "display_data",
          "data": {
            "image/png": "[encoded data removed]",
            "text/plain": [
              "<Figure size 432x288 with 2 Axes>"
            ]
          },
          "metadata": {
            "tags": [],
            "needs_background": "light"
          }
        }
      ]
    },
    {
      "cell_type": "markdown",
      "metadata": {
        "id": "8IdKjEVG7mwz"
      },
      "source": [
        "sinewave2D varies between -1 and 1. On normal monitors, we can use up to 256 different colormap values, as is described in more detail in Section 3. So we want to rescale sinewave2D so it varies between 1-256, so the values in sinewave2D match the 256 rows in the colormap. We'll then use the image  command, which doesn't do any rescaling."
      ]
    },
    {
      "cell_type": "code",
      "metadata": {
        "colab": {
          "base_uri": "https://localhost:8080/"
        },
        "id": "_3sqRLxODdr7",
        "outputId": "f30875ce-2aa1-45b9-d345-a59498993a98"
      },
      "source": [
        "sinewave2D.shape"
      ],
      "execution_count": 58,
      "outputs": [
        {
          "output_type": "execute_result",
          "data": {
            "text/plain": [
              "(40, 40)"
            ]
          },
          "metadata": {
            "tags": []
          },
          "execution_count": 58
        }
      ]
    },
    {
      "cell_type": "code",
      "metadata": {
        "id": "TKyyOLQU63Wc"
      },
      "source": [
        "scaled_sinewave2D = ((sinewave2D+1)*127.5)+1 #shifting  [-1 to 1 ] to [0 to 256] "
      ],
      "execution_count": 63,
      "outputs": []
    },
    {
      "cell_type": "code",
      "metadata": {
        "colab": {
          "base_uri": "https://localhost:8080/",
          "height": 370
        },
        "id": "JpKezpwl8DE3",
        "outputId": "4d95f09b-2bf5-4d6f-9688-29102de2f53b"
      },
      "source": [
        "skimage.io.imshow(scaled_sinewave2D, cmap='gray')"
      ],
      "execution_count": 64,
      "outputs": [
        {
          "output_type": "stream",
          "text": [
            "/usr/local/lib/python3.7/dist-packages/skimage/io/_plugins/matplotlib_plugin.py:150: UserWarning: Float image out of standard range; displaying image with stretched contrast.\n",
            "  lo, hi, cmap = _get_display_range(image)\n"
          ],
          "name": "stderr"
        },
        {
          "output_type": "execute_result",
          "data": {
            "text/plain": [
              "<matplotlib.image.AxesImage at 0x7fd5f8143b10>"
            ]
          },
          "metadata": {
            "tags": []
          },
          "execution_count": 64
        },
        {
          "output_type": "display_data",
          "data": {
            "image/png": "[encoded data removed]",
            "text/plain": [
              "<Figure size 432x288 with 2 Axes>"
            ]
          },
          "metadata": {
            "tags": [],
            "needs_background": "light"
          }
        }
      ]
    },
    {
      "cell_type": "markdown",
      "metadata": {
        "id": "Ya2WgHZt8PUH"
      },
      "source": [
        "### Playing with contrast "
      ]
    },
    {
      "cell_type": "code",
      "metadata": {
        "id": "BBaebTPjDPWQ"
      },
      "source": [
        "#two ways \n",
        "#adjust gamma\n",
        "#adjust log "
      ],
      "execution_count": 51,
      "outputs": []
    },
    {
      "cell_type": "code",
      "metadata": {
        "colab": {
          "base_uri": "https://localhost:8080/",
          "height": 370
        },
        "id": "qhoISlyA89dL",
        "outputId": "4efcfa67-0007-4e78-865f-8c0380592ffb"
      },
      "source": [
        "c_scaled_image = skimage.exposure.adjust_log(scaled_sinewave2D, 0.2)\n",
        "skimage.io.imshow(c_scaled_image, cmap='gray')"
      ],
      "execution_count": 65,
      "outputs": [
        {
          "output_type": "stream",
          "text": [
            "/usr/local/lib/python3.7/dist-packages/skimage/io/_plugins/matplotlib_plugin.py:150: UserWarning: Float image out of standard range; displaying image with stretched contrast.\n",
            "  lo, hi, cmap = _get_display_range(image)\n"
          ],
          "name": "stderr"
        },
        {
          "output_type": "execute_result",
          "data": {
            "text/plain": [
              "<matplotlib.image.AxesImage at 0x7fd5f8087450>"
            ]
          },
          "metadata": {
            "tags": []
          },
          "execution_count": 65
        },
        {
          "output_type": "display_data",
          "data": {
            "image/png": "[encoded data removed]",
            "text/plain": [
              "<Figure size 432x288 with 2 Axes>"
            ]
          },
          "metadata": {
            "tags": [],
            "needs_background": "light"
          }
        }
      ]
    },
    {
      "cell_type": "code",
      "metadata": {
        "colab": {
          "base_uri": "https://localhost:8080/",
          "height": 370
        },
        "id": "qG44EEhvCEWl",
        "outputId": "e383e69f-1576-466e-a2b4-9bdf68fc2b8f"
      },
      "source": [
        "c_scaled_image = skimage.exposure.adjust_gamma(scaled_sinewave2D, 0.2)\n",
        "skimage.io.imshow(c_scaled_image, cmap='gray')"
      ],
      "execution_count": 66,
      "outputs": [
        {
          "output_type": "stream",
          "text": [
            "/usr/local/lib/python3.7/dist-packages/skimage/io/_plugins/matplotlib_plugin.py:150: UserWarning: Float image out of standard range; displaying image with stretched contrast.\n",
            "  lo, hi, cmap = _get_display_range(image)\n"
          ],
          "name": "stderr"
        },
        {
          "output_type": "execute_result",
          "data": {
            "text/plain": [
              "<matplotlib.image.AxesImage at 0x7fd5f7fcd710>"
            ]
          },
          "metadata": {
            "tags": []
          },
          "execution_count": 66
        },
        {
          "output_type": "display_data",
          "data": {
            "image/png": "[encoded data removed]",
            "text/plain": [
              "<Figure size 432x288 with 2 Axes>"
            ]
          },
          "metadata": {
            "tags": [],
            "needs_background": "light"
          }
        }
      ]
    },
    {
      "cell_type": "markdown",
      "metadata": {
        "id": "vBnTZ5dUIQDv"
      },
      "source": [
        "Parameters that can vary:\n",
        "size,\n",
        "contrast,\n",
        "spatial frequency,\n",
        "orientation,\n",
        "phase\n"
      ]
    },
    {
      "cell_type": "code",
      "metadata": {
        "id": "YZx-k3iSPLFD"
      },
      "source": [
        "X = np.array(np.meshgrid(np.linspace(-np.pi, np.pi, n)))\n",
        "Y = X.T\n",
        "X = np.vstack([X]*n)\n",
        "Y= np.hstack([Y]*n)"
      ],
      "execution_count": 103,
      "outputs": []
    },
    {
      "cell_type": "code",
      "metadata": {
        "colab": {
          "base_uri": "https://localhost:8080/",
          "height": 315
        },
        "id": "Ra7hSNhATAFD",
        "outputId": "fd2dd77a-e2ca-41e6-9fa8-61d1c94fde1b"
      },
      "source": [
        "skimage.io.imshow(X, cmap='gray')"
      ],
      "execution_count": 104,
      "outputs": [
        {
          "output_type": "execute_result",
          "data": {
            "text/plain": [
              "<matplotlib.image.AxesImage at 0x7fd5f74d00d0>"
            ]
          },
          "metadata": {
            "tags": []
          },
          "execution_count": 104
        },
        {
          "output_type": "display_data",
          "data": {
            "image/png": "[encoded data removed]",
            "text/plain": [
              "<Figure size 432x288 with 2 Axes>"
            ]
          },
          "metadata": {
            "tags": [],
            "needs_background": "light"
          }
        }
      ]
    },
    {
      "cell_type": "code",
      "metadata": {
        "colab": {
          "base_uri": "https://localhost:8080/",
          "height": 315
        },
        "id": "339ws9oWQzfU",
        "outputId": "51bf836a-8845-4128-d436-5466bff3a53c"
      },
      "source": [
        "skimage.io.imshow(Y, cmap='gray')"
      ],
      "execution_count": 105,
      "outputs": [
        {
          "output_type": "execute_result",
          "data": {
            "text/plain": [
              "<matplotlib.image.AxesImage at 0x7fd5f7405110>"
            ]
          },
          "metadata": {
            "tags": []
          },
          "execution_count": 105
        },
        {
          "output_type": "display_data",
          "data": {
            "image/png": "[encoded data removed]",
            "text/plain": [
              "<Figure size 432x288 with 2 Axes>"
            ]
          },
          "metadata": {
            "tags": [],
            "needs_background": "light"
          }
        }
      ]
    },
    {
      "cell_type": "markdown",
      "metadata": {
        "id": "g4JuLd1jTRAw"
      },
      "source": [
        "Create an oriented 'ramp' matrix as a linear combination of X and Y. For\n",
        "\n",
        "example, when orientation = 0, cos = 1 and sin = 0 so ramp = X.  When\n",
        "\n",
        "orientation is pi/2 then cos = 0; sin = 1 and ramp = Y. \n",
        "\n",
        " \n",
        "\n"
      ]
    },
    {
      "cell_type": "code",
      "metadata": {
        "colab": {
          "base_uri": "https://localhost:8080/"
        },
        "id": "xoMlxeMgTlCw",
        "outputId": "7fef4911-5127-4dd4-e86a-d7067adc72d9"
      },
      "source": [
        ""
      ],
      "execution_count": 90,
      "outputs": [
        {
          "output_type": "execute_result",
          "data": {
            "text/plain": [
              "float"
            ]
          },
          "metadata": {
            "tags": []
          },
          "execution_count": 90
        }
      ]
    },
    {
      "cell_type": "code",
      "metadata": {
        "id": "-jc2VMHeTPan"
      },
      "source": [
        "ramp = np.cos(orientation)*(X-center[0]) + np.sin(orientation)*(Y-center[1])"
      ],
      "execution_count": 106,
      "outputs": []
    },
    {
      "cell_type": "code",
      "metadata": {
        "colab": {
          "base_uri": "https://localhost:8080/",
          "height": 315
        },
        "id": "iLWtSC1_T6k0",
        "outputId": "90074357-5011-4c6f-c765-fd0178f2e9d3"
      },
      "source": [
        "skimage.io.imshow(ramp, cmap = 'gray')"
      ],
      "execution_count": 107,
      "outputs": [
        {
          "output_type": "execute_result",
          "data": {
            "text/plain": [
              "<matplotlib.image.AxesImage at 0x7fd5f73b50d0>"
            ]
          },
          "metadata": {
            "tags": []
          },
          "execution_count": 107
        },
        {
          "output_type": "display_data",
          "data": {
            "image/png": "[encoded data removed]",
            "text/plain": [
              "<Figure size 432x288 with 2 Axes>"
            ]
          },
          "metadata": {
            "tags": [],
            "needs_background": "light"
          }
        }
      ]
    },
    {
      "cell_type": "markdown",
      "metadata": {
        "id": "6dcS-OQ0UO69"
      },
      "source": [
        "### Sinusoidal carrier is a sinusoid on the matrix 'ramp'\n",
        "\n",
        "### sinusoid = contrast * sin(spatialFrequency * ramp-phase)"
      ]
    },
    {
      "cell_type": "code",
      "metadata": {
        "id": "epgbT-tIUOEB"
      },
      "source": [
        "\n",
        "sinusoid = contrast*np.sin(sf*(ramp-phase))"
      ],
      "execution_count": 108,
      "outputs": []
    },
    {
      "cell_type": "code",
      "metadata": {
        "id": "GgdUOJbeInEM"
      },
      "source": [
        "#define each parameter here \n",
        "\n",
        "center = np.array([1,1])\n",
        "orientation = np.pi/4  #45 deg\n",
        "sf = 6 #spatial freq\n",
        "phase = -np.pi/2 #spatial phase of sinewave carrier (Radians)\n",
        "##contrast with gamma skimage\n",
        "contrast = 0.75 #from 0 to 1\n",
        "\n",
        "\n",
        "n = 100 #resolution of image \n",
        "\n",
        "##use meshgrid to define matrices X and Y that range from -pi to pi\n",
        "\n",
        "def produce_image(center, orientation, sf, phase, contrast, n):\n",
        "\n",
        "  X = np.array(np.meshgrid(np.linspace(-np.pi, np.pi, n)))\n",
        "  Y = X.T\n",
        "  X = np.vstack([X]*n)\n",
        "  Y= np.hstack([Y]*n)\n",
        "\n",
        "  c_scaled_image = skimage.exposure.adjust_gamma(scaled_sinewave2D, contrast)\n",
        "  ramp = np.cos(orientation)*(X-center[0]) + np.sin(orientation)*(Y-center[1])\n",
        "  sinusoid = contrast*np.sin(sf*(ramp-phase))\n",
        "  img = skimage.io.imshow(sinusoid, cmap = 'gray')\n",
        "  return img"
      ],
      "execution_count": 116,
      "outputs": []
    },
    {
      "cell_type": "code",
      "metadata": {
        "id": "M3Yr2QDRYuw_"
      },
      "source": [
        "arr = np.linspace(-np.pi/2, 0, 10)"
      ],
      "execution_count": 139,
      "outputs": []
    },
    {
      "cell_type": "markdown",
      "metadata": {
        "id": "KB5zi6FYH0LO"
      },
      "source": [
        "Notice how the parameter center controls the asymmetry of ramp. When center is [1, 1] the values from the top right to bottom left of ramp (shown by a purple dotted line) are -1.4. The the values in ramp that are zero (shown by a pink dotted line) lie closer to the bottom right corner. These lines of constant value are oriented diagonally because we are making a diagonal sinusoid."
      ]
    }
  ]
}