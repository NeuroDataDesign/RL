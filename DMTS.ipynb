{
  "nbformat": 4,
  "nbformat_minor": 0,
  "metadata": {
    "kernelspec": {
      "display_name": "Python 3",
      "language": "python",
      "name": "python3"
    },
    "language_info": {
      "codemirror_mode": {
        "name": "ipython",
        "version": 3
      },
      "file_extension": ".py",
      "mimetype": "text/x-python",
      "name": "python",
      "nbconvert_exporter": "python",
      "pygments_lexer": "ipython3",
      "version": "3.8.5"
    },
    "colab": {
      "name": "DMTS.ipynb",
      "provenance": []
    },
    "accelerator": "GPU"
  },
  "cells": [
    {
      "cell_type": "markdown",
      "metadata": {
        "id": "7A7fa1WMOMwC"
      },
      "source": [
        "# Frozen Lake\n"
      ]
    },
    {
      "cell_type": "markdown",
      "metadata": {
        "id": "JPAWi834Wic3"
      },
      "source": [
        "#### Import all requirements"
      ]
    },
    {
      "cell_type": "code",
      "metadata": {
        "id": "GutUwuMaOMwE"
      },
      "source": [
        "import gym\n",
        "import numpy as np\n",
        "import random\n",
        "import torch\n",
        "import time\n",
        "import matplotlib.pyplot as plt\n",
        "import pandas as pd\n"
      ],
      "execution_count": 1,
      "outputs": []
    },
    {
      "cell_type": "code",
      "metadata": {
        "id": "eEapxzPbykks"
      },
      "source": [
        "from decimal import Decimal"
      ],
      "execution_count": 20,
      "outputs": []
    },
    {
      "cell_type": "markdown",
      "metadata": {
        "id": "h66lZsd0dI_P"
      },
      "source": [
        ""
      ]
    },
    {
      "cell_type": "code",
      "metadata": {
        "id": "yy5GLvJLOMwG"
      },
      "source": [
        "map1 = ['GASBG']\n"
      ],
      "execution_count": 2,
      "outputs": []
    },
    {
      "cell_type": "code",
      "metadata": {
        "id": "O2ehA-MsDTic"
      },
      "source": [
        "map2 = ['GBSAG']\n"
      ],
      "execution_count": 3,
      "outputs": []
    },
    {
      "cell_type": "code",
      "metadata": {
        "_cell_guid": "79c7e3d0-c299-4dcb-8224-4455121ee9b0",
        "_uuid": "d629ff2d2480ee46fbb7e2d37f6b5fab8052498a",
        "scrolled": true,
        "colab": {
          "base_uri": "https://localhost:8080/"
        },
        "id": "PCJLBfV9OMwG",
        "outputId": "2940c187-e2a8-4463-b57a-11a90d79c316"
      },
      "source": [
        "\n",
        "env1 = gym.make('FrozenLake-v0', is_slippery=False, desc = map1)\n",
        "\n",
        "env1.render()"
      ],
      "execution_count": 4,
      "outputs": [
        {
          "output_type": "stream",
          "text": [
            "\n",
            "GA\u001b[41mS\u001b[0mBG\n"
          ],
          "name": "stdout"
        }
      ]
    },
    {
      "cell_type": "code",
      "metadata": {
        "colab": {
          "base_uri": "https://localhost:8080/"
        },
        "id": "lsmP1zdHDlaG",
        "outputId": "6b8c4f0d-1d95-464b-a2d9-b00c206bc15c"
      },
      "source": [
        "\n",
        "env2 = gym.make('FrozenLake-v0', is_slippery=False, desc = map2)\n",
        "\n",
        "env2.render()"
      ],
      "execution_count": 5,
      "outputs": [
        {
          "output_type": "stream",
          "text": [
            "\n",
            "GB\u001b[41mS\u001b[0mAG\n"
          ],
          "name": "stdout"
        }
      ]
    },
    {
      "cell_type": "code",
      "metadata": {
        "colab": {
          "base_uri": "https://localhost:8080/"
        },
        "id": "iKqlHWnqOMwH",
        "outputId": "2ff39a05-b73e-4438-95e9-fcadf7094714"
      },
      "source": [
        "# Total number of States and Actions\n",
        "n_states = env1.observation_space.n\n",
        "n_actions = env1.action_space.n\n",
        "n_rows = 1\n",
        "n_cols = 5\n",
        "print( \"States = \", n_states)\n",
        "print( \"Actions = \", n_actions)"
      ],
      "execution_count": 6,
      "outputs": [
        {
          "output_type": "stream",
          "text": [
            "States =  5\n",
            "Actions =  4\n"
          ],
          "name": "stdout"
        }
      ]
    },
    {
      "cell_type": "code",
      "metadata": {
        "colab": {
          "base_uri": "https://localhost:8080/"
        },
        "id": "7ETULzpcEc43",
        "outputId": "23dc3dc8-8580-427f-9911-38641d2efa02"
      },
      "source": [
        "# Total number of States and Actions\n",
        "n_states = env2.observation_space.n\n",
        "n_actions = env2.action_space.n\n",
        "n_rows = 1\n",
        "n_cols = 5\n",
        "print( \"States = \", n_states)\n",
        "print( \"Actions = \", n_actions)"
      ],
      "execution_count": 7,
      "outputs": [
        {
          "output_type": "stream",
          "text": [
            "States =  5\n",
            "Actions =  4\n"
          ],
          "name": "stdout"
        }
      ]
    },
    {
      "cell_type": "code",
      "metadata": {
        "id": "ew16IaBSPQDS"
      },
      "source": [
        "def restrict_actions(Q, n_states, n_rows):\n",
        "\n",
        "  Q.at[n_states -1, :] = np.zeros(n_actions,)\n",
        "  Q.at[0, :] = np.zeros(n_actions,)\n",
        "  for i in range( 0, n_states, n_rows): \n",
        "    Q.at[i,0] = np.NaN\n",
        "  for i in range( n_rows -1 , n_states, n_rows): \n",
        "    Q.at[i,2] = np.NaN\n",
        "  for i in range(0, n_rows):\n",
        "    Q.at[i,3] = np.NaN\n",
        "  for i in range(n_states - n_rows , n_states):\n",
        "    Q.at[i,1 ]= np.NaN\n",
        "  \n",
        "  return Q\n"
      ],
      "execution_count": 12,
      "outputs": []
    },
    {
      "cell_type": "code",
      "metadata": {
        "id": "03DDjZsSPfX6"
      },
      "source": [
        "def choose_action(Q, state, epsilon):\n",
        "  random_for_epsilon = np.random.rand()\n",
        "  if random_for_epsilon <= epsilon:\n",
        "    action = random.choice((0,2))\n",
        "  elif df.loc[state,2] > df.loc[state,0]: \n",
        "   action = 2\n",
        "  elif df.loc[state,0] > df.loc[state,2]: \n",
        "    action = 0\n",
        "  elif df.loc[state,0] == df.loc[state,2]: \n",
        "    action = random.choice((0,2))\n",
        "  return action"
      ],
      "execution_count": 39,
      "outputs": []
    },
    {
      "cell_type": "code",
      "metadata": {
        "id": "5chvADGMW7FQ"
      },
      "source": [
        "##assign index to each state using state-matrix\n",
        "\n",
        "state_matrix = np.arange(0,n_states).reshape(n_rows,n_cols)\n",
        "state_matrix\n",
        "\n",
        "def rowsandcols(state):\n",
        "  ''' input: state returned by env\n",
        "      output: location of state as (row,col) tuple'''\n",
        "  return int(np.where(state_matrix ==state)[0]), int(np.where(state_matrix ==state)[1])"
      ],
      "execution_count": 14,
      "outputs": []
    },
    {
      "cell_type": "code",
      "metadata": {
        "id": "cCCqfNNCFq-E"
      },
      "source": [
        "def rewarder1(new_state, reward, entrance_stimulus):\n",
        "\n",
        "  if entrance_stimulus == 'A':\n",
        "    if new_state == 0: \n",
        "      reward += 100\n",
        "    else:\n",
        "      reward -= 10\n",
        "\n",
        "  if entrance_stimulus == 'B':\n",
        "    if new_state == 4:\n",
        "      reward += 100\n",
        "    else:\n",
        "      reward -= 10\n",
        "\n",
        "  return reward"
      ],
      "execution_count": 15,
      "outputs": []
    },
    {
      "cell_type": "code",
      "metadata": {
        "id": "6ZRgtx3FV2hn"
      },
      "source": [
        "def rewarder2(new_state, reward, entrance_stimulus):\n",
        "\n",
        "  if entrance_stimulus == 'A':\n",
        "    if new_state == 4:\n",
        "      reward += 100\n",
        "    else:\n",
        "      reward -= 10\n",
        "\n",
        "  if entrance_stimulus == 'B':\n",
        "    if new_state == 0:\n",
        "      reward += 100\n",
        "    else:\n",
        "      reward -= 10\n",
        "\n",
        "  return reward"
      ],
      "execution_count": 16,
      "outputs": []
    },
    {
      "cell_type": "code",
      "metadata": {
        "id": "WOatlcLRMyfM"
      },
      "source": [
        "reps = 1\n",
        "num_episodes = 10\n",
        "steps_total = [] # store number of steps taken in each episode\n",
        "rewards_total = [] #store reward obtained for each episode\n",
        "epsilon_total = [] #store epsilon obtained at the end of each episode\n",
        "terminal_state = []"
      ],
      "execution_count": 59,
      "outputs": []
    },
    {
      "cell_type": "markdown",
      "metadata": {
        "id": "bBD20yPcOMwR"
      },
      "source": [
        "## q learning"
      ]
    },
    {
      "cell_type": "code",
      "metadata": {
        "colab": {
          "base_uri": "https://localhost:8080/"
        },
        "id": "eKW0FxCaOMwR",
        "outputId": "b1a4b92e-34dd-46b7-e8ad-f69982c62261"
      },
      "source": [
        "for i in range(reps):\n",
        "  \n",
        "\n",
        "  \n",
        "  epsilon = 0.8\n",
        "  epsilon_final = 0.1\n",
        "  epsilon_decay = 0.99\n",
        "\n",
        "  gamma = 0.90 # discount factor\n",
        "  learning_rate = 0.9 #how important is the difference between q-val from q-table and what's observed\n",
        "\n",
        "  Q = pd.DataFrame(np.random.rand(n_states,n_actions)/1000)\n",
        "  #Q .loc[n_states-1] = np.zeros(n_actions,)\n",
        "  #Q.loc[n_cols-1] = np.zeros(n_actions,) \n",
        "  #Q = restrict_actions(Q, 5, 1)\n",
        "\n",
        "  for i_episode in range(num_episodes):\n",
        "\n",
        "    if np.random.randn() > 0.5: \n",
        "      entrance_stimulus = 'A'\n",
        "    else: \n",
        "      entrance_stimulus = 'B'\n",
        "\n",
        "    if epsilon > epsilon_final:\n",
        "            epsilon *= epsilon_decay\n",
        "\n",
        "\n",
        "    if i_episode%2 == 0: \n",
        "\n",
        "    # resets the environment\n",
        "      state = env1.reset()\n",
        "      step = 0\n",
        "      reward = 0\n",
        "\n",
        "\n",
        "      while False:\n",
        "        step += 1\n",
        "\n",
        "        random_for_epsilon = np.random.randn()\n",
        "\n",
        "        action = choose_action(Q, state, epsilon)\n",
        "        \n",
        "\n",
        "         \n",
        "        ## env gives reward and next state and whether we've reached terminal state upon taking action at current state.. \n",
        "        new_state, _ , done, info = env1.step(action)\n",
        "\n",
        "        ##if you want reward penalized at for each timestep\n",
        "        reward = rewarder1(new_state, reward, entrance_stimulus)\n",
        "\n",
        "        \n",
        "        # filling the Q Table - \n",
        "        \n",
        "        Q.loc[state, action] = (1- learning_rate)*(Q.at[state, action]) + (learning_rate)*(reward+ gamma*(np.max(Q.loc[new_state, [0,2]])))\n",
        "        \n",
        "        # Setting new state for next action\n",
        "        state = new_state\n",
        "        env1.render()\n",
        "        tile = map1[rowsandcols(state)[0]][rowsandcols(state)[1]]\n",
        "        #if tile == 'G':\n",
        "          #done =True\n",
        "        \n",
        "\n",
        "    \n",
        "    else: \n",
        "      state = env2.reset()\n",
        "      step = 0\n",
        "      reward = 0\n",
        "\n",
        "      while False:\n",
        "        step += 1\n",
        "\n",
        "        random_for_epsilon = np.random.randn()\n",
        "        \n",
        "        action = choose_action(Q, state, epsilon)\n",
        "         \n",
        "        ## env gives reward and next state and whether we've reached terminal state upon taking action at current state.. \n",
        "        new_state, _ , done, info = env2.step(action)\n",
        "\n",
        "        ##if you want reward penalized at for each timestep\n",
        "        reward = rewarder2(new_state, reward, entrance_stimulus )\n",
        "\n",
        "        \n",
        "        # filling the Q Table - \n",
        "        \n",
        "        Q.loc[state, action] = (1- learning_rate)*(Q.loc[state, action]) + (learning_rate)*(reward+ gamma*(np.max(Q.loc[new_state, [0,2] ])))\n",
        "        \n",
        "        # Setting new state for next action\n",
        "        state = new_state\n",
        "        env2.render()\n",
        "        tile = map2[rowsandcols(state)[0]][rowsandcols(state)[1]]\n",
        "        \n",
        "        #if tile == 'G':\n",
        "          #done =True\n",
        "\n",
        "\n",
        "        \n",
        "      if done:\n",
        "        \n",
        "          #print(Q)\n",
        "          \n",
        "          #terminal_state.append(tile)\n",
        "          #steps_total.append(step)\n",
        "          #rewards_total.append(reward)\n",
        "          #epsilon_total.append(epsilon)\n",
        "          #if i_episode % 10 == 0:\n",
        "        print('Episode: {} Reward: {} Steps Taken: {} Terminal State: {}, Epsilon: {}'.format(i_episode,reward, step, tile, epsilon))\n",
        "        #break \n",
        "  #n_successes.append(terminal_state.count('G'))\n",
        "  \n",
        "\n"
      ],
      "execution_count": 65,
      "outputs": [
        {
          "output_type": "stream",
          "text": [
            "Episode: 1 Reward: 0 Steps Taken: 0 Terminal State: G, Epsilon: 0.78408\n",
            "Episode: 3 Reward: 0 Steps Taken: 0 Terminal State: G, Epsilon: 0.768476808\n",
            "Episode: 5 Reward: 0 Steps Taken: 0 Terminal State: G, Epsilon: 0.7531841195208\n",
            "Episode: 7 Reward: 0 Steps Taken: 0 Terminal State: G, Epsilon: 0.7381957555423361\n",
            "Episode: 9 Reward: 0 Steps Taken: 0 Terminal State: G, Epsilon: 0.7235056600070435\n"
          ],
          "name": "stdout"
        }
      ]
    },
    {
      "cell_type": "code",
      "metadata": {
        "colab": {
          "base_uri": "https://localhost:8080/"
        },
        "id": "xHNN_f8R6tMl",
        "outputId": "e025ad7f-8556-4d0e-e4dd-ecddce7d5fcf"
      },
      "source": [
        "env2.reset()"
      ],
      "execution_count": 64,
      "outputs": [
        {
          "output_type": "execute_result",
          "data": {
            "text/plain": [
              "2"
            ]
          },
          "metadata": {
            "tags": []
          },
          "execution_count": 64
        }
      ]
    },
    {
      "cell_type": "code",
      "metadata": {
        "id": "bB3sac-H7A6j"
      },
      "source": [
        ""
      ],
      "execution_count": null,
      "outputs": []
    }
  ]
}