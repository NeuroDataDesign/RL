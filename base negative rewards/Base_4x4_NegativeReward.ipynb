{
  "nbformat": 4,
  "nbformat_minor": 0,
  "metadata": {
    "kernelspec": {
      "display_name": "Python 3",
      "language": "python",
      "name": "python3"
    },
    "language_info": {
      "codemirror_mode": {
        "name": "ipython",
        "version": 3
      },
      "file_extension": ".py",
      "mimetype": "text/x-python",
      "name": "python",
      "nbconvert_exporter": "python",
      "pygments_lexer": "ipython3",
      "version": "3.8.5"
    },
    "colab": {
      "name": "Base_4x4_NegativeReward.ipynb",
      "provenance": []
    }
  },
  "cells": [
    {
      "cell_type": "markdown",
      "metadata": {
        "id": "7A7fa1WMOMwC"
      },
      "source": [
        "# Frozen Lake\n"
      ]
    },
    {
      "cell_type": "markdown",
      "metadata": {
        "id": "JPAWi834Wic3"
      },
      "source": [
        "#### Import all requirements"
      ]
    },
    {
      "cell_type": "code",
      "metadata": {
        "id": "GutUwuMaOMwE"
      },
      "source": [
        "import gym\n",
        "import numpy as np\n",
        "import random\n",
        "import torch\n",
        "import time\n",
        "import matplotlib.pyplot as plt\n",
        "import pandas as pd\n"
      ],
      "execution_count": 1,
      "outputs": []
    },
    {
      "cell_type": "markdown",
      "metadata": {
        "id": "h66lZsd0dI_P"
      },
      "source": [
        ""
      ]
    },
    {
      "cell_type": "code",
      "metadata": {
        "id": "yy5GLvJLOMwG"
      },
      "source": [
        "og_4x4 = ['SFFF',\n",
        "'FHFH',\n",
        "'HFFH',\n",
        "'HFFG']\n",
        "\n"
      ],
      "execution_count": 2,
      "outputs": []
    },
    {
      "cell_type": "code",
      "metadata": {
        "_cell_guid": "79c7e3d0-c299-4dcb-8224-4455121ee9b0",
        "_uuid": "d629ff2d2480ee46fbb7e2d37f6b5fab8052498a",
        "scrolled": true,
        "colab": {
          "base_uri": "https://localhost:8080/"
        },
        "id": "PCJLBfV9OMwG",
        "outputId": "206336f6-a09c-4bb1-ab79-dbb7bc1b031c"
      },
      "source": [
        "\n",
        "env = gym.make('FrozenLake-v0', is_slippery=False, desc = og_4x4)\n",
        "\n",
        "\n",
        "# visualize 4x4 frozen lake\n",
        "env.render()"
      ],
      "execution_count": 3,
      "outputs": [
        {
          "output_type": "stream",
          "text": [
            "\n",
            "\u001b[41mS\u001b[0mFFF\n",
            "FHFH\n",
            "HFFH\n",
            "HFFG\n"
          ],
          "name": "stdout"
        }
      ]
    },
    {
      "cell_type": "code",
      "metadata": {
        "colab": {
          "base_uri": "https://localhost:8080/"
        },
        "id": "iKqlHWnqOMwH",
        "outputId": "914d6dfb-f10e-4b97-9bfa-8b6e48e84936"
      },
      "source": [
        "# Total number of States and Actions\n",
        "n_states = env.observation_space.n\n",
        "n_actions = env.action_space.n\n",
        "n_rows = 4\n",
        "n_cols = 4\n",
        "print( \"States = \", n_states)\n",
        "print( \"Actions = \", n_actions)"
      ],
      "execution_count": 4,
      "outputs": [
        {
          "output_type": "stream",
          "text": [
            "States =  16\n",
            "Actions =  4\n"
          ],
          "name": "stdout"
        }
      ]
    },
    {
      "cell_type": "code",
      "metadata": {
        "id": "ew16IaBSPQDS"
      },
      "source": [
        "def restrict_actions(Q, n_states, n_rows):\n",
        "\n",
        "  Q.at[n_states -1, :] = np.zeros(n_rows,)\n",
        "  for i in range( 0, n_states, n_rows): \n",
        "    Q.at[i,0] = np.NaN\n",
        "  for i in range( n_rows -1 , n_states, n_rows): \n",
        "    Q.at[i,2] = np.NaN\n",
        "  for i in range(0, n_rows):\n",
        "    Q.at[i,3] = np.NaN\n",
        "  for i in range(n_states - n_rows , n_states):\n",
        "    Q.at[i,1 ]= np.NaN\n",
        "  \n",
        "  return Q\n",
        "  "
      ],
      "execution_count": 7,
      "outputs": []
    },
    {
      "cell_type": "code",
      "metadata": {
        "id": "03DDjZsSPfX6"
      },
      "source": [
        "def choose_action(Q, state, epsilon):\n",
        "  random_for_epsilon = np.random.rand()\n",
        "  if random_for_epsilon <= epsilon:\n",
        "    s = Q.loc[state].notna()\n",
        "    vals = s[s].index.values\n",
        "    action = random.choice(vals)\n",
        "  else: \n",
        "   action = np.argmax(Q.loc[state])\n",
        "  return action"
      ],
      "execution_count": 65,
      "outputs": []
    },
    {
      "cell_type": "code",
      "metadata": {
        "id": "5chvADGMW7FQ"
      },
      "source": [
        "##assign index to each state using state-matrix\n",
        "\n",
        "state_matrix = np.arange(0,n_states).reshape(n_rows,n_cols)\n",
        "state_matrix\n",
        "\n",
        "def rowsandcols(state):\n",
        "  ''' input: state returned by env\n",
        "      output: location of state as (row,col) tuple'''\n",
        "  return int(np.where(state_matrix ==state)[0]), int(np.where(state_matrix ==state)[1])"
      ],
      "execution_count": 10,
      "outputs": []
    },
    {
      "cell_type": "code",
      "metadata": {
        "id": "cCCqfNNCFq-E"
      },
      "source": [
        "def rewarder(new_state, reward):\n",
        "  if og_4x4[rowsandcols(new_state)[0]][rowsandcols(new_state)[1]]== 'H':\n",
        "    reward -= 20\n",
        "  elif og_4x4[rowsandcols(new_state)[0]][rowsandcols(new_state)[1]]== 'F':\n",
        "    reward -= 1 \n",
        "  elif og_4x4[rowsandcols(new_state)[0]][rowsandcols(new_state)[1]]== 'S':\n",
        "    reward -= 1\n",
        "  else: #goal\n",
        "    reward += 100\n",
        "\n",
        "  return reward"
      ],
      "execution_count": 33,
      "outputs": []
    },
    {
      "cell_type": "code",
      "metadata": {
        "id": "n3dhzIe7OMwQ"
      },
      "source": [
        "# Start with 80% random actions to explore the environment\n",
        "# exploration decays with each timestep by a factor of 0.999 until it hits 10% exploration rate \n",
        "\n",
        "epsilon = 0.8\n",
        "epsilon_final = 0.1\n",
        "epsilon_decay = 0.99"
      ],
      "execution_count": 66,
      "outputs": []
    },
    {
      "cell_type": "code",
      "metadata": {
        "id": "GK5pin0tOMwQ"
      },
      "source": [
        "gamma = 0.90 # discount factor\n",
        "learning_rate = 0.9 #how important is the difference between q-val from q-table and what's observed"
      ],
      "execution_count": 67,
      "outputs": []
    },
    {
      "cell_type": "markdown",
      "metadata": {
        "id": "_ldMGZY_hRwH"
      },
      "source": [
        "#### Initialize Q-table"
      ]
    },
    {
      "cell_type": "code",
      "metadata": {
        "colab": {
          "base_uri": "https://localhost:8080/",
          "height": 521
        },
        "id": "tzZBbdSEa53j",
        "outputId": "21928da5-e983-49b3-97c7-adcdfef7426d"
      },
      "source": [
        "Q = pd.DataFrame(np.random.rand(n_states,n_actions)/100)\n",
        "Q.loc[n_states-1] = np.zeros(n_actions,)\n",
        "#Q = restrict_actions(Q, n_states, n_rows)\n",
        "Q"
      ],
      "execution_count": 68,
      "outputs": [
        {
          "output_type": "execute_result",
          "data": {
            "text/html": [
              "<div>\n",
              "<style scoped>\n",
              "    .dataframe tbody tr th:only-of-type {\n",
              "        vertical-align: middle;\n",
              "    }\n",
              "\n",
              "    .dataframe tbody tr th {\n",
              "        vertical-align: top;\n",
              "    }\n",
              "\n",
              "    .dataframe thead th {\n",
              "        text-align: right;\n",
              "    }\n",
              "</style>\n",
              "<table border=\"1\" class=\"dataframe\">\n",
              "  <thead>\n",
              "    <tr style=\"text-align: right;\">\n",
              "      <th></th>\n",
              "      <th>0</th>\n",
              "      <th>1</th>\n",
              "      <th>2</th>\n",
              "      <th>3</th>\n",
              "    </tr>\n",
              "  </thead>\n",
              "  <tbody>\n",
              "    <tr>\n",
              "      <th>0</th>\n",
              "      <td>0.002987</td>\n",
              "      <td>0.003661</td>\n",
              "      <td>0.001682</td>\n",
              "      <td>0.007429</td>\n",
              "    </tr>\n",
              "    <tr>\n",
              "      <th>1</th>\n",
              "      <td>0.009462</td>\n",
              "      <td>0.009364</td>\n",
              "      <td>0.004785</td>\n",
              "      <td>0.001078</td>\n",
              "    </tr>\n",
              "    <tr>\n",
              "      <th>2</th>\n",
              "      <td>0.001636</td>\n",
              "      <td>0.002033</td>\n",
              "      <td>0.000088</td>\n",
              "      <td>0.009093</td>\n",
              "    </tr>\n",
              "    <tr>\n",
              "      <th>3</th>\n",
              "      <td>0.003676</td>\n",
              "      <td>0.007124</td>\n",
              "      <td>0.000069</td>\n",
              "      <td>0.006800</td>\n",
              "    </tr>\n",
              "    <tr>\n",
              "      <th>4</th>\n",
              "      <td>0.000416</td>\n",
              "      <td>0.004342</td>\n",
              "      <td>0.008815</td>\n",
              "      <td>0.007963</td>\n",
              "    </tr>\n",
              "    <tr>\n",
              "      <th>5</th>\n",
              "      <td>0.001973</td>\n",
              "      <td>0.003194</td>\n",
              "      <td>0.001385</td>\n",
              "      <td>0.009546</td>\n",
              "    </tr>\n",
              "    <tr>\n",
              "      <th>6</th>\n",
              "      <td>0.001662</td>\n",
              "      <td>0.004636</td>\n",
              "      <td>0.004349</td>\n",
              "      <td>0.002962</td>\n",
              "    </tr>\n",
              "    <tr>\n",
              "      <th>7</th>\n",
              "      <td>0.002686</td>\n",
              "      <td>0.007100</td>\n",
              "      <td>0.001386</td>\n",
              "      <td>0.006004</td>\n",
              "    </tr>\n",
              "    <tr>\n",
              "      <th>8</th>\n",
              "      <td>0.003124</td>\n",
              "      <td>0.000138</td>\n",
              "      <td>0.009522</td>\n",
              "      <td>0.007164</td>\n",
              "    </tr>\n",
              "    <tr>\n",
              "      <th>9</th>\n",
              "      <td>0.008796</td>\n",
              "      <td>0.002600</td>\n",
              "      <td>0.007984</td>\n",
              "      <td>0.003421</td>\n",
              "    </tr>\n",
              "    <tr>\n",
              "      <th>10</th>\n",
              "      <td>0.009372</td>\n",
              "      <td>0.006880</td>\n",
              "      <td>0.008555</td>\n",
              "      <td>0.009076</td>\n",
              "    </tr>\n",
              "    <tr>\n",
              "      <th>11</th>\n",
              "      <td>0.006811</td>\n",
              "      <td>0.004310</td>\n",
              "      <td>0.002622</td>\n",
              "      <td>0.000892</td>\n",
              "    </tr>\n",
              "    <tr>\n",
              "      <th>12</th>\n",
              "      <td>0.005760</td>\n",
              "      <td>0.001762</td>\n",
              "      <td>0.005253</td>\n",
              "      <td>0.003305</td>\n",
              "    </tr>\n",
              "    <tr>\n",
              "      <th>13</th>\n",
              "      <td>0.009625</td>\n",
              "      <td>0.003166</td>\n",
              "      <td>0.000575</td>\n",
              "      <td>0.008090</td>\n",
              "    </tr>\n",
              "    <tr>\n",
              "      <th>14</th>\n",
              "      <td>0.008155</td>\n",
              "      <td>0.001939</td>\n",
              "      <td>0.004171</td>\n",
              "      <td>0.009330</td>\n",
              "    </tr>\n",
              "    <tr>\n",
              "      <th>15</th>\n",
              "      <td>0.000000</td>\n",
              "      <td>0.000000</td>\n",
              "      <td>0.000000</td>\n",
              "      <td>0.000000</td>\n",
              "    </tr>\n",
              "  </tbody>\n",
              "</table>\n",
              "</div>"
            ],
            "text/plain": [
              "           0         1         2         3\n",
              "0   0.002987  0.003661  0.001682  0.007429\n",
              "1   0.009462  0.009364  0.004785  0.001078\n",
              "2   0.001636  0.002033  0.000088  0.009093\n",
              "3   0.003676  0.007124  0.000069  0.006800\n",
              "4   0.000416  0.004342  0.008815  0.007963\n",
              "5   0.001973  0.003194  0.001385  0.009546\n",
              "6   0.001662  0.004636  0.004349  0.002962\n",
              "7   0.002686  0.007100  0.001386  0.006004\n",
              "8   0.003124  0.000138  0.009522  0.007164\n",
              "9   0.008796  0.002600  0.007984  0.003421\n",
              "10  0.009372  0.006880  0.008555  0.009076\n",
              "11  0.006811  0.004310  0.002622  0.000892\n",
              "12  0.005760  0.001762  0.005253  0.003305\n",
              "13  0.009625  0.003166  0.000575  0.008090\n",
              "14  0.008155  0.001939  0.004171  0.009330\n",
              "15  0.000000  0.000000  0.000000  0.000000"
            ]
          },
          "metadata": {
            "tags": []
          },
          "execution_count": 68
        }
      ]
    },
    {
      "cell_type": "code",
      "metadata": {
        "id": "WOatlcLRMyfM"
      },
      "source": [
        "num_episodes = 1000\n",
        "steps_total = [] # store number of steps taken in each episode\n",
        "rewards_total = [] #store reward obtained for each episode\n",
        "epsilon_total = [] #store epsilon obtained at the end of each episode\n",
        "terminal_state = []"
      ],
      "execution_count": 69,
      "outputs": []
    },
    {
      "cell_type": "markdown",
      "metadata": {
        "id": "bBD20yPcOMwR"
      },
      "source": [
        "## q learning"
      ]
    },
    {
      "cell_type": "code",
      "metadata": {
        "colab": {
          "base_uri": "https://localhost:8080/"
        },
        "id": "eKW0FxCaOMwR",
        "outputId": "3c1aef89-10de-43f2-8213-aa6a7aba907d"
      },
      "source": [
        "for i_episode in range(num_episodes):\n",
        "    \n",
        "    # resets the environment\n",
        "    state = env.reset()\n",
        "    step = 0\n",
        "    reward = 0\n",
        "\n",
        "  ## as epsilon decays with more timesteps, the prob. of selecting a random val < e decays --> more likely to exploit. \n",
        "    if epsilon > epsilon_final:\n",
        "            epsilon *= epsilon_decay\n",
        "\n",
        "    while True:\n",
        "        \n",
        "        step += 1\n",
        "        \n",
        "        random_for_epsilon = np.random.rand()\n",
        "        if random_for_epsilon <= epsilon:\n",
        "          action = env.action_space.sample()\n",
        "        else: \n",
        "          action = np.argmax(Q.loc[state])\n",
        "  \n",
        "         \n",
        "        ## env gives reward and next state and whether we've reached terminal state upon taking action at current state.. \n",
        "        new_state, _ , done, info = env.step(action)\n",
        "\n",
        "        ##if you want reward penalized at for each timestep\n",
        "        reward = rewarder(new_state, reward)\n",
        "        \n",
        "          \n",
        "        \n",
        "\n",
        "        # filling the Q Table - \n",
        "        \n",
        "        Q.loc[state, action] = (1- learning_rate)*Q.at[state, action] + learning_rate*(reward + gamma * np.max(Q.loc[new_state]))\n",
        "        \n",
        "        # Setting new state for next action\n",
        "        state = new_state\n",
        "        tile = og_4x4[rowsandcols(state)[0]][rowsandcols(state)[1]]\n",
        "        #env.render()\n",
        "        \n",
        "        if done:\n",
        "          #print(Q)\n",
        "          \n",
        "          terminal_state.append(tile)\n",
        "          steps_total.append(step)\n",
        "          rewards_total.append(reward)\n",
        "          epsilon_total.append(epsilon)\n",
        "          if i_episode % 10 == 0:\n",
        "            print('Episode: {} Reward: {} Steps Taken: {} Terminal State: {}, Epsilon: {}'.format(i_episode,reward, step, tile, epsilon))\n",
        "          break\n"
      ],
      "execution_count": 70,
      "outputs": [
        {
          "output_type": "stream",
          "text": [
            "Episode: 0 Reward: -24 Steps Taken: 5 Terminal State: H, Epsilon: 0.792\n",
            "Episode: 10 Reward: -26 Steps Taken: 7 Terminal State: H, Epsilon: 0.7162706034069731\n",
            "Episode: 20 Reward: -27 Steps Taken: 8 Terminal State: H, Epsilon: 0.6477822945770066\n",
            "Episode: 30 Reward: -32 Steps Taken: 13 Terminal State: H, Epsilon: 0.5858426957235178\n",
            "Episode: 40 Reward: -28 Steps Taken: 9 Terminal State: H, Epsilon: 0.5298256327871866\n",
            "Episode: 50 Reward: 95 Steps Taken: 6 Terminal State: G, Epsilon: 0.4791648051729288\n",
            "Episode: 60 Reward: -31 Steps Taken: 12 Terminal State: H, Epsilon: 0.4333480607734829\n",
            "Episode: 70 Reward: 93 Steps Taken: 8 Terminal State: G, Epsilon: 0.391912218403364\n",
            "Episode: 80 Reward: 93 Steps Taken: 8 Terminal State: G, Epsilon: 0.35443838530093813\n",
            "Episode: 90 Reward: 88 Steps Taken: 13 Terminal State: G, Epsilon: 0.3205477223612326\n",
            "Episode: 100 Reward: 93 Steps Taken: 8 Terminal State: G, Epsilon: 0.2898976142883978\n",
            "Episode: 110 Reward: -23 Steps Taken: 4 Terminal State: H, Epsilon: 0.26217820595024327\n",
            "Episode: 120 Reward: 93 Steps Taken: 8 Terminal State: G, Epsilon: 0.23710926991936676\n",
            "Episode: 130 Reward: 93 Steps Taken: 8 Terminal State: G, Epsilon: 0.21443737353349962\n",
            "Episode: 140 Reward: 95 Steps Taken: 6 Terminal State: G, Epsilon: 0.19393331683566448\n",
            "Episode: 150 Reward: -25 Steps Taken: 6 Terminal State: H, Epsilon: 0.17538981549317814\n",
            "Episode: 160 Reward: -35 Steps Taken: 16 Terminal State: H, Epsilon: 0.15861940527113175\n",
            "Episode: 170 Reward: 93 Steps Taken: 8 Terminal State: G, Epsilon: 0.1434525468757686\n",
            "Episode: 180 Reward: 95 Steps Taken: 6 Terminal State: G, Epsilon: 0.12973591200880538\n",
            "Episode: 190 Reward: -22 Steps Taken: 3 Terminal State: H, Epsilon: 0.11733083330568309\n",
            "Episode: 200 Reward: 95 Steps Taken: 6 Terminal State: G, Epsilon: 0.10611190248750582\n",
            "Episode: 210 Reward: 95 Steps Taken: 6 Terminal State: G, Epsilon: 0.09990224980716131\n",
            "Episode: 220 Reward: 95 Steps Taken: 6 Terminal State: G, Epsilon: 0.09990224980716131\n",
            "Episode: 230 Reward: -23 Steps Taken: 4 Terminal State: H, Epsilon: 0.09990224980716131\n",
            "Episode: 240 Reward: 95 Steps Taken: 6 Terminal State: G, Epsilon: 0.09990224980716131\n",
            "Episode: 250 Reward: 95 Steps Taken: 6 Terminal State: G, Epsilon: 0.09990224980716131\n",
            "Episode: 260 Reward: 95 Steps Taken: 6 Terminal State: G, Epsilon: 0.09990224980716131\n",
            "Episode: 270 Reward: 95 Steps Taken: 6 Terminal State: G, Epsilon: 0.09990224980716131\n",
            "Episode: 280 Reward: -23 Steps Taken: 4 Terminal State: H, Epsilon: 0.09990224980716131\n",
            "Episode: 290 Reward: 93 Steps Taken: 8 Terminal State: G, Epsilon: 0.09990224980716131\n",
            "Episode: 300 Reward: 95 Steps Taken: 6 Terminal State: G, Epsilon: 0.09990224980716131\n",
            "Episode: 310 Reward: 95 Steps Taken: 6 Terminal State: G, Epsilon: 0.09990224980716131\n",
            "Episode: 320 Reward: -21 Steps Taken: 2 Terminal State: H, Epsilon: 0.09990224980716131\n",
            "Episode: 330 Reward: 95 Steps Taken: 6 Terminal State: G, Epsilon: 0.09990224980716131\n",
            "Episode: 340 Reward: 95 Steps Taken: 6 Terminal State: G, Epsilon: 0.09990224980716131\n",
            "Episode: 350 Reward: 92 Steps Taken: 9 Terminal State: G, Epsilon: 0.09990224980716131\n",
            "Episode: 360 Reward: 93 Steps Taken: 8 Terminal State: G, Epsilon: 0.09990224980716131\n",
            "Episode: 370 Reward: 92 Steps Taken: 9 Terminal State: G, Epsilon: 0.09990224980716131\n",
            "Episode: 380 Reward: 93 Steps Taken: 8 Terminal State: G, Epsilon: 0.09990224980716131\n",
            "Episode: 390 Reward: 95 Steps Taken: 6 Terminal State: G, Epsilon: 0.09990224980716131\n",
            "Episode: 400 Reward: 93 Steps Taken: 8 Terminal State: G, Epsilon: 0.09990224980716131\n",
            "Episode: 410 Reward: 94 Steps Taken: 7 Terminal State: G, Epsilon: 0.09990224980716131\n",
            "Episode: 420 Reward: 95 Steps Taken: 6 Terminal State: G, Epsilon: 0.09990224980716131\n",
            "Episode: 430 Reward: 95 Steps Taken: 6 Terminal State: G, Epsilon: 0.09990224980716131\n",
            "Episode: 440 Reward: 93 Steps Taken: 8 Terminal State: G, Epsilon: 0.09990224980716131\n",
            "Episode: 450 Reward: 95 Steps Taken: 6 Terminal State: G, Epsilon: 0.09990224980716131\n",
            "Episode: 460 Reward: 95 Steps Taken: 6 Terminal State: G, Epsilon: 0.09990224980716131\n",
            "Episode: 470 Reward: 95 Steps Taken: 6 Terminal State: G, Epsilon: 0.09990224980716131\n",
            "Episode: 480 Reward: 93 Steps Taken: 8 Terminal State: G, Epsilon: 0.09990224980716131\n",
            "Episode: 490 Reward: 95 Steps Taken: 6 Terminal State: G, Epsilon: 0.09990224980716131\n",
            "Episode: 500 Reward: 95 Steps Taken: 6 Terminal State: G, Epsilon: 0.09990224980716131\n",
            "Episode: 510 Reward: -21 Steps Taken: 2 Terminal State: H, Epsilon: 0.09990224980716131\n",
            "Episode: 520 Reward: 93 Steps Taken: 8 Terminal State: G, Epsilon: 0.09990224980716131\n",
            "Episode: 530 Reward: 95 Steps Taken: 6 Terminal State: G, Epsilon: 0.09990224980716131\n",
            "Episode: 540 Reward: 94 Steps Taken: 7 Terminal State: G, Epsilon: 0.09990224980716131\n",
            "Episode: 550 Reward: -25 Steps Taken: 6 Terminal State: H, Epsilon: 0.09990224980716131\n",
            "Episode: 560 Reward: 95 Steps Taken: 6 Terminal State: G, Epsilon: 0.09990224980716131\n",
            "Episode: 570 Reward: 95 Steps Taken: 6 Terminal State: G, Epsilon: 0.09990224980716131\n",
            "Episode: 580 Reward: 90 Steps Taken: 11 Terminal State: G, Epsilon: 0.09990224980716131\n",
            "Episode: 590 Reward: 95 Steps Taken: 6 Terminal State: G, Epsilon: 0.09990224980716131\n",
            "Episode: 600 Reward: 95 Steps Taken: 6 Terminal State: G, Epsilon: 0.09990224980716131\n",
            "Episode: 610 Reward: 95 Steps Taken: 6 Terminal State: G, Epsilon: 0.09990224980716131\n",
            "Episode: 620 Reward: -23 Steps Taken: 4 Terminal State: H, Epsilon: 0.09990224980716131\n",
            "Episode: 630 Reward: 95 Steps Taken: 6 Terminal State: G, Epsilon: 0.09990224980716131\n",
            "Episode: 640 Reward: 93 Steps Taken: 8 Terminal State: G, Epsilon: 0.09990224980716131\n",
            "Episode: 650 Reward: -23 Steps Taken: 4 Terminal State: H, Epsilon: 0.09990224980716131\n",
            "Episode: 660 Reward: 95 Steps Taken: 6 Terminal State: G, Epsilon: 0.09990224980716131\n",
            "Episode: 670 Reward: 95 Steps Taken: 6 Terminal State: G, Epsilon: 0.09990224980716131\n",
            "Episode: 680 Reward: 95 Steps Taken: 6 Terminal State: G, Epsilon: 0.09990224980716131\n",
            "Episode: 690 Reward: 95 Steps Taken: 6 Terminal State: G, Epsilon: 0.09990224980716131\n",
            "Episode: 700 Reward: 95 Steps Taken: 6 Terminal State: G, Epsilon: 0.09990224980716131\n",
            "Episode: 710 Reward: 95 Steps Taken: 6 Terminal State: G, Epsilon: 0.09990224980716131\n",
            "Episode: 720 Reward: 95 Steps Taken: 6 Terminal State: G, Epsilon: 0.09990224980716131\n",
            "Episode: 730 Reward: 88 Steps Taken: 13 Terminal State: G, Epsilon: 0.09990224980716131\n",
            "Episode: 740 Reward: 95 Steps Taken: 6 Terminal State: G, Epsilon: 0.09990224980716131\n",
            "Episode: 750 Reward: 95 Steps Taken: 6 Terminal State: G, Epsilon: 0.09990224980716131\n",
            "Episode: 760 Reward: 93 Steps Taken: 8 Terminal State: G, Epsilon: 0.09990224980716131\n",
            "Episode: 770 Reward: 93 Steps Taken: 8 Terminal State: G, Epsilon: 0.09990224980716131\n",
            "Episode: 780 Reward: 95 Steps Taken: 6 Terminal State: G, Epsilon: 0.09990224980716131\n",
            "Episode: 790 Reward: 95 Steps Taken: 6 Terminal State: G, Epsilon: 0.09990224980716131\n",
            "Episode: 800 Reward: 93 Steps Taken: 8 Terminal State: G, Epsilon: 0.09990224980716131\n",
            "Episode: 810 Reward: 95 Steps Taken: 6 Terminal State: G, Epsilon: 0.09990224980716131\n",
            "Episode: 820 Reward: 95 Steps Taken: 6 Terminal State: G, Epsilon: 0.09990224980716131\n",
            "Episode: 830 Reward: 95 Steps Taken: 6 Terminal State: G, Epsilon: 0.09990224980716131\n",
            "Episode: 840 Reward: 93 Steps Taken: 8 Terminal State: G, Epsilon: 0.09990224980716131\n",
            "Episode: 850 Reward: 95 Steps Taken: 6 Terminal State: G, Epsilon: 0.09990224980716131\n",
            "Episode: 860 Reward: 94 Steps Taken: 7 Terminal State: G, Epsilon: 0.09990224980716131\n",
            "Episode: 870 Reward: -23 Steps Taken: 4 Terminal State: H, Epsilon: 0.09990224980716131\n",
            "Episode: 880 Reward: 94 Steps Taken: 7 Terminal State: G, Epsilon: 0.09990224980716131\n",
            "Episode: 890 Reward: -23 Steps Taken: 4 Terminal State: H, Epsilon: 0.09990224980716131\n",
            "Episode: 900 Reward: 93 Steps Taken: 8 Terminal State: G, Epsilon: 0.09990224980716131\n",
            "Episode: 910 Reward: 94 Steps Taken: 7 Terminal State: G, Epsilon: 0.09990224980716131\n",
            "Episode: 920 Reward: 95 Steps Taken: 6 Terminal State: G, Epsilon: 0.09990224980716131\n",
            "Episode: 930 Reward: 95 Steps Taken: 6 Terminal State: G, Epsilon: 0.09990224980716131\n",
            "Episode: 940 Reward: 95 Steps Taken: 6 Terminal State: G, Epsilon: 0.09990224980716131\n",
            "Episode: 950 Reward: 93 Steps Taken: 8 Terminal State: G, Epsilon: 0.09990224980716131\n",
            "Episode: 960 Reward: 95 Steps Taken: 6 Terminal State: G, Epsilon: 0.09990224980716131\n",
            "Episode: 970 Reward: -21 Steps Taken: 2 Terminal State: H, Epsilon: 0.09990224980716131\n",
            "Episode: 980 Reward: 95 Steps Taken: 6 Terminal State: G, Epsilon: 0.09990224980716131\n",
            "Episode: 990 Reward: 94 Steps Taken: 7 Terminal State: G, Epsilon: 0.09990224980716131\n"
          ],
          "name": "stdout"
        }
      ]
    },
    {
      "cell_type": "code",
      "metadata": {
        "colab": {
          "base_uri": "https://localhost:8080/",
          "height": 521
        },
        "id": "-OJ0x9s_dFO9",
        "outputId": "0d843a00-b658-4812-cbb9-6b2825f4eba7"
      },
      "source": [
        "Q"
      ],
      "execution_count": 71,
      "outputs": [
        {
          "output_type": "execute_result",
          "data": {
            "text/html": [
              "<div>\n",
              "<style scoped>\n",
              "    .dataframe tbody tr th:only-of-type {\n",
              "        vertical-align: middle;\n",
              "    }\n",
              "\n",
              "    .dataframe tbody tr th {\n",
              "        vertical-align: top;\n",
              "    }\n",
              "\n",
              "    .dataframe thead th {\n",
              "        text-align: right;\n",
              "    }\n",
              "</style>\n",
              "<table border=\"1\" class=\"dataframe\">\n",
              "  <thead>\n",
              "    <tr style=\"text-align: right;\">\n",
              "      <th></th>\n",
              "      <th>0</th>\n",
              "      <th>1</th>\n",
              "      <th>2</th>\n",
              "      <th>3</th>\n",
              "    </tr>\n",
              "  </thead>\n",
              "  <tbody>\n",
              "    <tr>\n",
              "      <th>0</th>\n",
              "      <td>37.431195</td>\n",
              "      <td>33.088289</td>\n",
              "      <td>43.355171</td>\n",
              "      <td>37.967139</td>\n",
              "    </tr>\n",
              "    <tr>\n",
              "      <th>1</th>\n",
              "      <td>34.862746</td>\n",
              "      <td>-20.991679</td>\n",
              "      <td>49.956111</td>\n",
              "      <td>42.173841</td>\n",
              "    </tr>\n",
              "    <tr>\n",
              "      <th>2</th>\n",
              "      <td>37.829769</td>\n",
              "      <td>55.650330</td>\n",
              "      <td>39.108830</td>\n",
              "      <td>49.667005</td>\n",
              "    </tr>\n",
              "    <tr>\n",
              "      <th>3</th>\n",
              "      <td>47.014914</td>\n",
              "      <td>-25.694882</td>\n",
              "      <td>31.721650</td>\n",
              "      <td>26.007338</td>\n",
              "    </tr>\n",
              "    <tr>\n",
              "      <th>4</th>\n",
              "      <td>29.287258</td>\n",
              "      <td>-21.378457</td>\n",
              "      <td>-22.189751</td>\n",
              "      <td>37.853316</td>\n",
              "    </tr>\n",
              "    <tr>\n",
              "      <th>5</th>\n",
              "      <td>0.001973</td>\n",
              "      <td>0.003194</td>\n",
              "      <td>0.001385</td>\n",
              "      <td>0.009546</td>\n",
              "    </tr>\n",
              "    <tr>\n",
              "      <th>6</th>\n",
              "      <td>-23.261499</td>\n",
              "      <td>65.597649</td>\n",
              "      <td>-22.993632</td>\n",
              "      <td>48.319184</td>\n",
              "    </tr>\n",
              "    <tr>\n",
              "      <th>7</th>\n",
              "      <td>0.002686</td>\n",
              "      <td>0.007100</td>\n",
              "      <td>0.001386</td>\n",
              "      <td>0.006004</td>\n",
              "    </tr>\n",
              "    <tr>\n",
              "      <th>8</th>\n",
              "      <td>0.003124</td>\n",
              "      <td>0.000138</td>\n",
              "      <td>0.009522</td>\n",
              "      <td>0.007164</td>\n",
              "    </tr>\n",
              "    <tr>\n",
              "      <th>9</th>\n",
              "      <td>-26.541428</td>\n",
              "      <td>60.694320</td>\n",
              "      <td>65.039746</td>\n",
              "      <td>-34.281461</td>\n",
              "    </tr>\n",
              "    <tr>\n",
              "      <th>10</th>\n",
              "      <td>54.536586</td>\n",
              "      <td>77.776388</td>\n",
              "      <td>-24.029871</td>\n",
              "      <td>51.420308</td>\n",
              "    </tr>\n",
              "    <tr>\n",
              "      <th>11</th>\n",
              "      <td>0.006811</td>\n",
              "      <td>0.004310</td>\n",
              "      <td>0.002622</td>\n",
              "      <td>0.000892</td>\n",
              "    </tr>\n",
              "    <tr>\n",
              "      <th>12</th>\n",
              "      <td>0.005760</td>\n",
              "      <td>0.001762</td>\n",
              "      <td>0.005253</td>\n",
              "      <td>0.003305</td>\n",
              "    </tr>\n",
              "    <tr>\n",
              "      <th>13</th>\n",
              "      <td>-23.394372</td>\n",
              "      <td>-12.591887</td>\n",
              "      <td>75.773802</td>\n",
              "      <td>44.610634</td>\n",
              "    </tr>\n",
              "    <tr>\n",
              "      <th>14</th>\n",
              "      <td>61.040205</td>\n",
              "      <td>75.096206</td>\n",
              "      <td>92.299080</td>\n",
              "      <td>62.382770</td>\n",
              "    </tr>\n",
              "    <tr>\n",
              "      <th>15</th>\n",
              "      <td>0.000000</td>\n",
              "      <td>0.000000</td>\n",
              "      <td>0.000000</td>\n",
              "      <td>0.000000</td>\n",
              "    </tr>\n",
              "  </tbody>\n",
              "</table>\n",
              "</div>"
            ],
            "text/plain": [
              "            0          1          2          3\n",
              "0   37.431195  33.088289  43.355171  37.967139\n",
              "1   34.862746 -20.991679  49.956111  42.173841\n",
              "2   37.829769  55.650330  39.108830  49.667005\n",
              "3   47.014914 -25.694882  31.721650  26.007338\n",
              "4   29.287258 -21.378457 -22.189751  37.853316\n",
              "5    0.001973   0.003194   0.001385   0.009546\n",
              "6  -23.261499  65.597649 -22.993632  48.319184\n",
              "7    0.002686   0.007100   0.001386   0.006004\n",
              "8    0.003124   0.000138   0.009522   0.007164\n",
              "9  -26.541428  60.694320  65.039746 -34.281461\n",
              "10  54.536586  77.776388 -24.029871  51.420308\n",
              "11   0.006811   0.004310   0.002622   0.000892\n",
              "12   0.005760   0.001762   0.005253   0.003305\n",
              "13 -23.394372 -12.591887  75.773802  44.610634\n",
              "14  61.040205  75.096206  92.299080  62.382770\n",
              "15   0.000000   0.000000   0.000000   0.000000"
            ]
          },
          "metadata": {
            "tags": []
          },
          "execution_count": 71
        }
      ]
    },
    {
      "cell_type": "code",
      "metadata": {
        "colab": {
          "base_uri": "https://localhost:8080/",
          "height": 295
        },
        "id": "fD3F9g9uUjjE",
        "outputId": "fb426e1d-0ac6-43ee-b297-a076ad7f0591"
      },
      "source": [
        "plt.axhline(y=6, color='green', linestyle='-')\n",
        "plt.bar(np.arange(0, 1000), steps_total, \n",
        "        width = 0.4, color = 'blue')\n",
        "plt.xlabel('episode index')\n",
        "plt.ylabel('number of steps taken')\n",
        "plt.title('Base 4x4 Negative Rewards')\n",
        "plt.show()"
      ],
      "execution_count": 72,
      "outputs": [
        {
          "output_type": "display_data",
          "data": {
            "image/png": "[encoded data removed]",
            "text/plain": [
              "<Figure size 432x288 with 1 Axes>"
            ]
          },
          "metadata": {
            "tags": [],
            "needs_background": "light"
          }
        }
      ]
    },
    {
      "cell_type": "code",
      "metadata": {
        "colab": {
          "base_uri": "https://localhost:8080/",
          "height": 312
        },
        "id": "aB_VRjXaYRh8",
        "outputId": "cd17725b-9a1f-49cd-e16f-85f9d7b83199"
      },
      "source": [
        "\n",
        "plt.scatter(np.arange(0, 1000), rewards_total, s = 0.5, color = 'blue')\n",
        "plt.title('4x4 Negative Rewards')\n",
        "plt.xlabel('episode')\n",
        "plt.ylabel('reward')"
      ],
      "execution_count": 73,
      "outputs": [
        {
          "output_type": "execute_result",
          "data": {
            "text/plain": [
              "Text(0, 0.5, 'reward')"
            ]
          },
          "metadata": {
            "tags": []
          },
          "execution_count": 73
        },
        {
          "output_type": "display_data",
          "data": {
            "image/png": "[encoded data removed]",
            "text/plain": [
              "<Figure size 432x288 with 1 Axes>"
            ]
          },
          "metadata": {
            "tags": [],
            "needs_background": "light"
          }
        }
      ]
    },
    {
      "cell_type": "code",
      "metadata": {
        "id": "IezG0HJnOMwS",
        "colab": {
          "base_uri": "https://localhost:8080/",
          "height": 521
        },
        "outputId": "572681c2-5dae-481b-fcce-2f48fca6fb0e"
      },
      "source": [
        "Q"
      ],
      "execution_count": null,
      "outputs": [
        {
          "output_type": "execute_result",
          "data": {
            "text/html": [
              "<div>\n",
              "<style scoped>\n",
              "    .dataframe tbody tr th:only-of-type {\n",
              "        vertical-align: middle;\n",
              "    }\n",
              "\n",
              "    .dataframe tbody tr th {\n",
              "        vertical-align: top;\n",
              "    }\n",
              "\n",
              "    .dataframe thead th {\n",
              "        text-align: right;\n",
              "    }\n",
              "</style>\n",
              "<table border=\"1\" class=\"dataframe\">\n",
              "  <thead>\n",
              "    <tr style=\"text-align: right;\">\n",
              "      <th></th>\n",
              "      <th>0</th>\n",
              "      <th>1</th>\n",
              "      <th>2</th>\n",
              "      <th>3</th>\n",
              "    </tr>\n",
              "  </thead>\n",
              "  <tbody>\n",
              "    <tr>\n",
              "      <th>0</th>\n",
              "      <td>9.687764</td>\n",
              "      <td>14.818251</td>\n",
              "      <td>7.088224</td>\n",
              "      <td>12.058932</td>\n",
              "    </tr>\n",
              "    <tr>\n",
              "      <th>1</th>\n",
              "      <td>11.362684</td>\n",
              "      <td>-5.995770</td>\n",
              "      <td>-14.754873</td>\n",
              "      <td>-12.037507</td>\n",
              "    </tr>\n",
              "    <tr>\n",
              "      <th>2</th>\n",
              "      <td>-9.135922</td>\n",
              "      <td>-17.731013</td>\n",
              "      <td>-14.001078</td>\n",
              "      <td>-21.437789</td>\n",
              "    </tr>\n",
              "    <tr>\n",
              "      <th>3</th>\n",
              "      <td>-21.617321</td>\n",
              "      <td>-11.610763</td>\n",
              "      <td>-17.989366</td>\n",
              "      <td>-17.340240</td>\n",
              "    </tr>\n",
              "    <tr>\n",
              "      <th>4</th>\n",
              "      <td>10.821792</td>\n",
              "      <td>17.850792</td>\n",
              "      <td>-5.983707</td>\n",
              "      <td>5.469555</td>\n",
              "    </tr>\n",
              "    <tr>\n",
              "      <th>5</th>\n",
              "      <td>0.000000</td>\n",
              "      <td>0.000000</td>\n",
              "      <td>0.000000</td>\n",
              "      <td>0.000000</td>\n",
              "    </tr>\n",
              "    <tr>\n",
              "      <th>6</th>\n",
              "      <td>-15.292364</td>\n",
              "      <td>25.648473</td>\n",
              "      <td>-16.340385</td>\n",
              "      <td>-19.544755</td>\n",
              "    </tr>\n",
              "    <tr>\n",
              "      <th>7</th>\n",
              "      <td>0.000000</td>\n",
              "      <td>0.000000</td>\n",
              "      <td>0.000000</td>\n",
              "      <td>0.000000</td>\n",
              "    </tr>\n",
              "    <tr>\n",
              "      <th>8</th>\n",
              "      <td>11.238300</td>\n",
              "      <td>-7.177370</td>\n",
              "      <td>22.141840</td>\n",
              "      <td>11.744492</td>\n",
              "    </tr>\n",
              "    <tr>\n",
              "      <th>9</th>\n",
              "      <td>12.683235</td>\n",
              "      <td>24.351699</td>\n",
              "      <td>27.949154</td>\n",
              "      <td>-7.984162</td>\n",
              "    </tr>\n",
              "    <tr>\n",
              "      <th>10</th>\n",
              "      <td>17.176076</td>\n",
              "      <td>35.500107</td>\n",
              "      <td>-8.996878</td>\n",
              "      <td>17.936739</td>\n",
              "    </tr>\n",
              "    <tr>\n",
              "      <th>11</th>\n",
              "      <td>0.000000</td>\n",
              "      <td>0.000000</td>\n",
              "      <td>0.000000</td>\n",
              "      <td>0.000000</td>\n",
              "    </tr>\n",
              "    <tr>\n",
              "      <th>12</th>\n",
              "      <td>0.000000</td>\n",
              "      <td>0.000000</td>\n",
              "      <td>0.000000</td>\n",
              "      <td>0.000000</td>\n",
              "    </tr>\n",
              "    <tr>\n",
              "      <th>13</th>\n",
              "      <td>-12.606936</td>\n",
              "      <td>26.831665</td>\n",
              "      <td>35.500083</td>\n",
              "      <td>20.175983</td>\n",
              "    </tr>\n",
              "    <tr>\n",
              "      <th>14</th>\n",
              "      <td>25.135705</td>\n",
              "      <td>34.548138</td>\n",
              "      <td>45.000078</td>\n",
              "      <td>23.513791</td>\n",
              "    </tr>\n",
              "    <tr>\n",
              "      <th>15</th>\n",
              "      <td>0.000000</td>\n",
              "      <td>0.000000</td>\n",
              "      <td>0.000000</td>\n",
              "      <td>0.000000</td>\n",
              "    </tr>\n",
              "  </tbody>\n",
              "</table>\n",
              "</div>"
            ],
            "text/plain": [
              "            0          1          2          3\n",
              "0    9.687764  14.818251   7.088224  12.058932\n",
              "1   11.362684  -5.995770 -14.754873 -12.037507\n",
              "2   -9.135922 -17.731013 -14.001078 -21.437789\n",
              "3  -21.617321 -11.610763 -17.989366 -17.340240\n",
              "4   10.821792  17.850792  -5.983707   5.469555\n",
              "5    0.000000   0.000000   0.000000   0.000000\n",
              "6  -15.292364  25.648473 -16.340385 -19.544755\n",
              "7    0.000000   0.000000   0.000000   0.000000\n",
              "8   11.238300  -7.177370  22.141840  11.744492\n",
              "9   12.683235  24.351699  27.949154  -7.984162\n",
              "10  17.176076  35.500107  -8.996878  17.936739\n",
              "11   0.000000   0.000000   0.000000   0.000000\n",
              "12   0.000000   0.000000   0.000000   0.000000\n",
              "13 -12.606936  26.831665  35.500083  20.175983\n",
              "14  25.135705  34.548138  45.000078  23.513791\n",
              "15   0.000000   0.000000   0.000000   0.000000"
            ]
          },
          "metadata": {
            "tags": []
          },
          "execution_count": 153
        }
      ]
    },
    {
      "cell_type": "code",
      "metadata": {
        "id": "COlj_7RfKmXU",
        "colab": {
          "base_uri": "https://localhost:8080/",
          "height": 162
        },
        "outputId": "c376df71-c752-4aaa-be83-96c5f0d45aef"
      },
      "source": [
        ""
      ],
      "execution_count": null,
      "outputs": [
        {
          "output_type": "error",
          "ename": "NameError",
          "evalue": "ignored",
          "traceback": [
            "\u001b[0;31m---------------------------------------------------------------------------\u001b[0m",
            "\u001b[0;31mNameError\u001b[0m                                 Traceback (most recent call last)",
            "\u001b[0;32m<ipython-input-1-d690e93c7f0b>\u001b[0m in \u001b[0;36m<module>\u001b[0;34m()\u001b[0m\n\u001b[0;32m----> 1\u001b[0;31m \u001b[0mrandom\u001b[0m\u001b[0;34m.\u001b[0m\u001b[0mchoice\u001b[0m\u001b[0;34m(\u001b[0m\u001b[0;34m[\u001b[0m\u001b[0ma\u001b[0m \u001b[0;32mfor\u001b[0m \u001b[0ma\u001b[0m \u001b[0;32min\u001b[0m \u001b[0mQ\u001b[0m\u001b[0;34m.\u001b[0m\u001b[0mloc\u001b[0m\u001b[0;34m[\u001b[0m\u001b[0;36m0\u001b[0m\u001b[0;34m]\u001b[0m \u001b[0;32mif\u001b[0m \u001b[0ma\u001b[0m \u001b[0;34m!=\u001b[0m \u001b[0mnp\u001b[0m\u001b[0;34m.\u001b[0m\u001b[0mNaN\u001b[0m\u001b[0;34m]\u001b[0m\u001b[0;34m)\u001b[0m\u001b[0;34m\u001b[0m\u001b[0;34m\u001b[0m\u001b[0m\n\u001b[0m",
            "\u001b[0;31mNameError\u001b[0m: name 'random' is not defined"
          ]
        }
      ]
    },
    {
      "cell_type": "code",
      "metadata": {
        "id": "v185_AL9Iwx1"
      },
      "source": [
        ""
      ],
      "execution_count": null,
      "outputs": []
    }
  ]
}