{
  "nbformat": 4,
  "nbformat_minor": 0,
  "metadata": {
    "colab": {
      "name": "Restricted_4x4_Negative_Rewards.ipynb",
      "provenance": []
    },
    "kernelspec": {
      "name": "python3",
      "display_name": "Python 3"
    },
    "language_info": {
      "name": "python"
    }
  },
  "cells": [
    {
      "cell_type": "code",
      "metadata": {
        "id": "Q-yiwx-dEz2N"
      },
      "source": [
        "import gym\n",
        "import numpy as np\n",
        "import random\n",
        "import torch\n",
        "import time\n",
        "import matplotlib.pyplot as plt\n",
        "import pandas as pd"
      ],
      "execution_count": 2,
      "outputs": []
    },
    {
      "cell_type": "code",
      "metadata": {
        "id": "KOxNUQHRL5t_"
      },
      "source": [
        "og_4x4 = ['SFFF',\n",
        "'FHFH',\n",
        "'HFFH',\n",
        "'HFFG']\n",
        "\n"
      ],
      "execution_count": 3,
      "outputs": []
    },
    {
      "cell_type": "code",
      "metadata": {
        "colab": {
          "base_uri": "https://localhost:8080/"
        },
        "id": "W_FdoKdqM0qt",
        "outputId": "9df11e08-e3b1-4941-bd4b-dc3eff40af91"
      },
      "source": [
        "env = gym.make('FrozenLake-v0', is_slippery=False, desc = og_4x4)\n",
        "\n",
        "\n",
        "# visualize 4x4 frozen lake\n",
        "env.render()"
      ],
      "execution_count": 4,
      "outputs": [
        {
          "output_type": "stream",
          "text": [
            "\n",
            "\u001b[41mS\u001b[0mFFF\n",
            "FHFH\n",
            "HFFH\n",
            "HFFG\n"
          ],
          "name": "stdout"
        }
      ]
    },
    {
      "cell_type": "code",
      "metadata": {
        "id": "2U4M9EydYhrn",
        "colab": {
          "base_uri": "https://localhost:8080/"
        },
        "outputId": "1252221c-79c5-45de-bac3-e45b714529da"
      },
      "source": [
        "# Total number of States and Actions\n",
        "n_states = env.observation_space.n\n",
        "n_actions = env.action_space.n\n",
        "n_rows = 4\n",
        "n_cols = 4\n",
        "print( \"States = \", n_states)\n",
        "print( \"Actions = \", n_actions)"
      ],
      "execution_count": 5,
      "outputs": [
        {
          "output_type": "stream",
          "text": [
            "States =  16\n",
            "Actions =  4\n"
          ],
          "name": "stdout"
        }
      ]
    },
    {
      "cell_type": "code",
      "metadata": {
        "id": "dkf7Y6uUZWcT"
      },
      "source": [
        "def restrict_actions(Q, n_states, n_rows):\n",
        "\n",
        "  Q.at[n_states -1, :] = np.zeros(n_rows,)\n",
        "  for i in range( 0, n_states, n_rows): \n",
        "    Q.at[i,0] = np.NaN\n",
        "  for i in range( n_rows -1 , n_states, n_rows): \n",
        "    Q.at[i,2] = np.NaN\n",
        "  for i in range(0, n_rows):\n",
        "    Q.at[i,3] = np.NaN\n",
        "  for i in range(n_states - n_rows , n_states):\n",
        "    Q.at[i,1 ]= np.NaN\n",
        "  \n",
        "  return Q\n",
        "  "
      ],
      "execution_count": 6,
      "outputs": []
    },
    {
      "cell_type": "code",
      "metadata": {
        "id": "WZaLFyMBOtR6"
      },
      "source": [
        "def rewarder(new_state, reward):\n",
        "  if og_4x4[rowsandcols(new_state)[0]][rowsandcols(new_state)[1]]== 'H':\n",
        "    reward -= 20\n",
        "  elif og_4x4[rowsandcols(new_state)[0]][rowsandcols(new_state)[1]]== 'F':\n",
        "    reward -= 1 \n",
        "  elif og_4x4[rowsandcols(new_state)[0]][rowsandcols(new_state)[1]]== 'S':\n",
        "    reward -= 1\n",
        "  else: #goal\n",
        "    reward += 100\n",
        "\n",
        "  return reward"
      ],
      "execution_count": 20,
      "outputs": []
    },
    {
      "cell_type": "code",
      "metadata": {
        "id": "etJ3l_EdNC7E"
      },
      "source": [
        "def choose_action(Q, state, epsilon):\n",
        "  random_for_epsilon = np.random.rand()\n",
        "  if random_for_epsilon <= epsilon:\n",
        "    s = Q.loc[state].notna()\n",
        "    vals = s[s].index.values\n",
        "    action = random.choice(vals)\n",
        "  else: \n",
        "    Q.loc[state] += np.random.rand(n_actions,)/100\n",
        "    action = np.argmax(Q.loc[state])\n",
        "  return action"
      ],
      "execution_count": 7,
      "outputs": []
    },
    {
      "cell_type": "code",
      "metadata": {
        "id": "bc9jRORuNFkd"
      },
      "source": [
        "##assign index to each state using state-matrix\n",
        "\n",
        "state_matrix = np.arange(0,n_states).reshape(n_rows,n_cols)\n",
        "state_matrix\n",
        "\n",
        "def rowsandcols(state):\n",
        "  ''' input: state returned by env\n",
        "      output: location of state as (row,col) tuple'''\n",
        "  return int(np.where(state_matrix ==state)[0]), int(np.where(state_matrix ==state)[1])"
      ],
      "execution_count": 8,
      "outputs": []
    },
    {
      "cell_type": "code",
      "metadata": {
        "id": "_8BCvWMUNTYE"
      },
      "source": [
        "#### Initialize Q-table"
      ],
      "execution_count": 16,
      "outputs": []
    },
    {
      "cell_type": "code",
      "metadata": {
        "id": "DWl1X4Mk30No",
        "colab": {
          "base_uri": "https://localhost:8080/",
          "height": 521
        },
        "outputId": "b2f7e92f-4df0-49bd-97af-65931eaf134f"
      },
      "source": [
        "Q = pd.DataFrame(np.random.rand(n_states,n_actions)/100)\n",
        "Q = restrict_actions(Q, n_states, n_rows)\n",
        "Q"
      ],
      "execution_count": 14,
      "outputs": [
        {
          "output_type": "execute_result",
          "data": {
            "text/html": [
              "<div>\n",
              "<style scoped>\n",
              "    .dataframe tbody tr th:only-of-type {\n",
              "        vertical-align: middle;\n",
              "    }\n",
              "\n",
              "    .dataframe tbody tr th {\n",
              "        vertical-align: top;\n",
              "    }\n",
              "\n",
              "    .dataframe thead th {\n",
              "        text-align: right;\n",
              "    }\n",
              "</style>\n",
              "<table border=\"1\" class=\"dataframe\">\n",
              "  <thead>\n",
              "    <tr style=\"text-align: right;\">\n",
              "      <th></th>\n",
              "      <th>0</th>\n",
              "      <th>1</th>\n",
              "      <th>2</th>\n",
              "      <th>3</th>\n",
              "    </tr>\n",
              "  </thead>\n",
              "  <tbody>\n",
              "    <tr>\n",
              "      <th>0</th>\n",
              "      <td>NaN</td>\n",
              "      <td>0.009704</td>\n",
              "      <td>0.007912</td>\n",
              "      <td>NaN</td>\n",
              "    </tr>\n",
              "    <tr>\n",
              "      <th>1</th>\n",
              "      <td>0.002418</td>\n",
              "      <td>0.007858</td>\n",
              "      <td>0.008347</td>\n",
              "      <td>NaN</td>\n",
              "    </tr>\n",
              "    <tr>\n",
              "      <th>2</th>\n",
              "      <td>0.007688</td>\n",
              "      <td>0.005398</td>\n",
              "      <td>0.001103</td>\n",
              "      <td>NaN</td>\n",
              "    </tr>\n",
              "    <tr>\n",
              "      <th>3</th>\n",
              "      <td>0.004945</td>\n",
              "      <td>0.006627</td>\n",
              "      <td>NaN</td>\n",
              "      <td>NaN</td>\n",
              "    </tr>\n",
              "    <tr>\n",
              "      <th>4</th>\n",
              "      <td>NaN</td>\n",
              "      <td>0.008838</td>\n",
              "      <td>0.002576</td>\n",
              "      <td>0.009868</td>\n",
              "    </tr>\n",
              "    <tr>\n",
              "      <th>5</th>\n",
              "      <td>0.009872</td>\n",
              "      <td>0.002689</td>\n",
              "      <td>0.008649</td>\n",
              "      <td>0.007160</td>\n",
              "    </tr>\n",
              "    <tr>\n",
              "      <th>6</th>\n",
              "      <td>0.003208</td>\n",
              "      <td>0.006021</td>\n",
              "      <td>0.003396</td>\n",
              "      <td>0.000817</td>\n",
              "    </tr>\n",
              "    <tr>\n",
              "      <th>7</th>\n",
              "      <td>0.005538</td>\n",
              "      <td>0.002576</td>\n",
              "      <td>NaN</td>\n",
              "      <td>0.004187</td>\n",
              "    </tr>\n",
              "    <tr>\n",
              "      <th>8</th>\n",
              "      <td>NaN</td>\n",
              "      <td>0.006463</td>\n",
              "      <td>0.002094</td>\n",
              "      <td>0.005003</td>\n",
              "    </tr>\n",
              "    <tr>\n",
              "      <th>9</th>\n",
              "      <td>0.004387</td>\n",
              "      <td>0.008733</td>\n",
              "      <td>0.009086</td>\n",
              "      <td>0.002169</td>\n",
              "    </tr>\n",
              "    <tr>\n",
              "      <th>10</th>\n",
              "      <td>0.000665</td>\n",
              "      <td>0.005462</td>\n",
              "      <td>0.009623</td>\n",
              "      <td>0.005249</td>\n",
              "    </tr>\n",
              "    <tr>\n",
              "      <th>11</th>\n",
              "      <td>0.009778</td>\n",
              "      <td>0.006839</td>\n",
              "      <td>NaN</td>\n",
              "      <td>0.002070</td>\n",
              "    </tr>\n",
              "    <tr>\n",
              "      <th>12</th>\n",
              "      <td>NaN</td>\n",
              "      <td>NaN</td>\n",
              "      <td>0.005256</td>\n",
              "      <td>0.001475</td>\n",
              "    </tr>\n",
              "    <tr>\n",
              "      <th>13</th>\n",
              "      <td>0.007681</td>\n",
              "      <td>NaN</td>\n",
              "      <td>0.009356</td>\n",
              "      <td>0.005757</td>\n",
              "    </tr>\n",
              "    <tr>\n",
              "      <th>14</th>\n",
              "      <td>0.005373</td>\n",
              "      <td>NaN</td>\n",
              "      <td>0.003919</td>\n",
              "      <td>0.001926</td>\n",
              "    </tr>\n",
              "    <tr>\n",
              "      <th>15</th>\n",
              "      <td>0.000000</td>\n",
              "      <td>NaN</td>\n",
              "      <td>NaN</td>\n",
              "      <td>0.000000</td>\n",
              "    </tr>\n",
              "  </tbody>\n",
              "</table>\n",
              "</div>"
            ],
            "text/plain": [
              "           0         1         2         3\n",
              "0        NaN  0.009704  0.007912       NaN\n",
              "1   0.002418  0.007858  0.008347       NaN\n",
              "2   0.007688  0.005398  0.001103       NaN\n",
              "3   0.004945  0.006627       NaN       NaN\n",
              "4        NaN  0.008838  0.002576  0.009868\n",
              "5   0.009872  0.002689  0.008649  0.007160\n",
              "6   0.003208  0.006021  0.003396  0.000817\n",
              "7   0.005538  0.002576       NaN  0.004187\n",
              "8        NaN  0.006463  0.002094  0.005003\n",
              "9   0.004387  0.008733  0.009086  0.002169\n",
              "10  0.000665  0.005462  0.009623  0.005249\n",
              "11  0.009778  0.006839       NaN  0.002070\n",
              "12       NaN       NaN  0.005256  0.001475\n",
              "13  0.007681       NaN  0.009356  0.005757\n",
              "14  0.005373       NaN  0.003919  0.001926\n",
              "15  0.000000       NaN       NaN  0.000000"
            ]
          },
          "metadata": {
            "tags": []
          },
          "execution_count": 14
        }
      ]
    },
    {
      "cell_type": "code",
      "metadata": {
        "id": "Hj5IskDPPcCT"
      },
      "source": [
        "epsilon = 0.8\n",
        "epsilon_final = 0.1\n",
        "epsilon_decay = 0.999\n",
        "gamma = 0.90 # discount factor\n",
        "learning_rate = 0.9 #how important is the difference between q-val from q-table and what's observed"
      ],
      "execution_count": 17,
      "outputs": []
    },
    {
      "cell_type": "code",
      "metadata": {
        "id": "ZZWfuWX-PiV3"
      },
      "source": [
        "num_episodes = 1000\n",
        "steps_total = [] # store number of steps taken in each episode\n",
        "rewards_total = [] #store reward obtained for each episode\n",
        "epsilon_total = [] #store epsilon obtained at the end of each episode\n",
        "terminal_state = []"
      ],
      "execution_count": 18,
      "outputs": []
    },
    {
      "cell_type": "code",
      "metadata": {
        "colab": {
          "base_uri": "https://localhost:8080/"
        },
        "id": "ai7-U-UJQLO7",
        "outputId": "79fa8e48-23bd-4588-e651-b0fd075cd288"
      },
      "source": [
        "for i_episode in range(num_episodes):\n",
        "    \n",
        "    # resets the environment\n",
        "    state = env.reset()\n",
        "    step = 0\n",
        "    reward = 0\n",
        "\n",
        "  ## as epsilon decays with more timesteps, the prob. of selecting a random val < e decays --> more likely to exploit. \n",
        "    if epsilon > epsilon_final:\n",
        "            epsilon *= epsilon_decay\n",
        "\n",
        "    while True:\n",
        "        \n",
        "        step += 1\n",
        "        \n",
        "        random_for_epsilon = np.random.rand()\n",
        "        if random_for_epsilon <= epsilon:\n",
        "          action = env.action_space.sample()\n",
        "        else: \n",
        "          action = np.argmax(Q.loc[state])\n",
        "  \n",
        "         \n",
        "        ## env gives reward and next state and whether we've reached terminal state upon taking action at current state.. \n",
        "        new_state, _ , done, info = env.step(action)\n",
        "\n",
        "        ##if you want reward penalized at for each timestep\n",
        "        reward = rewarder(new_state, reward)\n",
        "\n",
        "        # filling the Q Table - \n",
        "        \n",
        "        Q.loc[state, action] = (1- learning_rate)*Q.at[state, action] + learning_rate*(reward + gamma * np.max(Q.loc[new_state]))\n",
        "        \n",
        "        # Setting new state for next action\n",
        "        state = new_state\n",
        "        tile = og_4x4[rowsandcols(state)[0]][rowsandcols(state)[1]]\n",
        "        #env.render()\n",
        "        \n",
        "        if done:\n",
        "          #print(Q)\n",
        "          \n",
        "          terminal_state.append(tile)\n",
        "          steps_total.append(step)\n",
        "          rewards_total.append(reward)\n",
        "          epsilon_total.append(epsilon)\n",
        "          if i_episode % 10 == 0:\n",
        "            print('Episode: {} Reward: {} Steps Taken: {} Terminal State: {}, Epsilon: {}'.format(i_episode,reward, step, tile, epsilon))\n",
        "          break\n",
        "\n",
        "\n",
        "        "
      ],
      "execution_count": 21,
      "outputs": [
        {
          "output_type": "stream",
          "text": [
            "Episode: 0 Reward: -21 Steps Taken: 2 Terminal State: H, Epsilon: 0.7984008\n",
            "Episode: 10 Reward: -24 Steps Taken: 5 Terminal State: H, Epsilon: 0.7904526243953672\n",
            "Episode: 20 Reward: -35 Steps Taken: 16 Terminal State: H, Epsilon: 0.7825835738309924\n",
            "Episode: 30 Reward: -22 Steps Taken: 3 Terminal State: H, Epsilon: 0.7747928606076214\n",
            "Episode: 40 Reward: -23 Steps Taken: 4 Terminal State: H, Epsilon: 0.7670797048676407\n",
            "Episode: 50 Reward: -29 Steps Taken: 10 Terminal State: H, Epsilon: 0.7594433345170123\n",
            "Episode: 60 Reward: -21 Steps Taken: 2 Terminal State: H, Epsilon: 0.7518829851479871\n",
            "Episode: 70 Reward: -23 Steps Taken: 4 Terminal State: H, Epsilon: 0.744397899962587\n",
            "Episode: 80 Reward: 89 Steps Taken: 12 Terminal State: G, Epsilon: 0.7369873296968477\n",
            "Episode: 90 Reward: -34 Steps Taken: 15 Terminal State: H, Epsilon: 0.7296505325458177\n",
            "Episode: 100 Reward: -31 Steps Taken: 12 Terminal State: H, Epsilon: 0.7223867740893031\n",
            "Episode: 110 Reward: -21 Steps Taken: 2 Terminal State: H, Epsilon: 0.7151953272183504\n",
            "Episode: 120 Reward: -39 Steps Taken: 20 Terminal State: H, Epsilon: 0.7080754720624634\n",
            "Episode: 130 Reward: -23 Steps Taken: 4 Terminal State: H, Epsilon: 0.7010264959175424\n",
            "Episode: 140 Reward: -29 Steps Taken: 10 Terminal State: H, Epsilon: 0.6940476931745428\n",
            "Episode: 150 Reward: -23 Steps Taken: 4 Terminal State: H, Epsilon: 0.6871383652488425\n",
            "Episode: 160 Reward: 92 Steps Taken: 9 Terminal State: G, Epsilon: 0.6802978205103125\n",
            "Episode: 170 Reward: -26 Steps Taken: 7 Terminal State: H, Epsilon: 0.673525374214085\n",
            "Episode: 180 Reward: -23 Steps Taken: 4 Terminal State: H, Epsilon: 0.6668203484320097\n",
            "Episode: 190 Reward: -29 Steps Taken: 10 Terminal State: H, Epsilon: 0.6601820719847916\n",
            "Episode: 200 Reward: -23 Steps Taken: 4 Terminal State: H, Epsilon: 0.6536098803748065\n",
            "Episode: 210 Reward: -23 Steps Taken: 4 Terminal State: H, Epsilon: 0.6471031157195831\n",
            "Episode: 220 Reward: -23 Steps Taken: 4 Terminal State: H, Epsilon: 0.6406611266859495\n",
            "Episode: 230 Reward: -25 Steps Taken: 6 Terminal State: H, Epsilon: 0.6342832684248333\n",
            "Episode: 240 Reward: -33 Steps Taken: 14 Terminal State: H, Epsilon: 0.6279689025067116\n",
            "Episode: 250 Reward: -34 Steps Taken: 15 Terminal State: H, Epsilon: 0.6217173968577043\n",
            "Episode: 260 Reward: 92 Steps Taken: 9 Terminal State: G, Epsilon: 0.6155281256963024\n",
            "Episode: 270 Reward: -21 Steps Taken: 2 Terminal State: H, Epsilon: 0.6094004694707267\n",
            "Episode: 280 Reward: -29 Steps Taken: 10 Terminal State: H, Epsilon: 0.60333381479691\n",
            "Episode: 290 Reward: -21 Steps Taken: 2 Terminal State: H, Epsilon: 0.5973275543970971\n",
            "Episode: 300 Reward: -33 Steps Taken: 14 Terminal State: H, Epsilon: 0.5913810870390559\n",
            "Episode: 310 Reward: -33 Steps Taken: 14 Terminal State: H, Epsilon: 0.5854938174758927\n",
            "Episode: 320 Reward: 81 Steps Taken: 20 Terminal State: G, Epsilon: 0.5796651563864683\n",
            "Episode: 330 Reward: -29 Steps Taken: 10 Terminal State: H, Epsilon: 0.573894520316406\n",
            "Episode: 340 Reward: -25 Steps Taken: 6 Terminal State: H, Epsilon: 0.5681813316196871\n",
            "Episode: 350 Reward: -21 Steps Taken: 2 Terminal State: H, Epsilon: 0.5625250184008282\n",
            "Episode: 360 Reward: -26 Steps Taken: 7 Terminal State: H, Epsilon: 0.5569250144576343\n",
            "Episode: 370 Reward: -24 Steps Taken: 5 Terminal State: H, Epsilon: 0.5513807592245209\n",
            "Episode: 380 Reward: 86 Steps Taken: 15 Terminal State: G, Epsilon: 0.5458916977164009\n",
            "Episode: 390 Reward: -23 Steps Taken: 4 Terminal State: H, Epsilon: 0.5404572804731304\n",
            "Episode: 400 Reward: -24 Steps Taken: 5 Terminal State: H, Epsilon: 0.5350769635045066\n",
            "Episode: 410 Reward: -21 Steps Taken: 2 Terminal State: H, Epsilon: 0.5297502082358152\n",
            "Episode: 420 Reward: -21 Steps Taken: 2 Terminal State: H, Epsilon: 0.5244764814539167\n",
            "Episode: 430 Reward: -21 Steps Taken: 2 Terminal State: H, Epsilon: 0.5192552552538732\n",
            "Episode: 440 Reward: -24 Steps Taken: 5 Terminal State: H, Epsilon: 0.5140860069861032\n",
            "Episode: 450 Reward: 86 Steps Taken: 15 Terminal State: G, Epsilon: 0.5089682192040644\n",
            "Episode: 460 Reward: -29 Steps Taken: 10 Terminal State: H, Epsilon: 0.5039013796124568\n",
            "Episode: 470 Reward: -27 Steps Taken: 8 Terminal State: H, Epsilon: 0.4988849810159418\n",
            "Episode: 480 Reward: -26 Steps Taken: 7 Terminal State: H, Epsilon: 0.49391852126837055\n",
            "Episode: 490 Reward: 95 Steps Taken: 6 Terminal State: G, Epsilon: 0.4890015032225199\n",
            "Episode: 500 Reward: -22 Steps Taken: 3 Terminal State: H, Epsilon: 0.4841334346803266\n",
            "Episode: 510 Reward: -26 Steps Taken: 7 Terminal State: H, Epsilon: 0.47931382834361785\n",
            "Episode: 520 Reward: -32 Steps Taken: 13 Terminal State: H, Epsilon: 0.474542201765333\n",
            "Episode: 530 Reward: -24 Steps Taken: 5 Terminal State: H, Epsilon: 0.46981807730122926\n",
            "Episode: 540 Reward: -24 Steps Taken: 5 Terminal State: H, Epsilon: 0.4651409820620697\n",
            "Episode: 550 Reward: 92 Steps Taken: 9 Terminal State: G, Epsilon: 0.4605104478662864\n",
            "Episode: 560 Reward: -24 Steps Taken: 5 Terminal State: H, Epsilon: 0.455926011193115\n",
            "Episode: 570 Reward: 89 Steps Taken: 12 Terminal State: G, Epsilon: 0.4513872131361959\n",
            "Episode: 580 Reward: -35 Steps Taken: 16 Terminal State: H, Epsilon: 0.44689359935763723\n",
            "Episode: 590 Reward: -21 Steps Taken: 2 Terminal State: H, Epsilon: 0.4424447200425352\n",
            "Episode: 600 Reward: -24 Steps Taken: 5 Terminal State: H, Epsilon: 0.4380401298539474\n",
            "Episode: 610 Reward: -21 Steps Taken: 2 Terminal State: H, Epsilon: 0.4336793878883139\n",
            "Episode: 620 Reward: -23 Steps Taken: 4 Terminal State: H, Epsilon: 0.42936205763132274\n",
            "Episode: 630 Reward: -22 Steps Taken: 3 Terminal State: H, Epsilon: 0.42508770691421394\n",
            "Episode: 640 Reward: 94 Steps Taken: 7 Terminal State: G, Epsilon: 0.42085590787051946\n",
            "Episode: 650 Reward: 93 Steps Taken: 8 Terminal State: G, Epsilon: 0.4166662368932332\n",
            "Episode: 660 Reward: 95 Steps Taken: 6 Terminal State: G, Epsilon: 0.4125182745924076\n",
            "Episode: 670 Reward: -27 Steps Taken: 8 Terminal State: H, Epsilon: 0.40841160575317215\n",
            "Episode: 680 Reward: -21 Steps Taken: 2 Terminal State: H, Epsilon: 0.4043458192941702\n",
            "Episode: 690 Reward: 95 Steps Taken: 6 Terminal State: G, Epsilon: 0.4003205082264092\n",
            "Episode: 700 Reward: -23 Steps Taken: 4 Terminal State: H, Epsilon: 0.3963352696125208\n",
            "Episode: 710 Reward: -23 Steps Taken: 4 Terminal State: H, Epsilon: 0.3923897045264264\n",
            "Episode: 720 Reward: 93 Steps Taken: 8 Terminal State: G, Epsilon: 0.38848341801340425\n",
            "Episode: 730 Reward: 89 Steps Taken: 12 Terminal State: G, Epsilon: 0.38461601905055437\n",
            "Episode: 740 Reward: 93 Steps Taken: 8 Terminal State: G, Epsilon: 0.38078712050765634\n",
            "Episode: 750 Reward: -25 Steps Taken: 6 Terminal State: H, Epsilon: 0.3769963391084175\n",
            "Episode: 760 Reward: -26 Steps Taken: 7 Terminal State: H, Epsilon: 0.37324329539210677\n",
            "Episode: 770 Reward: -26 Steps Taken: 7 Terminal State: H, Epsilon: 0.36952761367556997\n",
            "Episode: 780 Reward: 95 Steps Taken: 6 Terminal State: G, Epsilon: 0.36584892201562375\n",
            "Episode: 790 Reward: 89 Steps Taken: 12 Terminal State: G, Epsilon: 0.36220685217182375\n",
            "Episode: 800 Reward: 89 Steps Taken: 12 Terminal State: G, Epsilon: 0.3586010395696032\n",
            "Episode: 810 Reward: 89 Steps Taken: 12 Terminal State: G, Epsilon: 0.35503112326377895\n",
            "Episode: 820 Reward: -24 Steps Taken: 5 Terminal State: H, Epsilon: 0.35149674590242036\n",
            "Episode: 830 Reward: 91 Steps Taken: 10 Terminal State: G, Epsilon: 0.3479975536910781\n",
            "Episode: 840 Reward: 91 Steps Taken: 10 Terminal State: G, Epsilon: 0.34453319635736884\n",
            "Episode: 850 Reward: 94 Steps Taken: 7 Terminal State: G, Epsilon: 0.3411033271159129\n",
            "Episode: 860 Reward: 90 Steps Taken: 11 Terminal State: G, Epsilon: 0.3377076026336205\n",
            "Episode: 870 Reward: 93 Steps Taken: 8 Terminal State: G, Epsilon: 0.334345682995324\n",
            "Episode: 880 Reward: 92 Steps Taken: 9 Terminal State: G, Epsilon: 0.33101723166975205\n",
            "Episode: 890 Reward: 92 Steps Taken: 9 Terminal State: G, Epsilon: 0.3277219154758421\n",
            "Episode: 900 Reward: 92 Steps Taken: 9 Terminal State: G, Epsilon: 0.32445940454938943\n",
            "Episode: 910 Reward: -25 Steps Taken: 6 Terminal State: H, Epsilon: 0.32122937231002646\n",
            "Episode: 920 Reward: 92 Steps Taken: 9 Terminal State: G, Epsilon: 0.3180314954285327\n",
            "Episode: 930 Reward: 95 Steps Taken: 6 Terminal State: G, Epsilon: 0.3148654537944687\n",
            "Episode: 940 Reward: 95 Steps Taken: 6 Terminal State: G, Epsilon: 0.31173093048413275\n",
            "Episode: 950 Reward: 94 Steps Taken: 7 Terminal State: G, Epsilon: 0.30862761172883657\n",
            "Episode: 960 Reward: -29 Steps Taken: 10 Terminal State: H, Epsilon: 0.3055551868834967\n",
            "Episode: 970 Reward: -25 Steps Taken: 6 Terminal State: H, Epsilon: 0.30251334839553873\n",
            "Episode: 980 Reward: 95 Steps Taken: 6 Terminal State: G, Epsilon: 0.299501791774111\n",
            "Episode: 990 Reward: 93 Steps Taken: 8 Terminal State: G, Epsilon: 0.2965202155596047\n"
          ],
          "name": "stdout"
        }
      ]
    },
    {
      "cell_type": "code",
      "metadata": {
        "id": "UN_tSzGpScxG"
      },
      "source": [
        "%matplotlib inline"
      ],
      "execution_count": 1,
      "outputs": []
    },
    {
      "cell_type": "code",
      "metadata": {
        "colab": {
          "base_uri": "https://localhost:8080/",
          "height": 295
        },
        "id": "NM5W4AlyTapL",
        "outputId": "82a725b1-e38b-4c74-cd7f-1170768a2175"
      },
      "source": [
        "plt.axhline(y=6, color='green', linestyle='-')\n",
        "plt.bar(np.arange(0, 1000), steps_total, \n",
        "        width = 0.4, color = 'blue')\n",
        "plt.xlabel('episode index')\n",
        "plt.ylabel('number of steps taken')\n",
        "plt.title(' Restricted 4x4 Negative Rewards')\n",
        "plt.show()"
      ],
      "execution_count": 25,
      "outputs": [
        {
          "output_type": "display_data",
          "data": {
            "image/png": "[encoded data removed]",
            "text/plain": [
              "<Figure size 432x288 with 1 Axes>"
            ]
          },
          "metadata": {
            "tags": [],
            "needs_background": "light"
          }
        }
      ]
    },
    {
      "cell_type": "code",
      "metadata": {
        "colab": {
          "base_uri": "https://localhost:8080/",
          "height": 312
        },
        "id": "LsbOjyv7O5l7",
        "outputId": "288eac2a-3ebd-47cf-a856-6c6e5f60ac74"
      },
      "source": [
        "plt.scatter(np.arange(0, 1000), rewards_total, s = 0.5, color = 'blue')\n",
        "plt.title('Restricted 4x4 Negative Rewards')\n",
        "plt.xlabel('episode')\n",
        "plt.ylabel('reward')"
      ],
      "execution_count": 24,
      "outputs": [
        {
          "output_type": "execute_result",
          "data": {
            "text/plain": [
              "Text(0, 0.5, 'reward')"
            ]
          },
          "metadata": {
            "tags": []
          },
          "execution_count": 24
        },
        {
          "output_type": "display_data",
          "data": {
            "image/png": "[encoded data removed]",
            "text/plain": [
              "<Figure size 432x288 with 1 Axes>"
            ]
          },
          "metadata": {
            "tags": [],
            "needs_background": "light"
          }
        }
      ]
    },
    {
      "cell_type": "code",
      "metadata": {
        "colab": {
          "base_uri": "https://localhost:8080/",
          "height": 521
        },
        "id": "Ja-cT6K1O9VW",
        "outputId": "bf7bbcec-e5dd-4b59-bbe1-2dfd33f49b8f"
      },
      "source": [
        "Q"
      ],
      "execution_count": 27,
      "outputs": [
        {
          "output_type": "execute_result",
          "data": {
            "text/html": [
              "<div>\n",
              "<style scoped>\n",
              "    .dataframe tbody tr th:only-of-type {\n",
              "        vertical-align: middle;\n",
              "    }\n",
              "\n",
              "    .dataframe tbody tr th {\n",
              "        vertical-align: top;\n",
              "    }\n",
              "\n",
              "    .dataframe thead th {\n",
              "        text-align: right;\n",
              "    }\n",
              "</style>\n",
              "<table border=\"1\" class=\"dataframe\">\n",
              "  <thead>\n",
              "    <tr style=\"text-align: right;\">\n",
              "      <th></th>\n",
              "      <th>0</th>\n",
              "      <th>1</th>\n",
              "      <th>2</th>\n",
              "      <th>3</th>\n",
              "    </tr>\n",
              "  </thead>\n",
              "  <tbody>\n",
              "    <tr>\n",
              "      <th>0</th>\n",
              "      <td>NaN</td>\n",
              "      <td>28.125687</td>\n",
              "      <td>40.247988</td>\n",
              "      <td>NaN</td>\n",
              "    </tr>\n",
              "    <tr>\n",
              "      <th>1</th>\n",
              "      <td>31.533015</td>\n",
              "      <td>-24.774719</td>\n",
              "      <td>47.239076</td>\n",
              "      <td>NaN</td>\n",
              "    </tr>\n",
              "    <tr>\n",
              "      <th>2</th>\n",
              "      <td>34.191449</td>\n",
              "      <td>56.482323</td>\n",
              "      <td>30.150683</td>\n",
              "      <td>NaN</td>\n",
              "    </tr>\n",
              "    <tr>\n",
              "      <th>3</th>\n",
              "      <td>44.720851</td>\n",
              "      <td>-24.887856</td>\n",
              "      <td>NaN</td>\n",
              "      <td>NaN</td>\n",
              "    </tr>\n",
              "    <tr>\n",
              "      <th>4</th>\n",
              "      <td>NaN</td>\n",
              "      <td>-21.021211</td>\n",
              "      <td>-21.892915</td>\n",
              "      <td>32.201386</td>\n",
              "    </tr>\n",
              "    <tr>\n",
              "      <th>5</th>\n",
              "      <td>0.009872</td>\n",
              "      <td>0.002689</td>\n",
              "      <td>0.008649</td>\n",
              "      <td>0.007160</td>\n",
              "    </tr>\n",
              "    <tr>\n",
              "      <th>6</th>\n",
              "      <td>-23.020096</td>\n",
              "      <td>66.289111</td>\n",
              "      <td>-23.113817</td>\n",
              "      <td>36.968893</td>\n",
              "    </tr>\n",
              "    <tr>\n",
              "      <th>7</th>\n",
              "      <td>0.005538</td>\n",
              "      <td>0.002576</td>\n",
              "      <td>NaN</td>\n",
              "      <td>0.004187</td>\n",
              "    </tr>\n",
              "    <tr>\n",
              "      <th>8</th>\n",
              "      <td>NaN</td>\n",
              "      <td>0.006463</td>\n",
              "      <td>0.002094</td>\n",
              "      <td>0.005003</td>\n",
              "    </tr>\n",
              "    <tr>\n",
              "      <th>9</th>\n",
              "      <td>-28.997774</td>\n",
              "      <td>45.755527</td>\n",
              "      <td>64.094528</td>\n",
              "      <td>-26.143771</td>\n",
              "    </tr>\n",
              "    <tr>\n",
              "      <th>10</th>\n",
              "      <td>49.430878</td>\n",
              "      <td>77.006806</td>\n",
              "      <td>-24.180832</td>\n",
              "      <td>52.555841</td>\n",
              "    </tr>\n",
              "    <tr>\n",
              "      <th>11</th>\n",
              "      <td>0.009778</td>\n",
              "      <td>0.006839</td>\n",
              "      <td>NaN</td>\n",
              "      <td>0.002070</td>\n",
              "    </tr>\n",
              "    <tr>\n",
              "      <th>12</th>\n",
              "      <td>NaN</td>\n",
              "      <td>NaN</td>\n",
              "      <td>0.005256</td>\n",
              "      <td>0.001475</td>\n",
              "    </tr>\n",
              "    <tr>\n",
              "      <th>13</th>\n",
              "      <td>-28.086349</td>\n",
              "      <td>NaN</td>\n",
              "      <td>75.801284</td>\n",
              "      <td>41.947965</td>\n",
              "    </tr>\n",
              "    <tr>\n",
              "      <th>14</th>\n",
              "      <td>61.368580</td>\n",
              "      <td>NaN</td>\n",
              "      <td>93.017910</td>\n",
              "      <td>58.056686</td>\n",
              "    </tr>\n",
              "    <tr>\n",
              "      <th>15</th>\n",
              "      <td>0.000000</td>\n",
              "      <td>NaN</td>\n",
              "      <td>NaN</td>\n",
              "      <td>0.000000</td>\n",
              "    </tr>\n",
              "  </tbody>\n",
              "</table>\n",
              "</div>"
            ],
            "text/plain": [
              "            0          1          2          3\n",
              "0         NaN  28.125687  40.247988        NaN\n",
              "1   31.533015 -24.774719  47.239076        NaN\n",
              "2   34.191449  56.482323  30.150683        NaN\n",
              "3   44.720851 -24.887856        NaN        NaN\n",
              "4         NaN -21.021211 -21.892915  32.201386\n",
              "5    0.009872   0.002689   0.008649   0.007160\n",
              "6  -23.020096  66.289111 -23.113817  36.968893\n",
              "7    0.005538   0.002576        NaN   0.004187\n",
              "8         NaN   0.006463   0.002094   0.005003\n",
              "9  -28.997774  45.755527  64.094528 -26.143771\n",
              "10  49.430878  77.006806 -24.180832  52.555841\n",
              "11   0.009778   0.006839        NaN   0.002070\n",
              "12        NaN        NaN   0.005256   0.001475\n",
              "13 -28.086349        NaN  75.801284  41.947965\n",
              "14  61.368580        NaN  93.017910  58.056686\n",
              "15   0.000000        NaN        NaN   0.000000"
            ]
          },
          "metadata": {
            "tags": []
          },
          "execution_count": 27
        }
      ]
    },
    {
      "cell_type": "code",
      "metadata": {
        "id": "dVwtWKmEPT89"
      },
      "source": [
        ""
      ],
      "execution_count": null,
      "outputs": []
    }
  ]
}