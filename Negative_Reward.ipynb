{
  "nbformat": 4,
  "nbformat_minor": 0,
  "metadata": {
    "kernelspec": {
      "display_name": "Python 3",
      "language": "python",
      "name": "python3"
    },
    "language_info": {
      "codemirror_mode": {
        "name": "ipython",
        "version": 3
      },
      "file_extension": ".py",
      "mimetype": "text/x-python",
      "name": "python",
      "nbconvert_exporter": "python",
      "pygments_lexer": "ipython3",
      "version": "3.8.5"
    },
    "colab": {
      "name": "Negative_Reward.ipynb",
      "provenance": []
    }
  },
  "cells": [
    {
      "cell_type": "markdown",
      "metadata": {
        "id": "7A7fa1WMOMwC"
      },
      "source": [
        "# Frozen Lake\n"
      ]
    },
    {
      "cell_type": "markdown",
      "metadata": {
        "id": "JPAWi834Wic3"
      },
      "source": [
        "#### Import all requirements"
      ]
    },
    {
      "cell_type": "code",
      "metadata": {
        "id": "GutUwuMaOMwE"
      },
      "source": [
        "import gym"
      ],
      "execution_count": 1,
      "outputs": []
    },
    {
      "cell_type": "code",
      "metadata": {
        "id": "ODCLU5bEOMwF"
      },
      "source": [
        "import torch\n",
        "import time\n",
        "import matplotlib.pyplot as plt"
      ],
      "execution_count": 2,
      "outputs": []
    },
    {
      "cell_type": "code",
      "metadata": {
        "id": "__tL16A-OMwQ"
      },
      "source": [
        "import numpy as np\n",
        "import random"
      ],
      "execution_count": 3,
      "outputs": []
    },
    {
      "cell_type": "code",
      "metadata": {
        "id": "yy5GLvJLOMwG"
      },
      "source": [
        "og_4x4 = ['SFFF',\n",
        "'FHFH',\n",
        "'FFFH',\n",
        "'HFFG']"
      ],
      "execution_count": 106,
      "outputs": []
    },
    {
      "cell_type": "code",
      "metadata": {
        "_cell_guid": "79c7e3d0-c299-4dcb-8224-4455121ee9b0",
        "_uuid": "d629ff2d2480ee46fbb7e2d37f6b5fab8052498a",
        "scrolled": true,
        "colab": {
          "base_uri": "https://localhost:8080/"
        },
        "id": "PCJLBfV9OMwG",
        "outputId": "30c2fada-1b95-4c15-c406-0e6443a43237"
      },
      "source": [
        "\n",
        "env = gym.make('FrozenLakeNotSlippery-v0', is_slippery=False, desc = og_4x4)\n",
        "\n",
        "\n",
        "# visualize 4x4 frozen lake\n",
        "env.render()"
      ],
      "execution_count": 107,
      "outputs": [
        {
          "output_type": "stream",
          "text": [
            "\n",
            "\u001b[41mS\u001b[0mFFF\n",
            "FHFH\n",
            "FFFH\n",
            "HFFG\n"
          ],
          "name": "stdout"
        }
      ]
    },
    {
      "cell_type": "code",
      "metadata": {
        "colab": {
          "base_uri": "https://localhost:8080/"
        },
        "id": "iKqlHWnqOMwH",
        "outputId": "109bd483-1fa3-4832-8784-919cf18b7192"
      },
      "source": [
        "# Total number of States and Actions\n",
        "n_states = env.observation_space.n\n",
        "n_actions = env.action_space.n\n",
        "n_rows = 4\n",
        "n_cols = 4\n",
        "print( \"States = \", n_states)\n",
        "print( \"Actions = \", n_actions)"
      ],
      "execution_count": 108,
      "outputs": [
        {
          "output_type": "stream",
          "text": [
            "States =  16\n",
            "Actions =  4\n"
          ],
          "name": "stdout"
        }
      ]
    },
    {
      "cell_type": "code",
      "metadata": {
        "id": "n3dhzIe7OMwQ"
      },
      "source": [
        "# Start with 80% random actions to explore the environment\n",
        "# exploration decays with each timestep by a factor of 0.999 until it hits 10% exploration rate \n",
        "\n",
        "epsilon = 0.8\n",
        "epsilon_final = 0.1\n",
        "epsilon_decay = 0.999"
      ],
      "execution_count": 109,
      "outputs": []
    },
    {
      "cell_type": "code",
      "metadata": {
        "id": "GK5pin0tOMwQ"
      },
      "source": [
        "gamma = 0.90 # discount factor\n",
        "learning_rate = 0.9 #how important is the difference between q-val from q-table and what's observed"
      ],
      "execution_count": 110,
      "outputs": []
    },
    {
      "cell_type": "markdown",
      "metadata": {
        "id": "_ldMGZY_hRwH"
      },
      "source": [
        "#### Initialize Q-table"
      ]
    },
    {
      "cell_type": "code",
      "metadata": {
        "id": "OkPze6AvWNj6"
      },
      "source": [
        "import pandas as pd"
      ],
      "execution_count": 45,
      "outputs": []
    },
    {
      "cell_type": "code",
      "metadata": {
        "id": "RE2O7eUHsRmz"
      },
      "source": [
        "Q = pd.DataFrame(np.zeros((16,4)))"
      ],
      "execution_count": 111,
      "outputs": []
    },
    {
      "cell_type": "code",
      "metadata": {
        "id": "5chvADGMW7FQ"
      },
      "source": [
        "##assign index to each state using state-matrix\n",
        "\n",
        "state_matrix = np.arange(0,16).reshape(4,4)\n",
        "state_matrix\n",
        "\n",
        "def rowsandcols(state):\n",
        "  ''' input: state returned by env\n",
        "      output: location of state as (row,col) tuple'''\n",
        "  return int(np.where(state_matrix ==state)[0]), int(np.where(state_matrix ==state)[1])"
      ],
      "execution_count": 112,
      "outputs": []
    },
    {
      "cell_type": "code",
      "metadata": {
        "id": "WOatlcLRMyfM"
      },
      "source": [
        "num_episodes = 1000\n",
        "steps_total = [] # store number of steps taken in each episode\n",
        "rewards_total = [] #store reward obtained for each episode\n",
        "epsilon_total = [] #store epsilon obtained at the end of each episode"
      ],
      "execution_count": 113,
      "outputs": []
    },
    {
      "cell_type": "markdown",
      "metadata": {
        "id": "bBD20yPcOMwR"
      },
      "source": [
        "## q learning"
      ]
    },
    {
      "cell_type": "code",
      "metadata": {
        "colab": {
          "base_uri": "https://localhost:8080/"
        },
        "id": "eKW0FxCaOMwR",
        "outputId": "f6cf3ed3-279a-46cc-c4d1-5a0e3b494878"
      },
      "source": [
        "for i_episode in range(num_episodes):\n",
        "    \n",
        "    # resets the environment\n",
        "    state = env.reset()\n",
        "    step = 0\n",
        "    reward = 0\n",
        "\n",
        "    while True:\n",
        "        \n",
        "        step += 1\n",
        "        \n",
        "        \n",
        "        \n",
        "        ## generating a random num\n",
        "        random_for_epsilon = np.random.rand()\n",
        "        \n",
        "        ## if random num lesser or equal to epsilon, then select random action\n",
        "        if random_for_epsilon <= epsilon:     \n",
        "            action = env.action_space.sample()   ##replace with choose_random_action(state) for action with restrictions\n",
        "        \n",
        "        ## else update q-vals for given state with infitismly small random nums and select argmax(a) for Q(s,a)\n",
        "        else: \n",
        "            Q.loc[state] += np.random.rand(n_actions,)/1000\n",
        "            action =  np.argmax(Q.loc[state])\n",
        "        \n",
        "        \n",
        "        ## as epsilon decays with more timesteps, the prob. of selecting a random val < e decays --> more likely to exploit.     \n",
        "        if epsilon > epsilon_final:\n",
        "            epsilon *= epsilon_decay\n",
        "        \n",
        "        ## env gives reward and next state and whether we've reached terminal state upon taking action at current state.. \n",
        "        new_state, _ , done, info = env.step(action)\n",
        "\n",
        "\n",
        "        ##if you want reward penalized at for each timestep\n",
        "        if og_4x4[rowsandcols(new_state)[0]][rowsandcols(new_state)[1]]== 'H':\n",
        "          reward -= 2\n",
        "        elif og_4x4[rowsandcols(new_state)[0]][rowsandcols(new_state)[1]]== 'F':\n",
        "          reward -= 1 \n",
        "        elif og_4x4[rowsandcols(new_state)[0]][rowsandcols(new_state)[1]]== 'S':\n",
        "          reward -= 1\n",
        "        else:\n",
        "          reward += 15\n",
        "\n",
        "\n",
        "\n",
        "        # filling the Q Table - \n",
        "        Q.loc[state][action] = (1- learning_rate)*Q.loc[state][action] + learning_rate*(reward + gamma * np.max(Q.loc[new_state]))\n",
        "        \n",
        "        # Setting new state for next action\n",
        "        state = new_state\n",
        "        \n",
        "        # env.render()\n",
        "        \n",
        "        if done:\n",
        "            steps_total.append(step)\n",
        "            rewards_total.append(reward)\n",
        "            epsilon_total.append(epsilon)\n",
        "            if i_episode % 10 == 0:\n",
        "                print('Episode: {} Reward: {} Steps Taken: {}'.format(i_episode,reward, step, epsilon))\n",
        "            break"
      ],
      "execution_count": 114,
      "outputs": [
        {
          "output_type": "stream",
          "text": [
            "Episode: 0 Reward: -4 Steps Taken: 3\n",
            "Episode: 10 Reward: -5 Steps Taken: 4\n",
            "Episode: 20 Reward: -8 Steps Taken: 7\n",
            "Episode: 30 Reward: -4 Steps Taken: 3\n",
            "Episode: 40 Reward: -3 Steps Taken: 2\n",
            "Episode: 50 Reward: -4 Steps Taken: 3\n",
            "Episode: 60 Reward: -3 Steps Taken: 2\n",
            "Episode: 70 Reward: -3 Steps Taken: 2\n",
            "Episode: 80 Reward: -3 Steps Taken: 2\n",
            "Episode: 90 Reward: -8 Steps Taken: 7\n",
            "Episode: 100 Reward: -3 Steps Taken: 2\n",
            "Episode: 110 Reward: -7 Steps Taken: 6\n",
            "Episode: 120 Reward: -3 Steps Taken: 2\n",
            "Episode: 130 Reward: -5 Steps Taken: 4\n",
            "Episode: 140 Reward: -5 Steps Taken: 4\n",
            "Episode: 150 Reward: -7 Steps Taken: 6\n",
            "Episode: 160 Reward: -3 Steps Taken: 2\n",
            "Episode: 170 Reward: -3 Steps Taken: 2\n",
            "Episode: 180 Reward: -10 Steps Taken: 9\n",
            "Episode: 190 Reward: -3 Steps Taken: 2\n",
            "Episode: 200 Reward: -5 Steps Taken: 4\n",
            "Episode: 210 Reward: -13 Steps Taken: 12\n",
            "Episode: 220 Reward: -3 Steps Taken: 2\n",
            "Episode: 230 Reward: -3 Steps Taken: 2\n",
            "Episode: 240 Reward: -3 Steps Taken: 2\n",
            "Episode: 250 Reward: -9 Steps Taken: 8\n",
            "Episode: 260 Reward: -4 Steps Taken: 3\n",
            "Episode: 270 Reward: -8 Steps Taken: 7\n",
            "Episode: 280 Reward: -4 Steps Taken: 3\n",
            "Episode: 290 Reward: -3 Steps Taken: 2\n",
            "Episode: 300 Reward: -6 Steps Taken: 5\n",
            "Episode: 310 Reward: -3 Steps Taken: 2\n",
            "Episode: 320 Reward: -6 Steps Taken: 5\n",
            "Episode: 330 Reward: -5 Steps Taken: 4\n",
            "Episode: 340 Reward: -5 Steps Taken: 4\n",
            "Episode: 350 Reward: -3 Steps Taken: 2\n",
            "Episode: 360 Reward: -3 Steps Taken: 2\n",
            "Episode: 370 Reward: -3 Steps Taken: 2\n",
            "Episode: 380 Reward: -3 Steps Taken: 2\n",
            "Episode: 390 Reward: -3 Steps Taken: 2\n",
            "Episode: 400 Reward: -3 Steps Taken: 2\n",
            "Episode: 410 Reward: -3 Steps Taken: 2\n",
            "Episode: 420 Reward: -5 Steps Taken: 4\n",
            "Episode: 430 Reward: -3 Steps Taken: 2\n",
            "Episode: 440 Reward: -3 Steps Taken: 2\n",
            "Episode: 450 Reward: -3 Steps Taken: 2\n",
            "Episode: 460 Reward: -3 Steps Taken: 2\n",
            "Episode: 470 Reward: -4 Steps Taken: 3\n",
            "Episode: 480 Reward: -4 Steps Taken: 3\n",
            "Episode: 490 Reward: -3 Steps Taken: 2\n",
            "Episode: 500 Reward: -3 Steps Taken: 2\n",
            "Episode: 510 Reward: -5 Steps Taken: 4\n",
            "Episode: 520 Reward: -3 Steps Taken: 2\n",
            "Episode: 530 Reward: -4 Steps Taken: 3\n",
            "Episode: 540 Reward: -7 Steps Taken: 6\n",
            "Episode: 550 Reward: -4 Steps Taken: 3\n",
            "Episode: 560 Reward: -3 Steps Taken: 2\n",
            "Episode: 570 Reward: -3 Steps Taken: 2\n",
            "Episode: 580 Reward: -3 Steps Taken: 2\n",
            "Episode: 590 Reward: -3 Steps Taken: 2\n",
            "Episode: 600 Reward: -3 Steps Taken: 2\n",
            "Episode: 610 Reward: -3 Steps Taken: 2\n",
            "Episode: 620 Reward: -3 Steps Taken: 2\n",
            "Episode: 630 Reward: -3 Steps Taken: 2\n",
            "Episode: 640 Reward: -4 Steps Taken: 3\n",
            "Episode: 650 Reward: -3 Steps Taken: 2\n",
            "Episode: 660 Reward: -3 Steps Taken: 2\n",
            "Episode: 670 Reward: -3 Steps Taken: 2\n",
            "Episode: 680 Reward: -3 Steps Taken: 2\n",
            "Episode: 690 Reward: -3 Steps Taken: 2\n",
            "Episode: 700 Reward: -4 Steps Taken: 3\n",
            "Episode: 710 Reward: -3 Steps Taken: 2\n",
            "Episode: 720 Reward: -3 Steps Taken: 2\n",
            "Episode: 730 Reward: -3 Steps Taken: 2\n",
            "Episode: 740 Reward: -3 Steps Taken: 2\n",
            "Episode: 750 Reward: -3 Steps Taken: 2\n",
            "Episode: 760 Reward: -7 Steps Taken: 6\n",
            "Episode: 770 Reward: -4 Steps Taken: 3\n",
            "Episode: 780 Reward: -4 Steps Taken: 3\n",
            "Episode: 790 Reward: -4 Steps Taken: 3\n",
            "Episode: 800 Reward: -3 Steps Taken: 2\n",
            "Episode: 810 Reward: -3 Steps Taken: 2\n",
            "Episode: 820 Reward: -3 Steps Taken: 2\n",
            "Episode: 830 Reward: -3 Steps Taken: 2\n",
            "Episode: 840 Reward: -3 Steps Taken: 2\n",
            "Episode: 850 Reward: -6 Steps Taken: 5\n",
            "Episode: 860 Reward: -3 Steps Taken: 2\n",
            "Episode: 870 Reward: -3 Steps Taken: 2\n",
            "Episode: 880 Reward: -3 Steps Taken: 2\n",
            "Episode: 890 Reward: -3 Steps Taken: 2\n",
            "Episode: 900 Reward: -3 Steps Taken: 2\n",
            "Episode: 910 Reward: -3 Steps Taken: 2\n",
            "Episode: 920 Reward: -3 Steps Taken: 2\n",
            "Episode: 930 Reward: -3 Steps Taken: 2\n",
            "Episode: 940 Reward: -3 Steps Taken: 2\n",
            "Episode: 950 Reward: -3 Steps Taken: 2\n",
            "Episode: 960 Reward: -3 Steps Taken: 2\n",
            "Episode: 970 Reward: -3 Steps Taken: 2\n",
            "Episode: 980 Reward: -3 Steps Taken: 2\n",
            "Episode: 990 Reward: -3 Steps Taken: 2\n"
          ],
          "name": "stdout"
        }
      ]
    },
    {
      "cell_type": "code",
      "metadata": {
        "id": "ZwwgWCvKOMwS"
      },
      "source": [
        "import matplotlib.pyplot as plt\n",
        "import seaborn as sns "
      ],
      "execution_count": null,
      "outputs": []
    },
    {
      "cell_type": "code",
      "metadata": {
        "colab": {
          "base_uri": "https://localhost:8080/",
          "height": 312
        },
        "id": "p-LiaalROMwS",
        "outputId": "ba9803d2-d466-45c7-8030-92c11fd8ab17"
      },
      "source": [
        "plt.axhline(y=6, color='green', linestyle='-')\n",
        "plt.bar(np.arange(0, 1000), steps_total, \n",
        "        width = 0.4, color = 'blue')\n",
        "plt.xlabel('episode index')\n",
        "plt.ylabel('number of steps taken')\n",
        "plt.title('4x4')"
      ],
      "execution_count": 115,
      "outputs": [
        {
          "output_type": "execute_result",
          "data": {
            "text/plain": [
              "Text(0.5, 1.0, '4x4')"
            ]
          },
          "metadata": {
            "tags": []
          },
          "execution_count": 115
        },
        {
          "output_type": "display_data",
          "data": {
            "image/png": "[encoded data removed]",
            "text/plain": [
              "<Figure size 432x288 with 1 Axes>"
            ]
          },
          "metadata": {
            "tags": [],
            "needs_background": "light"
          }
        }
      ]
    },
    {
      "cell_type": "code",
      "metadata": {
        "colab": {
          "base_uri": "https://localhost:8080/",
          "height": 312
        },
        "id": "aB_VRjXaYRh8",
        "outputId": "4e14f3d6-c640-4460-829e-348e41ab3aa9"
      },
      "source": [
        "\n",
        "plt.scatter(np.arange(0, 1000), rewards_total, s = 0.5, color = 'blue')\n",
        "plt.title('4x4 rewards for restricted actions')\n",
        "plt.xlabel('episode')\n",
        "plt.ylabel('reward')"
      ],
      "execution_count": 120,
      "outputs": [
        {
          "output_type": "execute_result",
          "data": {
            "text/plain": [
              "Text(0, 0.5, 'reward')"
            ]
          },
          "metadata": {
            "tags": []
          },
          "execution_count": 120
        },
        {
          "output_type": "display_data",
          "data": {
            "image/png": "[encoded data removed]",
            "text/plain": [
              "<Figure size 432x288 with 1 Axes>"
            ]
          },
          "metadata": {
            "tags": [],
            "needs_background": "light"
          }
        }
      ]
    },
    {
      "cell_type": "code",
      "metadata": {
        "id": "IezG0HJnOMwS",
        "colab": {
          "base_uri": "https://localhost:8080/",
          "height": 521
        },
        "outputId": "763da28c-c82c-4ccc-d9d2-c86ff9dfc6c1"
      },
      "source": [
        "Q"
      ],
      "execution_count": 119,
      "outputs": [
        {
          "output_type": "execute_result",
          "data": {
            "text/html": [
              "<div>\n",
              "<style scoped>\n",
              "    .dataframe tbody tr th:only-of-type {\n",
              "        vertical-align: middle;\n",
              "    }\n",
              "\n",
              "    .dataframe tbody tr th {\n",
              "        vertical-align: top;\n",
              "    }\n",
              "\n",
              "    .dataframe thead th {\n",
              "        text-align: right;\n",
              "    }\n",
              "</style>\n",
              "<table border=\"1\" class=\"dataframe\">\n",
              "  <thead>\n",
              "    <tr style=\"text-align: right;\">\n",
              "      <th></th>\n",
              "      <th>0</th>\n",
              "      <th>1</th>\n",
              "      <th>2</th>\n",
              "      <th>3</th>\n",
              "    </tr>\n",
              "  </thead>\n",
              "  <tbody>\n",
              "    <tr>\n",
              "      <th>0</th>\n",
              "      <td>-5.022586</td>\n",
              "      <td>-3.699968</td>\n",
              "      <td>-6.383769</td>\n",
              "      <td>-6.128808</td>\n",
              "    </tr>\n",
              "    <tr>\n",
              "      <th>1</th>\n",
              "      <td>-5.599460</td>\n",
              "      <td>-5.699954</td>\n",
              "      <td>-11.466937</td>\n",
              "      <td>-6.571508</td>\n",
              "    </tr>\n",
              "    <tr>\n",
              "      <th>2</th>\n",
              "      <td>-16.884579</td>\n",
              "      <td>-10.060795</td>\n",
              "      <td>-14.505844</td>\n",
              "      <td>-15.792738</td>\n",
              "    </tr>\n",
              "    <tr>\n",
              "      <th>3</th>\n",
              "      <td>-15.358793</td>\n",
              "      <td>-12.239366</td>\n",
              "      <td>-21.065182</td>\n",
              "      <td>-16.291595</td>\n",
              "    </tr>\n",
              "    <tr>\n",
              "      <th>4</th>\n",
              "      <td>-4.844728</td>\n",
              "      <td>-6.418678</td>\n",
              "      <td>-2.999964</td>\n",
              "      <td>-5.354415</td>\n",
              "    </tr>\n",
              "    <tr>\n",
              "      <th>5</th>\n",
              "      <td>0.000000</td>\n",
              "      <td>0.000000</td>\n",
              "      <td>0.000000</td>\n",
              "      <td>0.000000</td>\n",
              "    </tr>\n",
              "    <tr>\n",
              "      <th>6</th>\n",
              "      <td>-8.686936</td>\n",
              "      <td>-11.417545</td>\n",
              "      <td>-6.080824</td>\n",
              "      <td>-18.450415</td>\n",
              "    </tr>\n",
              "    <tr>\n",
              "      <th>7</th>\n",
              "      <td>0.000000</td>\n",
              "      <td>0.000000</td>\n",
              "      <td>0.000000</td>\n",
              "      <td>0.000000</td>\n",
              "    </tr>\n",
              "    <tr>\n",
              "      <th>8</th>\n",
              "      <td>-8.842767</td>\n",
              "      <td>-4.090117</td>\n",
              "      <td>-9.340489</td>\n",
              "      <td>-6.643465</td>\n",
              "    </tr>\n",
              "    <tr>\n",
              "      <th>9</th>\n",
              "      <td>-21.516233</td>\n",
              "      <td>-9.475307</td>\n",
              "      <td>-15.478785</td>\n",
              "      <td>-6.803937</td>\n",
              "    </tr>\n",
              "    <tr>\n",
              "      <th>10</th>\n",
              "      <td>-17.871067</td>\n",
              "      <td>-4.580879</td>\n",
              "      <td>-12.598111</td>\n",
              "      <td>-21.858890</td>\n",
              "    </tr>\n",
              "    <tr>\n",
              "      <th>11</th>\n",
              "      <td>0.000000</td>\n",
              "      <td>0.000000</td>\n",
              "      <td>0.000000</td>\n",
              "      <td>0.000000</td>\n",
              "    </tr>\n",
              "    <tr>\n",
              "      <th>12</th>\n",
              "      <td>0.000000</td>\n",
              "      <td>0.000000</td>\n",
              "      <td>0.000000</td>\n",
              "      <td>0.000000</td>\n",
              "    </tr>\n",
              "    <tr>\n",
              "      <th>13</th>\n",
              "      <td>-8.099158</td>\n",
              "      <td>-10.230536</td>\n",
              "      <td>-6.209899</td>\n",
              "      <td>-9.899648</td>\n",
              "    </tr>\n",
              "    <tr>\n",
              "      <th>14</th>\n",
              "      <td>-8.997780</td>\n",
              "      <td>-6.298875</td>\n",
              "      <td>4.590077</td>\n",
              "      <td>-7.198661</td>\n",
              "    </tr>\n",
              "    <tr>\n",
              "      <th>15</th>\n",
              "      <td>0.000000</td>\n",
              "      <td>0.000000</td>\n",
              "      <td>0.000000</td>\n",
              "      <td>0.000000</td>\n",
              "    </tr>\n",
              "  </tbody>\n",
              "</table>\n",
              "</div>"
            ],
            "text/plain": [
              "            0          1          2          3\n",
              "0   -5.022586  -3.699968  -6.383769  -6.128808\n",
              "1   -5.599460  -5.699954 -11.466937  -6.571508\n",
              "2  -16.884579 -10.060795 -14.505844 -15.792738\n",
              "3  -15.358793 -12.239366 -21.065182 -16.291595\n",
              "4   -4.844728  -6.418678  -2.999964  -5.354415\n",
              "5    0.000000   0.000000   0.000000   0.000000\n",
              "6   -8.686936 -11.417545  -6.080824 -18.450415\n",
              "7    0.000000   0.000000   0.000000   0.000000\n",
              "8   -8.842767  -4.090117  -9.340489  -6.643465\n",
              "9  -21.516233  -9.475307 -15.478785  -6.803937\n",
              "10 -17.871067  -4.580879 -12.598111 -21.858890\n",
              "11   0.000000   0.000000   0.000000   0.000000\n",
              "12   0.000000   0.000000   0.000000   0.000000\n",
              "13  -8.099158 -10.230536  -6.209899  -9.899648\n",
              "14  -8.997780  -6.298875   4.590077  -7.198661\n",
              "15   0.000000   0.000000   0.000000   0.000000"
            ]
          },
          "metadata": {
            "tags": []
          },
          "execution_count": 119
        }
      ]
    }
  ]
}